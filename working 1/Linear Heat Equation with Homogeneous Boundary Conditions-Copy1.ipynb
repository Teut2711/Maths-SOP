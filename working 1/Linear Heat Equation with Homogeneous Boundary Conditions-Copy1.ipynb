{
 "cells": [
  {
   "cell_type": "markdown",
   "metadata": {},
   "source": [
    "# X, Error \n",
    "### [[4, 9.266569064342626], \n",
    "### [8, 4.691634722238834], \n",
    "### [16, 2.3540305868408007], \n",
    "### [32, 1.1777906331299344],\n",
    "### [64, 0.5889869374462385], \n",
    "### [128, 0.29447194065679233], \n",
    "### [256, 0.14728099599790476], \n",
    "### [512, 0.07368844371073896],\n",
    "### [1024, 0.036855488027733516],\n",
    "### [2048, 0.021444606921672753],\n",
    "### [4096, 0.012765058924897349]]"
   ]
  },
  {
   "cell_type": "markdown",
   "metadata": {},
   "source": [
    "<html>\n",
    "    <h1>Libraries used :</h1>\n",
    "    <ul style=\"list-style-type: none;\">\n",
    "        <li>\n",
    "             <img width=150px height=150px  src=\"https://upload.wikimedia.org/wikipedia/commons/thumb/5/54/Sympy_logo.svg/1200px-Sympy_logo.svg.png\"  alt=\"Sympy\">\n",
    "        </li>\n",
    "        <br>\n",
    "        <li>\n",
    "             <img width=300px height=300px  src=\"https://matplotlib.org/_static/logo2.png\" alt=\"Matplotlib\">\n",
    "        </li>\n",
    "        <br>\n",
    "        <li>\n",
    "             <img width=200px height=200px src=\"https://upload.wikimedia.org/wikipedia/commons/thumb/1/1a/NumPy_logo.svg/1200px-NumPy_logo.svg.png\" alt=\"Numpy\">\n",
    "        </li>\n",
    "        <br>\n",
    "        <li>        \n",
    "            <img width=200px height=200px  src=\"https://www.fullstackpython.com/img/logos/scipy.png\" class=\"rounded\" alt=\"Scipy\">\n",
    "        </li>\n",
    "        <br>\n",
    "        <li>\n",
    "             <img width=400px height=400px  src=\"https://pandas.pydata.org/_static/pandas_logo.png\" class=\"rounded\" alt=\"Pandas\">\n",
    "        </li>\n",
    "      </ul>"
   ]
  },
  {
   "cell_type": "code",
   "execution_count": 63,
   "metadata": {},
   "outputs": [],
   "source": [
    "import numpy as np\n",
    "from numba import jit, int32, float32, prange\n",
    "from scipy.sparse import diags\n",
    "from scipy.integrate import RK45, solve_ivp\n",
    "import scipy.sparse as sp\n",
    "import matplotlib.pyplot as plt\n",
    "import matplotlib\n",
    "from time import time\n",
    "import pandas as pd\n",
    "\n",
    "import time\n",
    "import os\n",
    "import math\n",
    "#import pandas as pd\n",
    "from tqdm import tqdm_notebook\n"
   ]
  },
  {
   "cell_type": "code",
   "execution_count": 64,
   "metadata": {},
   "outputs": [],
   "source": [
    "plt.ioff()\n",
    "plt.clf()"
   ]
  },
  {
   "cell_type": "markdown",
   "metadata": {},
   "source": [
    "<html>\n",
    "    <h3 align=\"center\" style=\"color:#FF1C0C;\"><u> Heat Equation </u> </h3> \n",
    "   <br>\n",
    "</html>\n",
    "\n",
    "\\begin{equation}\n",
    "\\\\\\ u_t  + \\beta u_{xx}    = - \\left(\\pi^{2} \\beta - 1\\right) e^{t} \\sin{\\left(\\pi x \\right)}\n",
    "\\\\ u^h = \\sum_{i= 0}^{n} a_i(t)  \\phi_i(x) \n",
    "\\\\ \\int_0^1 { (w u_t + \\beta w u_{xx})} \\ dx= \\int_0^1 w ({- \\left(\\pi^{2} \\beta - 1\\right) e^{t} \\sin{\\left(\\pi x \\right)}}) dx\n",
    "\\\\\\ \\int_0^1  w u_t   \\ dx   - \\beta \\int_0^1 {w_x u_x} \\ dx  + \\beta \\ (w(1) u_x(1) - w(0) u_x(0))= \\int_0^1 w ({- \\left(\\pi^{2} \\beta - 1\\right) e^{t} \\sin{\\left(\\pi x \\right)}}) dx\n",
    "\\\\  A \\alpha^{'}(t) \\hspace{5mm} \\ -  \\hspace{5mm}\\beta  D \\alpha(t) \\hspace{10mm} +\\hspace{10mm}  \\beta E \\alpha(t)   = f(t)\n",
    "\\\\ w = {\\phi_j}(x)\n",
    "\\end{equation}\n",
    "\n",
    "\\begin{equation}\n",
    "\\\\  \\alpha^{'}(t) = A^{-1}(\\beta ( D - E) \\alpha(t) + f(t)) \\hspace{10mm} \n",
    "\\end{equation}\n",
    "\n",
    "<html>\n",
    "    <h3 align=\"center\" style=\"color:#FF1C0C;\"><u>Boundary Conditions</u> </h3> <br>\n",
    "</html>\n",
    "\\begin{equation}\n",
    "\\\\  u(0, t) = 0  \n",
    "\\\\  u(N, t) = 0\n",
    "\\\\  u(x, 0) = sin(\\pi x) \n",
    "\\end{equation}\n",
    "\n",
    "<html>\n",
    "    <h3 align=\"center\" style=\"color:#FF1C0C;\"><u>Exact Solution</u> </h3> <br>\n",
    "</html>\n",
    "\\begin{equation}\n",
    "\\\\  u(x, t) = e^t sin (\\pi x) \n",
    "\\end{equation}"
   ]
  },
  {
   "cell_type": "code",
   "execution_count": 77,
   "metadata": {},
   "outputs": [],
   "source": [
    "\n",
    "class Heat:\n",
    "    \n",
    "    #A *alpha - beta(D *) +beta(E(1 - 0)alpha) = 0\n",
    "    \n",
    "\n",
    "    def __init__(self, N=10):\n",
    "        \n",
    "        self.N = N\n",
    "        self.H = 1/N\n",
    "        self.domain = np.linspace(0, 1, N+1) \n",
    "        self.beta = -1\n",
    "        self.t = 1\n",
    "        self.b_c_start = 0\n",
    "        self.b_c_end = 0\n",
    "        \n",
    "        def c_dash_transform(l):\n",
    "            \n",
    "            l[0] /= self.A[0]\n",
    "            for i in range(1, self.N):\n",
    "                  l[i] = (l[i])/ (self.A[i]-(self.H/6)* l[i-1])\n",
    "                    \n",
    "            return l        \n",
    "  \n",
    "\n",
    "                \n",
    "        self.A = self.H* np.array([1/3] + [2/3]*(N-1) + [1/3])\n",
    "        #         self.A = (self.H) * sp.csc_matrix(diags([       [1/6 for i in range(N)],   \\\n",
    "        #                                         [1/3] + [2/3]*(N-1) + [1/3], \\\n",
    "        #                                              [1/6 for i in range(N)] ], \\\n",
    "        #                                                    [1, 0, -1]), dtype=np.float32)\n",
    "        \n",
    "        self.c_dash = c_dash_transform(self.H *np.array( [1/6]*(N)))\n",
    "        \n",
    "        #-beta*\n",
    "        \n",
    "        \n",
    "        self.D = N * sp.csr_matrix(diags([      [-1 for i in range(N)],  \\\n",
    "                                      [1] + [2]*(N-1) + [1], \\\n",
    "                                        [-1 for i in range(N)]],  \\\n",
    "                             [1, 0, -1] ), dtype=np.float32)\n",
    "        self.D[0, 0] -= N     \n",
    "        self.D[0, 1] -= -N\n",
    "        self.D[N, N-1] -= -N\n",
    "        self.D[N, N] -= N\n",
    "        \n",
    "        def f(k):\n",
    "          \n",
    "            if k == 0:\n",
    "                return (1 + math.pi**2)*(math.pi*self.H - math.sin(math.pi*self.H))/(math.pi**2*self.H)\n",
    "            elif k == N:\n",
    "                return -(1 + math.pi**2)*(-math.pi*self.H + math.sin(math.pi*self.H))/(math.pi**2*self.H)\n",
    "            else:\n",
    "                return -2*(1 + math.pi**2)*(math.cos(math.pi*self.H) - 1)*math.sin(math.pi*self.H*k)/(math.pi**2*self.H)\n",
    "        \n",
    "        self.F = np.array([f(k) for k in prange(N+1)]).reshape(-1, 1) #incomplete without exp(t)\n",
    "        \n",
    "\n",
    "       \n",
    "        #Set initial conditions here\n",
    "        self.alpha = np.sin(np.pi* self.domain)\n",
    "    \n",
    "        #Set solution here\n",
    "        self.exact = math.exp(self.t) * self.alpha\n",
    "\n",
    "        \n",
    "    def error(self):\n",
    "        return np.linalg.norm(self.exact -  self.approx, 2)\n",
    "\n",
    "    \n",
    "    def apply_bc(self,  y):\n",
    "        y[0, 0] = self.b_c_start\n",
    "        y[-1, 0] = self.b_c_end\n",
    "        return y\n",
    "        \n",
    "    \n",
    "    def func (self, t,  y):\n",
    "        #       self.A * y = (self.beta*(self.D* y) + math.exp(t)*self.F) = d \n",
    "        d = self.beta*self.D*y + math.exp(t)*self.F\n",
    "        #A *alpha' = d form \n",
    "        def simplifier( d):    \n",
    "            d[0] /= self.A[0]\n",
    "            for i in range(1, self.N + 1):\n",
    "                d[i, 0] = (d[i, 0] - (self.H/6)*d[i-1])/(self.A[i]-(self.H/6)*self.c_dash[i-1])\n",
    "            for i in range(self.N-1, -1, -1): # Last entry is left unchanged ;see that i+1\n",
    "                d[i, 0] -= self.c_dash[i]*d[i+1]                \n",
    "        \n",
    "            return self.apply_bc(d)                   \n",
    "        \n",
    "        #y = self.A*(self.beta*(self.D* y) + math.exp(t)*self.F)\n",
    "        return simplifier(d)\n",
    "\n",
    "\n",
    "    \n",
    "    def algo_1(self):\n",
    "\n",
    "        self.algo = solve_ivp(self.func,t_span=(0, 1),  y0=self.alpha, \\\n",
    "                   t_eval= np.array([1]), vectorized=True, method=\"LSODA\")\n",
    "        self.approx = self.apply_bc(self.algo.y).reshape(-1, )\n",
    "        "
   ]
  },
  {
   "cell_type": "code",
   "execution_count": 82,
   "metadata": {},
   "outputs": [
    {
     "data": {
      "application/vnd.jupyter.widget-view+json": {
       "model_id": "656a20d4e4804774982109873a6107eb",
       "version_major": 2,
       "version_minor": 0
      },
      "text/plain": [
       "HBox(children=(IntProgress(value=0, max=7), HTML(value='')))"
      ]
     },
     "metadata": {},
     "output_type": "display_data"
    },
    {
     "name": "stdout",
     "output_type": "stream",
     "text": [
      "Time taken for algo to run for 4 basis 0.030004501342773438\n",
      "Time taken for algo to run for 8 basis 0.030999422073364258\n",
      "Time taken for algo to run for 16 basis 0.05698752403259277\n",
      "Time taken for algo to run for 32 basis 0.1464402675628662\n",
      "Time taken for algo to run for 64 basis 0.40776729583740234\n",
      "Time taken for algo to run for 128 basis 1.4497451782226562\n",
      "Time taken for algo to run for 256 basis 5.675202369689941\n",
      "\n"
     ]
    }
   ],
   "source": [
    "Ns = [2**r for r in range(2, 9)]\n",
    "l =[]\n",
    "for i in tqdm_notebook(Ns):\n",
    "    heateqn = Heat(i)\n",
    "\n",
    "    t0 = time.time()\n",
    "\n",
    "    heateqn.algo_1()\n",
    "    l.append([i, heateqn.error()])\n",
    "    if i!= Ns[-1]:\n",
    "        del heateqn\n",
    "    print(f\"Time taken for algo to run for {i} basis\",  time.time()-t0)\n",
    "    \n"
   ]
  },
  {
   "cell_type": "code",
   "execution_count": 83,
   "metadata": {},
   "outputs": [
    {
     "data": {
      "application/vnd.jupyter.widget-view+json": {
       "model_id": "02ea95a738cd4e5ea3807beebbe83b42",
       "version_major": 2,
       "version_minor": 0
      },
      "text/plain": [
       "Canvas(toolbar=Toolbar(toolitems=[('Home', 'Reset original view', 'home', 'home'), ('Back', 'Back to previous …"
      ]
     },
     "metadata": {},
     "output_type": "display_data"
    },
    {
     "data": {
      "text/plain": [
       "Text(0, 0.5, 'Error')"
      ]
     },
     "execution_count": 83,
     "metadata": {},
     "output_type": "execute_result"
    }
   ],
   "source": [
    "%matplotlib widget\n",
    "errrs = []\n",
    "xs = []\n",
    "for i, j in l:\n",
    "    xs.append(i)\n",
    "    errrs.append(j)\n",
    "\n",
    "xs, errrs =  np.array(xs), np.array(errrs)\n",
    "slope, intercept = np.polyfit(-np.log(xs), np.log(errrs), 1)\n",
    "\n",
    "plt.loglog(1/np.array(xs), errrs, '--')\n",
    "plt.xlabel(\"H\")\n",
    "plt.ylabel(\"Error\")"
   ]
  },
  {
   "cell_type": "code",
   "execution_count": 84,
   "metadata": {},
   "outputs": [
    {
     "name": "stdout",
     "output_type": "stream",
     "text": [
      "1.2174455681258682\n"
     ]
    }
   ],
   "source": [
    "print(slope)"
   ]
  },
  {
   "cell_type": "code",
   "execution_count": 85,
   "metadata": {},
   "outputs": [],
   "source": [
    "df = pd.DataFrame(data = {\"N\":xs , \"H\": 1/xs, \"Errors\":errrs})\n",
    "df.to_csv(\"Lin Hom \")"
   ]
  },
  {
   "cell_type": "code",
   "execution_count": null,
   "metadata": {},
   "outputs": [],
   "source": []
  },
  {
   "cell_type": "code",
   "execution_count": null,
   "metadata": {},
   "outputs": [],
   "source": []
  }
 ],
 "metadata": {
  "kernelspec": {
   "display_name": "Python 3",
   "language": "python",
   "name": "python3"
  },
  "language_info": {
   "codemirror_mode": {
    "name": "ipython",
    "version": 3
   },
   "file_extension": ".py",
   "mimetype": "text/x-python",
   "name": "python",
   "nbconvert_exporter": "python",
   "pygments_lexer": "ipython3",
   "version": "3.6.8"
  }
 },
 "nbformat": 4,
 "nbformat_minor": 2
}

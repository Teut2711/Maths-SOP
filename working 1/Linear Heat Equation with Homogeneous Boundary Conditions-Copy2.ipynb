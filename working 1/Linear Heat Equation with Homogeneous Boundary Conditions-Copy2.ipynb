{
 "cells": [
  {
   "cell_type": "code",
   "execution_count": 35,
   "metadata": {},
   "outputs": [],
   "source": [
    "#%matplotlib widget\n",
    "%load_ext Cython"
   ]
  },
  {
   "cell_type": "markdown",
   "metadata": {},
   "source": [
    "<html>\n",
    "    <h1>Libraries used :</h1>\n",
    "    <ul style=\"list-style-type: none;\">\n",
    "        <li>\n",
    "             <img width=150px height=150px  src=\"https://upload.wikimedia.org/wikipedia/commons/thumb/5/54/Sympy_logo.svg/1200px-Sympy_logo.svg.png\"  alt=\"Sympy\">\n",
    "        </li>\n",
    "        <br>\n",
    "        <li>\n",
    "             <img width=300px height=300px  src=\"https://matplotlib.org/_static/logo2.png\" alt=\"Matplotlib\">\n",
    "        </li>\n",
    "        <br>\n",
    "        <li>\n",
    "             <img width=200px height=200px src=\"https://upload.wikimedia.org/wikipedia/commons/thumb/1/1a/NumPy_logo.svg/1200px-NumPy_logo.svg.png\" alt=\"Numpy\">\n",
    "        </li>\n",
    "        <br>\n",
    "        <li>        \n",
    "            <img width=200px height=200px  src=\"https://www.fullstackpython.com/img/logos/scipy.png\" class=\"rounded\" alt=\"Scipy\">\n",
    "        </li>\n",
    "        <br>\n",
    "        <li>\n",
    "             <img width=400px height=400px  src=\"https://pandas.pydata.org/_static/pandas_logo.png\" class=\"rounded\" alt=\"Pandas\">\n",
    "        </li>\n",
    "      </ul>"
   ]
  },
  {
   "cell_type": "code",
   "execution_count": 14,
   "metadata": {},
   "outputs": [],
   "source": [
    "import numpy as np\n",
    "import sympy as sm\n",
    "from scipy.sparse import diags\n",
    "from scipy.integrate import RK45, solve_ivp\n",
    "import scipy.sparse as sp\n",
    "from scipy.sparse.linalg import inv\n",
    "import matplotlib.pyplot as plt\n",
    "import matplotlib\n",
    "from time import time\n",
    "\n",
    "\n",
    "import time\n",
    "import os\n",
    "from functools import lru_cache\n",
    "import math\n",
    "#import pandas as pd\n",
    "from tqdm import tqdm_notebook\n"
   ]
  },
  {
   "cell_type": "code",
   "execution_count": 3,
   "metadata": {},
   "outputs": [],
   "source": [
    "sm.init_printing()\n",
    "\n",
    "plt.ioff()\n",
    "plt.clf()"
   ]
  },
  {
   "cell_type": "markdown",
   "metadata": {},
   "source": [
    "<html>\n",
    "    <h3 align=\"center\" style=\"color:#FF1C0C;\"><u> Heat Equation </u> </h3> \n",
    "   <br>\n",
    "</html>\n",
    "\n",
    "\\begin{equation}\n",
    "\\\\\\ u_t  + \\beta u_{xx}    = - \\left(\\pi^{2} \\beta - 1\\right) e^{t} \\sin{\\left(\\pi x \\right)}\n",
    "\\\\ u^h = \\sum_{i= 0}^{n} a_i(t)  \\phi_i(x) \n",
    "\\\\ \\int_0^1 { (w u_t + \\beta w u_{xx})} \\ dx= \\int_0^1 w ({- \\left(\\pi^{2} \\beta - 1\\right) e^{t} \\sin{\\left(\\pi x \\right)}}) dx\n",
    "\\\\\\ \\int_0^1  w u_t   \\ dx   - \\beta \\int_0^1 {w_x u_x} \\ dx  + \\beta \\ (w(1) u_x(1) - w(0) u_x(0))= \\int_0^1 w ({- \\left(\\pi^{2} \\beta - 1\\right) e^{t} \\sin{\\left(\\pi x \\right)}}) dx\n",
    "\\\\  A \\alpha^{'}(t) \\hspace{5mm} \\ -  \\hspace{5mm}\\beta  D \\alpha(t) \\hspace{10mm} +\\hspace{10mm}  \\beta E \\alpha(t)   = f(t)\n",
    "\\\\ w = {\\phi_j}(x)\n",
    "\\end{equation}\n",
    "\n",
    "\\begin{equation}\n",
    "\\\\  \\alpha^{'}(t) = A^{-1}(\\beta ( D - E) \\alpha(t) + f(t)) \\hspace{10mm} \n",
    "\\end{equation}\n",
    "\n",
    "<html>\n",
    "    <h3 align=\"center\" style=\"color:#FF1C0C;\"><u>Boundary Conditions</u> </h3> <br>\n",
    "</html>\n",
    "\\begin{equation}\n",
    "\\\\  u(0, t) = 0  \n",
    "\\\\  u(N, t) = 0\n",
    "\\\\  u(x, 0) = sin(\\pi x) \n",
    "\\end{equation}\n",
    "\n",
    "<html>\n",
    "    <h3 align=\"center\" style=\"color:#FF1C0C;\"><u>Exact Solution</u> </h3> <br>\n",
    "</html>\n",
    "\\begin{equation}\n",
    "\\\\  u(x, t) = e^t sin (\\pi x) \n",
    "\\end{equation}"
   ]
  },
  {
   "cell_type": "code",
   "execution_count": 26,
   "metadata": {},
   "outputs": [],
   "source": [
    "\n",
    "class Heat:\n",
    "    \n",
    "    #A *alpha - beta(D *) +beta(E(1 - 0)alpha) = 0\n",
    "    \n",
    "    def __init__(self, N=10):\n",
    "        \n",
    "        self.N = N\n",
    "        self.shape = (N+1, N+1)\n",
    "        self.H = 1/N\n",
    "        self.domain = np.linspace(0, 1, N+1) \n",
    "        self.beta = -1\n",
    "        self.t = 1\n",
    "        self.b_c_start = 0\n",
    "        self.b_c_end = 0\n",
    "        \n",
    "        def c_dash(l):\n",
    "            \n",
    "            l[0] /= self.A[0]\n",
    "            for i in range(1, self.N):\n",
    "                  l[i] = (l[i])/ (self.A[i]-(self.H/6)* l[i-1])\n",
    "                    \n",
    "            return l        \n",
    "  \n",
    "\n",
    "                \n",
    "        self.A = (self.H) * np.array([1/3] + [2/3]*(N-1) + [1/3])\n",
    "        #         self.A = (self.H) * sp.csc_matrix(diags([       [1/6 for i in range(N)],   \\\n",
    "        #                                         [1/3] + [2/3]*(N-1) + [1/3], \\\n",
    "        #                                              [1/6 for i in range(N)] ], \\\n",
    "        #                                                    [1, 0, -1]), dtype=np.float32)\n",
    "        \n",
    "        self.c_dash = c_dash(self.H *np.array( [1/6]*(N)))\n",
    "        \n",
    "        #-beta*\n",
    "        \n",
    "        \n",
    "        self.D = N * sp.csr_matrix(diags([      [-1 for i in range(N)],  \\\n",
    "                                      [1] + [2]*(N-1) + [1], \\\n",
    "                                        [-1 for i in range(N)]],  \\\n",
    "                             [1, 0, -1] ), dtype=np.float32)\n",
    "        self.D[0, 0] -= N     \n",
    "        self.D[0, 1] -= -N\n",
    "        self.D[N, N-1] -= -N\n",
    "        self.D[N, N] -= N\n",
    " \n",
    "        def f(k):\n",
    "          \n",
    "            if k == 0:\n",
    "                return (1 + math.pi**2)*(math.pi*self.H - math.sin(math.pi*self.H))/(math.pi**2*self.H)\n",
    "            elif k == N:\n",
    "                return -(1 + math.pi**2)*(-math.pi*self.H + math.sin(math.pi*self.H))/(math.pi**2*self.H)\n",
    "            else:\n",
    "                return -2*(1 + math.pi**2)*(math.cos(math.pi*self.H) - 1)*math.sin(math.pi*self.H*k)/(math.pi**2*self.H)\n",
    "        \n",
    "        self.F = np.array([[f(k)] for k in range(N+1)]).reshape(-1, 1) #incomplete without exp(t)\n",
    "        \n",
    "\n",
    "       \n",
    "        #Set initial conditions here\n",
    "        self.alpha = np.sin(np.pi* self.domain)\n",
    "    \n",
    "        #Set solution here\n",
    "        self.exact = math.exp(self.t) * self.alpha\n",
    "\n",
    "        \n",
    "    def error(self):\n",
    "        return np.linalg.norm(self.exact -  self.approx, 2)\n",
    "\n",
    "    \n",
    "    def func (self, t, y):\n",
    "        #       self.A * y = (self.beta*(self.D* y) + math.exp(t)*self.F) = d  \n",
    "        y[0] = self.b_c_start\n",
    "        y[-1] = self.b_c_end\n",
    "        \n",
    "        d = self.beta*self.D*y + math.exp(t)*self.F\n",
    "        d = d.reshape(-1,)\n",
    "        \n",
    "        \n",
    "        def simplifier(d):    \n",
    "            d[0] /= self.A[0]\n",
    "            for i in range(1, self.N + 1):\n",
    "                d[i] = (d[i] - (self.H/6)*d[i-1])/(self.A[i]-(self.H/6)*self.c_dash[i-1])\n",
    "            for i in range(self.N-1, -1, -1): # Last entry is left unchanged ;see that i+1\n",
    "                d[i] -= self.c_dash[i]*d[i+1]\n",
    "            return d.reshape(-1, 1)                   \n",
    "        \n",
    "        #y = self.A*(self.beta*(self.D* y) + math.exp(t)*self.F)\n",
    "        d = simplifier(d)\n",
    "        \n",
    "        return d\n",
    "\n",
    "    \n",
    "    def algo_1(self):\n",
    "\n",
    "        self.algo = solve_ivp(self.func,t_span=(0, 1),  y0=self.alpha, \\\n",
    "                   t_eval= np.array([1]), vectorized=True, method=\"LSODA\")\n",
    "        self.approx = self.algo.y.reshape(-1, )\n",
    "        \n"
   ]
  },
  {
   "cell_type": "code",
   "execution_count": 29,
   "metadata": {},
   "outputs": [
    {
     "data": {
      "application/vnd.jupyter.widget-view+json": {
       "model_id": "c83b2b917dc34f748101bffadc312546",
       "version_major": 2,
       "version_minor": 0
      },
      "text/plain": [
       "HBox(children=(IntProgress(value=0, max=13), HTML(value='')))"
      ]
     },
     "metadata": {},
     "output_type": "display_data"
    },
    {
     "name": "stdout",
     "output_type": "stream",
     "text": [
      "0.024000167846679688\n",
      "0.02399897575378418\n",
      "0.041005611419677734\n",
      "0.07399296760559082\n",
      "0.15700197219848633\n",
      "0.4598851203918457\n",
      "1.683218240737915\n",
      "7.592564582824707\n",
      "29.227586030960083\n",
      "156.16517090797424\n",
      "561.2762854099274\n"
     ]
    },
    {
     "ename": "KeyboardInterrupt",
     "evalue": "",
     "output_type": "error",
     "traceback": [
      "\u001b[1;31m---------------------------------------------------------------------------\u001b[0m",
      "\u001b[1;31mKeyboardInterrupt\u001b[0m                         Traceback (most recent call last)",
      "\u001b[1;32m<ipython-input-29-9cdd1097b797>\u001b[0m in \u001b[0;36m<module>\u001b[1;34m\u001b[0m\n\u001b[0;32m      6\u001b[0m     \u001b[0mt0\u001b[0m \u001b[1;33m=\u001b[0m \u001b[0mtime\u001b[0m\u001b[1;33m.\u001b[0m\u001b[0mtime\u001b[0m\u001b[1;33m(\u001b[0m\u001b[1;33m)\u001b[0m\u001b[1;33m\u001b[0m\u001b[1;33m\u001b[0m\u001b[0m\n\u001b[0;32m      7\u001b[0m \u001b[1;33m\u001b[0m\u001b[0m\n\u001b[1;32m----> 8\u001b[1;33m     \u001b[0mheateqn\u001b[0m\u001b[1;33m.\u001b[0m\u001b[0malgo_1\u001b[0m\u001b[1;33m(\u001b[0m\u001b[1;33m)\u001b[0m\u001b[1;33m\u001b[0m\u001b[1;33m\u001b[0m\u001b[0m\n\u001b[0m\u001b[0;32m      9\u001b[0m     \u001b[0ml\u001b[0m\u001b[1;33m.\u001b[0m\u001b[0mappend\u001b[0m\u001b[1;33m(\u001b[0m\u001b[1;33m[\u001b[0m\u001b[0mi\u001b[0m\u001b[1;33m,\u001b[0m \u001b[0mheateqn\u001b[0m\u001b[1;33m.\u001b[0m\u001b[0merror\u001b[0m\u001b[1;33m(\u001b[0m\u001b[1;33m)\u001b[0m\u001b[1;33m]\u001b[0m\u001b[1;33m)\u001b[0m\u001b[1;33m\u001b[0m\u001b[1;33m\u001b[0m\u001b[0m\n\u001b[0;32m     10\u001b[0m     \u001b[1;32mdel\u001b[0m \u001b[0mheateqn\u001b[0m\u001b[1;33m\u001b[0m\u001b[1;33m\u001b[0m\u001b[0m\n",
      "\u001b[1;32m<ipython-input-26-cbf66986156b>\u001b[0m in \u001b[0;36malgo_1\u001b[1;34m(self)\u001b[0m\n\u001b[0;32m     94\u001b[0m \u001b[1;33m\u001b[0m\u001b[0m\n\u001b[0;32m     95\u001b[0m         self.algo = solve_ivp(self.func,t_span=(0, 1),  y0=self.alpha, \\\n\u001b[1;32m---> 96\u001b[1;33m                    t_eval= np.array([1]), vectorized=True, method=\"LSODA\")\n\u001b[0m\u001b[0;32m     97\u001b[0m         \u001b[0mself\u001b[0m\u001b[1;33m.\u001b[0m\u001b[0mapprox\u001b[0m \u001b[1;33m=\u001b[0m \u001b[0mself\u001b[0m\u001b[1;33m.\u001b[0m\u001b[0malgo\u001b[0m\u001b[1;33m.\u001b[0m\u001b[0my\u001b[0m\u001b[1;33m.\u001b[0m\u001b[0mreshape\u001b[0m\u001b[1;33m(\u001b[0m\u001b[1;33m-\u001b[0m\u001b[1;36m1\u001b[0m\u001b[1;33m,\u001b[0m \u001b[1;33m)\u001b[0m\u001b[1;33m\u001b[0m\u001b[1;33m\u001b[0m\u001b[0m\n\u001b[0;32m     98\u001b[0m \u001b[1;33m\u001b[0m\u001b[0m\n",
      "\u001b[1;32mc:\\users\\dell\\desktop\\python~1\\maths\\lib\\site-packages\\scipy\\integrate\\_ivp\\ivp.py\u001b[0m in \u001b[0;36msolve_ivp\u001b[1;34m(fun, t_span, y0, method, t_eval, dense_output, events, vectorized, **options)\u001b[0m\n\u001b[0;32m    500\u001b[0m     \u001b[0mstatus\u001b[0m \u001b[1;33m=\u001b[0m \u001b[1;32mNone\u001b[0m\u001b[1;33m\u001b[0m\u001b[1;33m\u001b[0m\u001b[0m\n\u001b[0;32m    501\u001b[0m     \u001b[1;32mwhile\u001b[0m \u001b[0mstatus\u001b[0m \u001b[1;32mis\u001b[0m \u001b[1;32mNone\u001b[0m\u001b[1;33m:\u001b[0m\u001b[1;33m\u001b[0m\u001b[1;33m\u001b[0m\u001b[0m\n\u001b[1;32m--> 502\u001b[1;33m         \u001b[0mmessage\u001b[0m \u001b[1;33m=\u001b[0m \u001b[0msolver\u001b[0m\u001b[1;33m.\u001b[0m\u001b[0mstep\u001b[0m\u001b[1;33m(\u001b[0m\u001b[1;33m)\u001b[0m\u001b[1;33m\u001b[0m\u001b[1;33m\u001b[0m\u001b[0m\n\u001b[0m\u001b[0;32m    503\u001b[0m \u001b[1;33m\u001b[0m\u001b[0m\n\u001b[0;32m    504\u001b[0m         \u001b[1;32mif\u001b[0m \u001b[0msolver\u001b[0m\u001b[1;33m.\u001b[0m\u001b[0mstatus\u001b[0m \u001b[1;33m==\u001b[0m \u001b[1;34m'finished'\u001b[0m\u001b[1;33m:\u001b[0m\u001b[1;33m\u001b[0m\u001b[1;33m\u001b[0m\u001b[0m\n",
      "\u001b[1;32mc:\\users\\dell\\desktop\\python~1\\maths\\lib\\site-packages\\scipy\\integrate\\_ivp\\base.py\u001b[0m in \u001b[0;36mstep\u001b[1;34m(self)\u001b[0m\n\u001b[0;32m    180\u001b[0m         \u001b[1;32melse\u001b[0m\u001b[1;33m:\u001b[0m\u001b[1;33m\u001b[0m\u001b[1;33m\u001b[0m\u001b[0m\n\u001b[0;32m    181\u001b[0m             \u001b[0mt\u001b[0m \u001b[1;33m=\u001b[0m \u001b[0mself\u001b[0m\u001b[1;33m.\u001b[0m\u001b[0mt\u001b[0m\u001b[1;33m\u001b[0m\u001b[1;33m\u001b[0m\u001b[0m\n\u001b[1;32m--> 182\u001b[1;33m             \u001b[0msuccess\u001b[0m\u001b[1;33m,\u001b[0m \u001b[0mmessage\u001b[0m \u001b[1;33m=\u001b[0m \u001b[0mself\u001b[0m\u001b[1;33m.\u001b[0m\u001b[0m_step_impl\u001b[0m\u001b[1;33m(\u001b[0m\u001b[1;33m)\u001b[0m\u001b[1;33m\u001b[0m\u001b[1;33m\u001b[0m\u001b[0m\n\u001b[0m\u001b[0;32m    183\u001b[0m \u001b[1;33m\u001b[0m\u001b[0m\n\u001b[0;32m    184\u001b[0m             \u001b[1;32mif\u001b[0m \u001b[1;32mnot\u001b[0m \u001b[0msuccess\u001b[0m\u001b[1;33m:\u001b[0m\u001b[1;33m\u001b[0m\u001b[1;33m\u001b[0m\u001b[0m\n",
      "\u001b[1;32mc:\\users\\dell\\desktop\\python~1\\maths\\lib\\site-packages\\scipy\\integrate\\_ivp\\lsoda.py\u001b[0m in \u001b[0;36m_step_impl\u001b[1;34m(self)\u001b[0m\n\u001b[0;32m    148\u001b[0m         solver._y, solver.t = integrator.run(\n\u001b[0;32m    149\u001b[0m             \u001b[0msolver\u001b[0m\u001b[1;33m.\u001b[0m\u001b[0mf\u001b[0m\u001b[1;33m,\u001b[0m \u001b[0msolver\u001b[0m\u001b[1;33m.\u001b[0m\u001b[0mjac\u001b[0m \u001b[1;32mor\u001b[0m \u001b[1;33m(\u001b[0m\u001b[1;32mlambda\u001b[0m\u001b[1;33m:\u001b[0m \u001b[1;32mNone\u001b[0m\u001b[1;33m)\u001b[0m\u001b[1;33m,\u001b[0m \u001b[0msolver\u001b[0m\u001b[1;33m.\u001b[0m\u001b[0m_y\u001b[0m\u001b[1;33m,\u001b[0m \u001b[0msolver\u001b[0m\u001b[1;33m.\u001b[0m\u001b[0mt\u001b[0m\u001b[1;33m,\u001b[0m\u001b[1;33m\u001b[0m\u001b[1;33m\u001b[0m\u001b[0m\n\u001b[1;32m--> 150\u001b[1;33m             self.t_bound, solver.f_params, solver.jac_params)\n\u001b[0m\u001b[0;32m    151\u001b[0m         \u001b[0mintegrator\u001b[0m\u001b[1;33m.\u001b[0m\u001b[0mcall_args\u001b[0m\u001b[1;33m[\u001b[0m\u001b[1;36m2\u001b[0m\u001b[1;33m]\u001b[0m \u001b[1;33m=\u001b[0m \u001b[0mitask\u001b[0m\u001b[1;33m\u001b[0m\u001b[1;33m\u001b[0m\u001b[0m\n\u001b[0;32m    152\u001b[0m \u001b[1;33m\u001b[0m\u001b[0m\n",
      "\u001b[1;32mc:\\users\\dell\\desktop\\python~1\\maths\\lib\\site-packages\\scipy\\integrate\\_ode.py\u001b[0m in \u001b[0;36mrun\u001b[1;34m(self, f, jac, y0, t0, t1, f_params, jac_params)\u001b[0m\n\u001b[0;32m   1341\u001b[0m         \u001b[0margs\u001b[0m \u001b[1;33m=\u001b[0m \u001b[1;33m[\u001b[0m\u001b[0mf\u001b[0m\u001b[1;33m,\u001b[0m \u001b[0my0\u001b[0m\u001b[1;33m,\u001b[0m \u001b[0mt0\u001b[0m\u001b[1;33m,\u001b[0m \u001b[0mt1\u001b[0m\u001b[1;33m]\u001b[0m \u001b[1;33m+\u001b[0m \u001b[0mself\u001b[0m\u001b[1;33m.\u001b[0m\u001b[0mcall_args\u001b[0m\u001b[1;33m[\u001b[0m\u001b[1;33m:\u001b[0m\u001b[1;33m-\u001b[0m\u001b[1;36m1\u001b[0m\u001b[1;33m]\u001b[0m \u001b[1;33m+\u001b[0m\u001b[0;31m \u001b[0m\u001b[0;31m\\\u001b[0m\u001b[1;33m\u001b[0m\u001b[1;33m\u001b[0m\u001b[0m\n\u001b[0;32m   1342\u001b[0m                \u001b[1;33m[\u001b[0m\u001b[0mjac\u001b[0m\u001b[1;33m,\u001b[0m \u001b[0mself\u001b[0m\u001b[1;33m.\u001b[0m\u001b[0mcall_args\u001b[0m\u001b[1;33m[\u001b[0m\u001b[1;33m-\u001b[0m\u001b[1;36m1\u001b[0m\u001b[1;33m]\u001b[0m\u001b[1;33m,\u001b[0m \u001b[0mf_params\u001b[0m\u001b[1;33m,\u001b[0m \u001b[1;36m0\u001b[0m\u001b[1;33m,\u001b[0m \u001b[0mjac_params\u001b[0m\u001b[1;33m]\u001b[0m\u001b[1;33m\u001b[0m\u001b[1;33m\u001b[0m\u001b[0m\n\u001b[1;32m-> 1343\u001b[1;33m         \u001b[0my1\u001b[0m\u001b[1;33m,\u001b[0m \u001b[0mt\u001b[0m\u001b[1;33m,\u001b[0m \u001b[0mistate\u001b[0m \u001b[1;33m=\u001b[0m \u001b[0mself\u001b[0m\u001b[1;33m.\u001b[0m\u001b[0mrunner\u001b[0m\u001b[1;33m(\u001b[0m\u001b[1;33m*\u001b[0m\u001b[0margs\u001b[0m\u001b[1;33m)\u001b[0m\u001b[1;33m\u001b[0m\u001b[1;33m\u001b[0m\u001b[0m\n\u001b[0m\u001b[0;32m   1344\u001b[0m         \u001b[0mself\u001b[0m\u001b[1;33m.\u001b[0m\u001b[0mistate\u001b[0m \u001b[1;33m=\u001b[0m \u001b[0mistate\u001b[0m\u001b[1;33m\u001b[0m\u001b[1;33m\u001b[0m\u001b[0m\n\u001b[0;32m   1345\u001b[0m         \u001b[1;32mif\u001b[0m \u001b[0mistate\u001b[0m \u001b[1;33m<\u001b[0m \u001b[1;36m0\u001b[0m\u001b[1;33m:\u001b[0m\u001b[1;33m\u001b[0m\u001b[1;33m\u001b[0m\u001b[0m\n",
      "\u001b[1;32mc:\\users\\dell\\desktop\\python~1\\maths\\lib\\site-packages\\scipy\\integrate\\_ivp\\base.py\u001b[0m in \u001b[0;36mfun\u001b[1;34m(t, y)\u001b[0m\n\u001b[0;32m    137\u001b[0m         \u001b[1;32mdef\u001b[0m \u001b[0mfun\u001b[0m\u001b[1;33m(\u001b[0m\u001b[0mt\u001b[0m\u001b[1;33m,\u001b[0m \u001b[0my\u001b[0m\u001b[1;33m)\u001b[0m\u001b[1;33m:\u001b[0m\u001b[1;33m\u001b[0m\u001b[1;33m\u001b[0m\u001b[0m\n\u001b[0;32m    138\u001b[0m             \u001b[0mself\u001b[0m\u001b[1;33m.\u001b[0m\u001b[0mnfev\u001b[0m \u001b[1;33m+=\u001b[0m \u001b[1;36m1\u001b[0m\u001b[1;33m\u001b[0m\u001b[1;33m\u001b[0m\u001b[0m\n\u001b[1;32m--> 139\u001b[1;33m             \u001b[1;32mreturn\u001b[0m \u001b[0mself\u001b[0m\u001b[1;33m.\u001b[0m\u001b[0mfun_single\u001b[0m\u001b[1;33m(\u001b[0m\u001b[0mt\u001b[0m\u001b[1;33m,\u001b[0m \u001b[0my\u001b[0m\u001b[1;33m)\u001b[0m\u001b[1;33m\u001b[0m\u001b[1;33m\u001b[0m\u001b[0m\n\u001b[0m\u001b[0;32m    140\u001b[0m \u001b[1;33m\u001b[0m\u001b[0m\n\u001b[0;32m    141\u001b[0m         \u001b[0mself\u001b[0m\u001b[1;33m.\u001b[0m\u001b[0mfun\u001b[0m \u001b[1;33m=\u001b[0m \u001b[0mfun\u001b[0m\u001b[1;33m\u001b[0m\u001b[1;33m\u001b[0m\u001b[0m\n",
      "\u001b[1;32mc:\\users\\dell\\desktop\\python~1\\maths\\lib\\site-packages\\scipy\\integrate\\_ivp\\base.py\u001b[0m in \u001b[0;36mfun_single\u001b[1;34m(t, y)\u001b[0m\n\u001b[0;32m    124\u001b[0m         \u001b[1;32mif\u001b[0m \u001b[0mvectorized\u001b[0m\u001b[1;33m:\u001b[0m\u001b[1;33m\u001b[0m\u001b[1;33m\u001b[0m\u001b[0m\n\u001b[0;32m    125\u001b[0m             \u001b[1;32mdef\u001b[0m \u001b[0mfun_single\u001b[0m\u001b[1;33m(\u001b[0m\u001b[0mt\u001b[0m\u001b[1;33m,\u001b[0m \u001b[0my\u001b[0m\u001b[1;33m)\u001b[0m\u001b[1;33m:\u001b[0m\u001b[1;33m\u001b[0m\u001b[1;33m\u001b[0m\u001b[0m\n\u001b[1;32m--> 126\u001b[1;33m                 \u001b[1;32mreturn\u001b[0m \u001b[0mself\u001b[0m\u001b[1;33m.\u001b[0m\u001b[0m_fun\u001b[0m\u001b[1;33m(\u001b[0m\u001b[0mt\u001b[0m\u001b[1;33m,\u001b[0m \u001b[0my\u001b[0m\u001b[1;33m[\u001b[0m\u001b[1;33m:\u001b[0m\u001b[1;33m,\u001b[0m \u001b[1;32mNone\u001b[0m\u001b[1;33m]\u001b[0m\u001b[1;33m)\u001b[0m\u001b[1;33m.\u001b[0m\u001b[0mravel\u001b[0m\u001b[1;33m(\u001b[0m\u001b[1;33m)\u001b[0m\u001b[1;33m\u001b[0m\u001b[1;33m\u001b[0m\u001b[0m\n\u001b[0m\u001b[0;32m    127\u001b[0m             \u001b[0mfun_vectorized\u001b[0m \u001b[1;33m=\u001b[0m \u001b[0mself\u001b[0m\u001b[1;33m.\u001b[0m\u001b[0m_fun\u001b[0m\u001b[1;33m\u001b[0m\u001b[1;33m\u001b[0m\u001b[0m\n\u001b[0;32m    128\u001b[0m         \u001b[1;32melse\u001b[0m\u001b[1;33m:\u001b[0m\u001b[1;33m\u001b[0m\u001b[1;33m\u001b[0m\u001b[0m\n",
      "\u001b[1;32mc:\\users\\dell\\desktop\\python~1\\maths\\lib\\site-packages\\scipy\\integrate\\_ivp\\base.py\u001b[0m in \u001b[0;36mfun_wrapped\u001b[1;34m(t, y)\u001b[0m\n\u001b[0;32m     19\u001b[0m \u001b[1;33m\u001b[0m\u001b[0m\n\u001b[0;32m     20\u001b[0m     \u001b[1;32mdef\u001b[0m \u001b[0mfun_wrapped\u001b[0m\u001b[1;33m(\u001b[0m\u001b[0mt\u001b[0m\u001b[1;33m,\u001b[0m \u001b[0my\u001b[0m\u001b[1;33m)\u001b[0m\u001b[1;33m:\u001b[0m\u001b[1;33m\u001b[0m\u001b[1;33m\u001b[0m\u001b[0m\n\u001b[1;32m---> 21\u001b[1;33m         \u001b[1;32mreturn\u001b[0m \u001b[0mnp\u001b[0m\u001b[1;33m.\u001b[0m\u001b[0masarray\u001b[0m\u001b[1;33m(\u001b[0m\u001b[0mfun\u001b[0m\u001b[1;33m(\u001b[0m\u001b[0mt\u001b[0m\u001b[1;33m,\u001b[0m \u001b[0my\u001b[0m\u001b[1;33m)\u001b[0m\u001b[1;33m,\u001b[0m \u001b[0mdtype\u001b[0m\u001b[1;33m=\u001b[0m\u001b[0mdtype\u001b[0m\u001b[1;33m)\u001b[0m\u001b[1;33m\u001b[0m\u001b[1;33m\u001b[0m\u001b[0m\n\u001b[0m\u001b[0;32m     22\u001b[0m \u001b[1;33m\u001b[0m\u001b[0m\n\u001b[0;32m     23\u001b[0m     \u001b[1;32mreturn\u001b[0m \u001b[0mfun_wrapped\u001b[0m\u001b[1;33m,\u001b[0m \u001b[0my0\u001b[0m\u001b[1;33m\u001b[0m\u001b[1;33m\u001b[0m\u001b[0m\n",
      "\u001b[1;32m<ipython-input-26-cbf66986156b>\u001b[0m in \u001b[0;36mfunc\u001b[1;34m(self, t, y)\u001b[0m\n\u001b[0;32m     86\u001b[0m \u001b[1;33m\u001b[0m\u001b[0m\n\u001b[0;32m     87\u001b[0m         \u001b[1;31m#y = self.A*(self.beta*(self.D* y) + math.exp(t)*self.F)\u001b[0m\u001b[1;33m\u001b[0m\u001b[1;33m\u001b[0m\u001b[1;33m\u001b[0m\u001b[0m\n\u001b[1;32m---> 88\u001b[1;33m         \u001b[0md\u001b[0m \u001b[1;33m=\u001b[0m \u001b[0msimplifier\u001b[0m\u001b[1;33m(\u001b[0m\u001b[0md\u001b[0m\u001b[1;33m)\u001b[0m\u001b[1;33m\u001b[0m\u001b[1;33m\u001b[0m\u001b[0m\n\u001b[0m\u001b[0;32m     89\u001b[0m \u001b[1;33m\u001b[0m\u001b[0m\n\u001b[0;32m     90\u001b[0m         \u001b[1;32mreturn\u001b[0m \u001b[0md\u001b[0m\u001b[1;33m\u001b[0m\u001b[1;33m\u001b[0m\u001b[0m\n",
      "\u001b[1;32m<ipython-input-26-cbf66986156b>\u001b[0m in \u001b[0;36msimplifier\u001b[1;34m(d)\u001b[0m\n\u001b[0;32m     80\u001b[0m             \u001b[0md\u001b[0m\u001b[1;33m[\u001b[0m\u001b[1;36m0\u001b[0m\u001b[1;33m]\u001b[0m \u001b[1;33m/=\u001b[0m \u001b[0mself\u001b[0m\u001b[1;33m.\u001b[0m\u001b[0mA\u001b[0m\u001b[1;33m[\u001b[0m\u001b[1;36m0\u001b[0m\u001b[1;33m]\u001b[0m\u001b[1;33m\u001b[0m\u001b[1;33m\u001b[0m\u001b[0m\n\u001b[0;32m     81\u001b[0m             \u001b[1;32mfor\u001b[0m \u001b[0mi\u001b[0m \u001b[1;32min\u001b[0m \u001b[0mrange\u001b[0m\u001b[1;33m(\u001b[0m\u001b[1;36m1\u001b[0m\u001b[1;33m,\u001b[0m \u001b[0mself\u001b[0m\u001b[1;33m.\u001b[0m\u001b[0mN\u001b[0m \u001b[1;33m+\u001b[0m \u001b[1;36m1\u001b[0m\u001b[1;33m)\u001b[0m\u001b[1;33m:\u001b[0m\u001b[1;33m\u001b[0m\u001b[1;33m\u001b[0m\u001b[0m\n\u001b[1;32m---> 82\u001b[1;33m                 \u001b[0md\u001b[0m\u001b[1;33m[\u001b[0m\u001b[0mi\u001b[0m\u001b[1;33m]\u001b[0m \u001b[1;33m=\u001b[0m \u001b[1;33m(\u001b[0m\u001b[0md\u001b[0m\u001b[1;33m[\u001b[0m\u001b[0mi\u001b[0m\u001b[1;33m]\u001b[0m \u001b[1;33m-\u001b[0m \u001b[1;33m(\u001b[0m\u001b[0mself\u001b[0m\u001b[1;33m.\u001b[0m\u001b[0mH\u001b[0m\u001b[1;33m/\u001b[0m\u001b[1;36m6\u001b[0m\u001b[1;33m)\u001b[0m\u001b[1;33m*\u001b[0m\u001b[0md\u001b[0m\u001b[1;33m[\u001b[0m\u001b[0mi\u001b[0m\u001b[1;33m-\u001b[0m\u001b[1;36m1\u001b[0m\u001b[1;33m]\u001b[0m\u001b[1;33m)\u001b[0m\u001b[1;33m/\u001b[0m\u001b[1;33m(\u001b[0m\u001b[0mself\u001b[0m\u001b[1;33m.\u001b[0m\u001b[0mA\u001b[0m\u001b[1;33m[\u001b[0m\u001b[0mi\u001b[0m\u001b[1;33m]\u001b[0m\u001b[1;33m-\u001b[0m\u001b[1;33m(\u001b[0m\u001b[0mself\u001b[0m\u001b[1;33m.\u001b[0m\u001b[0mH\u001b[0m\u001b[1;33m/\u001b[0m\u001b[1;36m6\u001b[0m\u001b[1;33m)\u001b[0m\u001b[1;33m*\u001b[0m\u001b[0mself\u001b[0m\u001b[1;33m.\u001b[0m\u001b[0mc_dash\u001b[0m\u001b[1;33m[\u001b[0m\u001b[0mi\u001b[0m\u001b[1;33m-\u001b[0m\u001b[1;36m1\u001b[0m\u001b[1;33m]\u001b[0m\u001b[1;33m)\u001b[0m\u001b[1;33m\u001b[0m\u001b[1;33m\u001b[0m\u001b[0m\n\u001b[0m\u001b[0;32m     83\u001b[0m             \u001b[1;32mfor\u001b[0m \u001b[0mi\u001b[0m \u001b[1;32min\u001b[0m \u001b[0mrange\u001b[0m\u001b[1;33m(\u001b[0m\u001b[0mself\u001b[0m\u001b[1;33m.\u001b[0m\u001b[0mN\u001b[0m\u001b[1;33m-\u001b[0m\u001b[1;36m1\u001b[0m\u001b[1;33m,\u001b[0m \u001b[1;33m-\u001b[0m\u001b[1;36m1\u001b[0m\u001b[1;33m,\u001b[0m \u001b[1;33m-\u001b[0m\u001b[1;36m1\u001b[0m\u001b[1;33m)\u001b[0m\u001b[1;33m:\u001b[0m \u001b[1;31m# Last entry is left unchanged ;see that i+1\u001b[0m\u001b[1;33m\u001b[0m\u001b[1;33m\u001b[0m\u001b[0m\n\u001b[0;32m     84\u001b[0m                 \u001b[0md\u001b[0m\u001b[1;33m[\u001b[0m\u001b[0mi\u001b[0m\u001b[1;33m]\u001b[0m \u001b[1;33m-=\u001b[0m \u001b[0mself\u001b[0m\u001b[1;33m.\u001b[0m\u001b[0mc_dash\u001b[0m\u001b[1;33m[\u001b[0m\u001b[0mi\u001b[0m\u001b[1;33m]\u001b[0m\u001b[1;33m*\u001b[0m\u001b[0md\u001b[0m\u001b[1;33m[\u001b[0m\u001b[0mi\u001b[0m\u001b[1;33m+\u001b[0m\u001b[1;36m1\u001b[0m\u001b[1;33m]\u001b[0m\u001b[1;33m\u001b[0m\u001b[1;33m\u001b[0m\u001b[0m\n",
      "\u001b[1;31mKeyboardInterrupt\u001b[0m: "
     ]
    }
   ],
   "source": [
    "Ns = [2**r for r in range(2, 15)]\n",
    "l =[]\n",
    "for i in tqdm_notebook(Ns):\n",
    "    heateqn = Heat(i)\n",
    "\n",
    "    t0 = time.time()\n",
    "\n",
    "    heateqn.algo_1()\n",
    "    l.append([i, heateqn.error()])\n",
    "    del heateqn\n",
    "    print(time.time()-t0)\n",
    "    \n"
   ]
  },
  {
   "cell_type": "code",
   "execution_count": 30,
   "metadata": {},
   "outputs": [
    {
     "data": {
      "image/png": "[encoded data removed]",
      "text/latex": [
       "$\\displaystyle \\left[ \\left[ 4, \\  9.266569064342626\\right], \\  \\left[ 8, \\  4.691634722238834\\right], \\  \\left[ 16, \\  2.3540305868408007\\right], \\  \\left[ 32, \\  1.1777906331299344\\right], \\  \\left[ 64, \\  0.5889869374462385\\right], \\  \\left[ 128, \\  0.29447194065679233\\right], \\  \\left[ 256, \\  0.14728099599790476\\right], \\  \\left[ 512, \\  0.07368844371073896\\right], \\  \\left[ 1024, \\  0.036855488027733516\\right], \\  \\left[ 2048, \\  0.021444606921672753\\right], \\  \\left[ 4096, \\  0.012765058924897349\\right]\\right]$"
      ],
      "text/plain": [
       "[[4, 9.266569064342626], [8, 4.691634722238834], [16, 2.3540305868408007], [32\n",
       ", 1.1777906331299344], [64, 0.5889869374462385], [128, 0.29447194065679233], [\n",
       "256, 0.14728099599790476], [512, 0.07368844371073896], [1024, 0.03685548802773\n",
       "3516], [2048, 0.021444606921672753], [4096, 0.012765058924897349]]"
      ]
     },
     "execution_count": 30,
     "metadata": {},
     "output_type": "execute_result"
    }
   ],
   "source": [
    "l"
   ]
  },
  {
   "cell_type": "markdown",
   "metadata": {},
   "source": [
    "[[4, 0.03352158534354033], [8, 0.010188443366458725], [16, 0.002879998475747673], [32, 0.01014331562822522], [64, 0.0019681479668313], [128, 0.013121122561829816], [256, 0.03256990040849026], [512, 0.02630440108134167]]"
   ]
  },
  {
   "cell_type": "code",
   "execution_count": null,
   "metadata": {},
   "outputs": [],
   "source": [
    "heateqn.D.toarray()"
   ]
  },
  {
   "cell_type": "code",
   "execution_count": null,
   "metadata": {},
   "outputs": [],
   "source": [
    "points = [5*j for j in range(3, 30)]\n",
    "\n",
    "half = pd.DataFrame(data =None, columns=[\"Approximate\", \"Exact\", \"$ ||.||_2 \\ Error $\"])\n",
    "one = pd.DataFrame(data =None, columns=[\"Approximate\", \"Exact\", \"$ ||.||_2 \\ Error $\"])\n",
    "\n",
    "for i in tqdm_notebook(points):\n",
    "    heateqn = Methods(i, method=\"Adam\")\n",
    "    half.loc[i] = [heateqn.approx_half, heateqn.exact_half, heateqn.error_half]\n",
    "    one.loc[i] = [heateqn.approx_one, heateqn.exact_one, heateqn.error_one]\n",
    "    \n",
    "    \n",
    "    "
   ]
  },
  {
   "cell_type": "raw",
   "metadata": {},
   "source": [
    "RK4 ---->[4, 8, 16, 32, 64, 128]\n",
    "[[ 0.09267533346256536, 0.1531743044188346],\n",
    " \n",
    " [0.01645086689798401, 0.02721158762542683],\n",
    " [ 0.0025012502586418428, 0.004134409793217496],\n",
    " [ 0.0003314276405447362, 0.0005203281083862541],\n",
    " [ 0.00018354005014072167, 0.00021383488703825458],\n",
    " [ 0.0011293268750043022, 0.0005903944727461989]]\n",
    " \n",
    " \n",
    " LSODA --->[4, 8, 16, 32, 64, 128]\n",
    " \n",
    " [[0.09259910193853914, 0.1530286915488124],\n",
    " [0.01628597051346249, 0.02692914271236894],\n",
    " [0.002235958948519481, 0.0037097732991245662],\n",
    " [0.00035579126671848703, 0.0004993665998402028],\n",
    " [0.0005493944182856977, 0.0012083780998353953],\n",
    " [0.000840900380133394, 0.0013886479205606846]]\n",
    "\n",
    "\n",
    "LSODA ---->[4, 8, 16, 32, 64, 128, 256, 512, 1024, 2048, 4096]\n",
    "\n",
    "[[0.09259910193853914, 0.1530286915488124],\n",
    " [0.01628597051346249, 0.02692914271236894],\n",
    " [0.002235958948519481, 0.0037097732991245662],\n",
    " [0.00035579126671848703, 0.0004993665998402028],\n",
    " [0.0005493944182856977, 0.0012083780998353953],\n",
    " [0.000840900380133394, 0.0013886479205606846],\n",
    " [0.0007989529233555319, 0.002820261026327898],\n",
    " [0.0017180775014071878, 0.0032857992973693607],\n",
    " [0.002688711871705833, 0.0023147260020331514],\n",
    " [0.002578062392776145, 0.010994764378233277]]"
   ]
  },
  {
   "cell_type": "code",
   "execution_count": null,
   "metadata": {},
   "outputs": [],
   "source": [
    "pd.set_option('display.max_columns', None)\n",
    "pd.set_option('display.max_rows', None)"
   ]
  },
  {
   "cell_type": "code",
   "execution_count": null,
   "metadata": {},
   "outputs": [],
   "source": [
    "half = pd.read_csv(\"L HE with H B.C. t=.5.csv\", index_col=0)\n",
    "one = pd.read_csv(\"L HE with H B.C. t=1.csv\", index_col=0)"
   ]
  },
  {
   "cell_type": "code",
   "execution_count": null,
   "metadata": {},
   "outputs": [],
   "source": [
    "# half.to_csv(\"L HE with H B.C. t=.5.csv\")\n",
    "# one.to_csv(\"L HE with H B.C. t=1.csv\")"
   ]
  },
  {
   "cell_type": "code",
   "execution_count": null,
   "metadata": {},
   "outputs": [],
   "source": [
    "plt.figure(figsize=(20, 5))\n",
    "\n",
    "plt.plot(one.iloc[:, -2], one.iloc[:, -1])\n",
    "\n",
    "plt.title(\"LH - Log h vs Log Error\")\n",
    "_=plt.xticks(one.iloc[:, -2], labels=np.array(one.index), rotation=45)\n",
    "_=plt.yticks(one.iloc[:, -1], labels=one.iloc[:, -3]/max(one.iloc[:, -3]), rotation=45)\n"
   ]
  },
  {
   "cell_type": "code",
   "execution_count": null,
   "metadata": {},
   "outputs": [],
   "source": []
  }
 ],
 "metadata": {
  "kernelspec": {
   "display_name": "Python 3",
   "language": "python",
   "name": "python3"
  },
  "language_info": {
   "codemirror_mode": {
    "name": "ipython",
    "version": 3
   },
   "file_extension": ".py",
   "mimetype": "text/x-python",
   "name": "python",
   "nbconvert_exporter": "python",
   "pygments_lexer": "ipython3",
   "version": "3.6.8"
  }
 },
 "nbformat": 4,
 "nbformat_minor": 2
}

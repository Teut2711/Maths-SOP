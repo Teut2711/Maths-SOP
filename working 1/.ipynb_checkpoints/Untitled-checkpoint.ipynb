{
 "cells": [
  {
   "cell_type": "code",
   "execution_count": 1,
   "metadata": {},
   "outputs": [],
   "source": [
    "%matplotlib widget"
   ]
  },
  {
   "cell_type": "markdown",
   "metadata": {},
   "source": [
    "<html>\n",
    "    <h1>Libraries used :</h1>\n",
    "    <ul style=\"list-style-type: none;\">\n",
    "        <li>\n",
    "             <img width=150px height=150px  src=\"https://upload.wikimedia.org/wikipedia/commons/thumb/5/54/Sympy_logo.svg/1200px-Sympy_logo.svg.png\"  alt=\"Sympy\">\n",
    "        </li>\n",
    "        <br>\n",
    "        <li>\n",
    "             <img width=300px height=300px  src=\"https://matplotlib.org/_static/logo2.png\" alt=\"Matplotlib\">\n",
    "        </li>\n",
    "        <br>\n",
    "        <li>\n",
    "             <img width=200px height=200px src=\"https://upload.wikimedia.org/wikipedia/commons/thumb/1/1a/NumPy_logo.svg/1200px-NumPy_logo.svg.png\" alt=\"Numpy\">\n",
    "        </li>\n",
    "        <br>\n",
    "        <li>        \n",
    "            <img width=200px height=200px  src=\"https://www.fullstackpython.com/img/logos/scipy.png\" class=\"rounded\" alt=\"Scipy\">\n",
    "        </li>\n",
    "        <br>\n",
    "        <li>\n",
    "             <img width=400px height=400px  src=\"https://pandas.pydata.org/_static/pandas_logo.png\" class=\"rounded\" alt=\"Pandas\">\n",
    "        </li>\n",
    "      </ul>"
   ]
  },
  {
   "cell_type": "code",
   "execution_count": 2,
   "metadata": {},
   "outputs": [],
   "source": [
    "\n",
    "import numpy as np\n",
    "import sympy as sm\n",
    "from scipy.sparse import diags\n",
    "from scipy.integrate import RK45, solve_ivp\n",
    "import scipy.sparse as sp\n",
    "import scipy.sparse.linalg as la\n",
    "import matplotlib.pyplot as plt\n",
    "import matplotlib\n",
    "sm.init_printing()\n",
    "\n",
    "import time\n",
    "import os\n",
    "from functools import lru_cache\n",
    "import math\n",
    "import pandas as pd\n",
    "from tqdm import tqdm_notebook\n"
   ]
  },
  {
   "cell_type": "markdown",
   "metadata": {},
   "source": [
    "\\begin{equation}\n",
    "\\underline {System \\ of \\ equations :}\n",
    "\\\\\\ u_t + u  u_x + v_x + \\beta u_{xx} = 0 \n",
    "\\\\ v_t + (uv)_x - \\beta v_{xx} = 0 \n",
    "\\end{equation}\n",
    "\n",
    "\\begin{equation}\n",
    "\\underline {  Galerkin \\ Solution :}\n",
    "\\\\ u^h = \n",
    "\\sum_{i= 0}^{n} a_i(t)  \\phi_i(x) \n",
    "\\end{equation}\n",
    "\n",
    "\\begin{equation}\n",
    "\\underline {System \\ of \\ equations :}\n",
    "\\\\\\ \\int_0^1 { (w u_t + wu  u_x + wv_x + \\beta w u_{xx})} \\ dx= 0 \n",
    "\\\\ \\int_0^1 { (wv_t + w (uv)_x - \\beta w v_{xx})} \\ dx= 0 \n",
    "\\end{equation}\n",
    "\n",
    "\n",
    "\n",
    "<h3 align=\"center\" style=\"color:#FFE647;\">Equation  (i) </h3> \n",
    "\n",
    "\\begin{equation}\n",
    "\\\\\\ \\int_0^1  (w u_t  + wuu_x + wv_x ) \\ dx  - \\beta \\int_0^1 {w_x u_x} \\ dx + \\beta \\ (w(1) u_x(1) - w(0) u_x(0)) = 0 \n",
    "\\\\  (A \\gamma^{'} + \\gamma^TB\\gamma +C\\delta)\\hspace{5mm} - \\hspace{15mm}\\beta  D \\gamma \\hspace{10mm} + \\hspace{10mm} \\beta E \\gamma \\hspace{10mm}   = 0 \n",
    "\\\\ w = {\\phi_j}\n",
    "\\end{equation}\n",
    "\n",
    "<h3 align=\"center\" style=\"color:#FF3647;\">Equation  (ii) </h3> \n",
    "\n",
    "\\begin{equation}\n",
    "\\\\\\ \\int_0^1  (w v_t  + w(uv)_x ) \\ dx + \\beta \\int_0^1 {w_x v_x} \\ dx - \\beta \\ (w(1) v_x(1) - w(0) v_x(0)) = 0 \n",
    "\\\\  (A \\delta^{'} + \\gamma^TG\\delta)\\hspace{5mm}  + \\hspace{15mm}\\beta  D \\delta \\hspace{10mm} - \\hspace{10mm} \\beta E \\delta =0 \n",
    "\\\\ G = 2B\n",
    "\\\\ w = {\\phi_j}\n",
    "\\end{equation}"
   ]
  },
  {
   "cell_type": "markdown",
   "metadata": {},
   "source": [
    "<html>\n",
    "    <h1>"
   ]
  },
  {
   "cell_type": "code",
   "execution_count": 3,
   "metadata": {},
   "outputs": [
    {
     "data": {
      "text/html": [
       "\n",
       "        <iframe\n",
       "            width=\"990\"\n",
       "            height=\"600\"\n",
       "            src=\"https://www.hindawi.com/journals/ijde/2008/243459/\"\n",
       "            frameborder=\"0\"\n",
       "            allowfullscreen\n",
       "        ></iframe>\n",
       "        "
      ],
      "text/plain": [
       "<IPython.lib.display.IFrame at 0x1e208c875c0>"
      ]
     },
     "execution_count": 3,
     "metadata": {},
     "output_type": "execute_result"
    }
   ],
   "source": [
    "from IPython.core.display import HTML\n",
    "from IPython.display import IFrame\n",
    "IFrame(src='https://www.hindawi.com/journals/ijde/2008/243459/', width=990, height=600)"
   ]
  },
  {
   "cell_type": "code",
   "execution_count": 4,
   "metadata": {},
   "outputs": [],
   "source": [
    "\n",
    "\n",
    "## Gamma -----> u(x, t)\n",
    "\n",
    "## Delta -----> v(x, t)\n",
    "\n",
    "class Matrices:\n",
    "    \n",
    "    #A *gamma - beta(D *) +beta(E(1 - 0)gamma) = 0\n",
    "    \n",
    "    def __init__(self, N=10):\n",
    "        \n",
    "        self.N = N  #no of basis functions\n",
    "        self.shape = (N+1, N+1) #shape of matrices\n",
    "        self.h = 1/N #distance step\n",
    "        self.domain = np.linspace(0, 1, N+1) #domain 0-1\n",
    "        self.beta = -1  #constant \n",
    "        self.time_step = self.h**2 #time step \n",
    "        self.ld = .005\n",
    "        self.alpha = .5\n",
    "        self.beta = 1\n",
    "        self.x0 = 10\n",
    "        self.k = .2\n",
    "        \n",
    "        self.A = (self.h) * sp.csc_matrix(diags([       [1/6 for i in range(N)],      \n",
    "                                        [1/3] + [2/3]*(N-1) + [1/3], \n",
    "                                             [1/6 for i in range(N)] ], \n",
    "                                                   [1, 0, -1]), dtype=np.float32)  #phi phi\n",
    "        #+\n",
    "        self.B = np.array([self.matB(i) for i in range(N+1)]) #non linear\n",
    "        #+\n",
    "        \n",
    "        self.C = sp.csc_matrix(diags([       [1/2 for i in range(N)],   \n",
    "                                        [-1/2] + [0]*(N-1) + [1/2], \n",
    "                                             [-1/2 for i in range(N)] ], \n",
    "                                                   [1, 0, -1]), dtype=np.float32)  #phi phi'\n",
    "        \n",
    "\n",
    "        #-\n",
    "        self.D = (1/self.h) * sp.csr_matrix(diags([      [-1 for i in range(N)],    \n",
    "                                      [1] + [2]*(N-1) + [1], \n",
    "                                        [-1 for i in range(N)]],  \n",
    "                             [1, 0, -1] ), dtype=np.float32)  # phi' phi'\n",
    "                #+                \n",
    "        row = np.array([0, 0, N, N])\n",
    "        col = np.array([0, 1, N-1, N])\n",
    "        data = np.array([1, -1, -1, 1 ])\n",
    "        self.E = (1/self.h) *sp.csr_matrix((data, (row, col)), shape=self.shape, dtype=np.float32)    # non integrated\n",
    "    \n",
    "    \n",
    "        #Set initial conditions here\n",
    "        self.gamma = self.ld - 2 * self.k *(self.alpha + self.beta**2) **.5 * (np.tanh(self.k * (self.domain + self.x0)))**-1\n",
    "        self.delta = - 2* self.k**2 *(self.alpha + self.beta**2 + self.beta * (self.alpha + self.beta**2) **.5) * (np.sinh(self.k * (self.domain + self.x0)))**-2\n",
    "        \n",
    "        #Set solution here\n",
    "        self.exact_gamma = lambda t : self.ld -2 * self.k *(self.alpha + self.beta**2) **.5 * (np.tanh(self.k * (self.domain + self.x0) - self.ld * t))**-1 \n",
    "        self.exact_delta = lambda t : -2 * self.k**2 *(self.alpha + self.beta**2 + self.beta * (self.alpha + self.beta**2) **.5) * (np.sinh(self.k * (self.domain + self.x0) - self.ld * t))**-2\n",
    "        \n",
    "    def matB(self,i):\n",
    "            if i == 0 :\n",
    "                row = np.array([0, 0, 1, 1])\n",
    "                col = np.array([0, 1, 0, 1])\n",
    "                data = np.array([-1/3, 1/3, -1/6, 1/6])\n",
    "                return sp.csr_matrix((data, (row, col)), shape=self.shape,dtype=np.float32)        \n",
    "            elif i == self.N:\n",
    "                row = np.array([self.N-1, self.N - 1, self.N, self.N])\n",
    "                col = np.array([self.N-1, self.N , self.N -1, self.N])\n",
    "                data = np.array([-1/6, 1/6, -1/3, 1/3])\n",
    "                return sp.csr_matrix((data, (row, col)), shape=self.shape, dtype=np.float32)   \n",
    "            else:\n",
    "                row = np.array([i-1]*3 + [i]*3 + [i+1]*3)\n",
    "                col = np.array([col for col in range(i-1, i+1 + 1)]*3, dtype=np.float32)\n",
    "                data = np.array([-1/6, 1/6, 0, -1/3, 0, 1/3, 0, -1/6, 1/6 ])\n",
    "                return sp.csr_matrix((data, (row, col)), shape=self.shape, dtype=np.float32)    \n",
    "            \n",
    "                      \n",
    "\n",
    "                "
   ]
  },
  {
   "cell_type": "code",
   "execution_count": 5,
   "metadata": {},
   "outputs": [],
   "source": [
    "class Methods(Matrices): \n",
    "    \n",
    "    def __init__(self, num_basis = 10, method=\"Adam\"):\n",
    "        \n",
    "        super().__init__(num_basis)\n",
    "        eval(\"self.\"+method+\"()\")\n",
    "        \n",
    "        self.algo.y[0, 0], self.algo.y[0, 1] = self.exact_gamma(self.algo.t[0])[0],\\\n",
    "                   self.exact_gamma(self.algo.t[1])[0]\n",
    "        self.algo.y[self.N, 0], self.algo.y[self.N, 1] = self.exact_gamma(self.algo.t[0])[-1], \\\n",
    "                   self.exact_gamma(self.algo.t[1])[-1]\n",
    "        self.algo.y[self.N+1, 0], self.algo.y[self.N+1, 1] = self.exact_delta(self.algo.t[0])[0], \\\n",
    "                    self.exact_delta(self.algo.t[1])[0]\n",
    "        self.algo.y[-1, 0], self.algo.y[-1, 1] =  self.exact_delta(self.algo.t[0])[-1], \\\n",
    "                   self.exact_delta(self.algo.t[1])[-1]\n",
    "        \n",
    "        self.approx_half_gamma, self.approx_half_delta, self.approx_one_gamma, self.approx_one_delta = \\\n",
    "                             np.split(self.algo.y.flatten(\"F\"), 4)  \n",
    "\n",
    "        self.exact_half_gamma, self.exact_half_delta, self.exact_one_gamma, self.exact_one_delta = \\\n",
    "            self.exact_gamma(.5),  self.exact_delta(.5), self.exact_gamma(1), self.exact_delta(1)\n",
    "               \n",
    "               \n",
    "\n",
    "        self.error_half_gamma = math.sqrt(sum((self.approx_half_gamma - self.exact_half_gamma)**2))\n",
    "        self.error_one_gamma = math.sqrt(sum((self.approx_one_gamma - self.exact_one_gamma)**2))\n",
    "\n",
    "        self.error_half_delta = math.sqrt(sum((self.approx_half_delta - self.exact_half_delta)**2))\n",
    "        self.error_one_delta = math.sqrt(sum((self.approx_one_delta - self.exact_one_delta)**2))\n",
    "        \n",
    "        \n",
    "        \n",
    "    def fun(self, t, y):\n",
    "\n",
    "        gamma, delta = np.split(y, 2)\n",
    "        gamma[0] = self.exact_gamma(t)[0]  # x boundary conditions\n",
    "        gamma[-1] = self.exact_gamma(t)[-1]\n",
    "        delta[0] = self.exact_delta(t)[0] \n",
    "        delta[-1] = self.exact_delta(t)[-1]\n",
    "        gamma = gamma.reshape(-1, 1)\n",
    "        delta = delta.reshape(-1, 1)\n",
    "        return np.concatenate([(la.inv(self.A).dot(-self.C.dot(delta)-((gamma.T).dot(self.B.flatten())[0]+self.beta*(self.D - self.E)).dot(gamma) )).flatten(), \n",
    "                               (la.inv(self.A).dot((-(2*gamma.T).dot(self.B.flatten())[0] + self.beta*(-self.D + self.E)).dot(delta))).flatten()]) \n",
    "                 \n",
    "    \n",
    "    def Adam(self):\n",
    "\n",
    "        self.algo = solve_ivp(self.fun,t_span=(0, 1),  y0=np.concatenate([self.gamma, self.delta]), t_eval= [0.5, 1], vectorized=True, first_step = self.h, method=\"LSODA\")\n",
    "    "
   ]
  },
  {
   "cell_type": "code",
   "execution_count": 6,
   "metadata": {},
   "outputs": [
    {
     "data": {
      "application/vnd.jupyter.widget-view+json": {
       "model_id": "a0a36f845ddb48868d02d57f396a7330",
       "version_major": 2,
       "version_minor": 0
      },
      "text/plain": [
       "HBox(children=(IntProgress(value=0, max=8), HTML(value='')))"
      ]
     },
     "metadata": {},
     "output_type": "display_data"
    },
    {
     "ename": "KeyboardInterrupt",
     "evalue": "",
     "output_type": "error",
     "traceback": [
      "\u001b[1;31m---------------------------------------------------------------------------\u001b[0m",
      "\u001b[1;31mKeyboardInterrupt\u001b[0m                         Traceback (most recent call last)",
      "\u001b[1;32m<ipython-input-6-517ff476f6e0>\u001b[0m in \u001b[0;36m<module>\u001b[1;34m\u001b[0m\n\u001b[0;32m      5\u001b[0m \u001b[1;33m\u001b[0m\u001b[0m\n\u001b[0;32m      6\u001b[0m \u001b[1;32mfor\u001b[0m \u001b[0mi\u001b[0m \u001b[1;32min\u001b[0m \u001b[0mtqdm_notebook\u001b[0m\u001b[1;33m(\u001b[0m\u001b[0mpoints\u001b[0m\u001b[1;33m)\u001b[0m\u001b[1;33m:\u001b[0m\u001b[1;33m\u001b[0m\u001b[1;33m\u001b[0m\u001b[0m\n\u001b[1;32m----> 7\u001b[1;33m     \u001b[0mheateqn\u001b[0m \u001b[1;33m=\u001b[0m \u001b[0mMethods\u001b[0m\u001b[1;33m(\u001b[0m\u001b[0mi\u001b[0m\u001b[1;33m,\u001b[0m \u001b[0mmethod\u001b[0m\u001b[1;33m=\u001b[0m\u001b[1;34m\"Adam\"\u001b[0m\u001b[1;33m)\u001b[0m\u001b[1;33m\u001b[0m\u001b[1;33m\u001b[0m\u001b[0m\n\u001b[0m\u001b[0;32m      8\u001b[0m \u001b[1;33m\u001b[0m\u001b[0m\n\u001b[0;32m      9\u001b[0m \u001b[1;33m\u001b[0m\u001b[0m\n",
      "\u001b[1;32m<ipython-input-5-2865fb5ece79>\u001b[0m in \u001b[0;36m__init__\u001b[1;34m(self, num_basis, method)\u001b[0m\n\u001b[0;32m      4\u001b[0m \u001b[1;33m\u001b[0m\u001b[0m\n\u001b[0;32m      5\u001b[0m         \u001b[0msuper\u001b[0m\u001b[1;33m(\u001b[0m\u001b[1;33m)\u001b[0m\u001b[1;33m.\u001b[0m\u001b[0m__init__\u001b[0m\u001b[1;33m(\u001b[0m\u001b[0mnum_basis\u001b[0m\u001b[1;33m)\u001b[0m\u001b[1;33m\u001b[0m\u001b[1;33m\u001b[0m\u001b[0m\n\u001b[1;32m----> 6\u001b[1;33m         \u001b[0meval\u001b[0m\u001b[1;33m(\u001b[0m\u001b[1;34m\"self.\"\u001b[0m\u001b[1;33m+\u001b[0m\u001b[0mmethod\u001b[0m\u001b[1;33m+\u001b[0m\u001b[1;34m\"()\"\u001b[0m\u001b[1;33m)\u001b[0m\u001b[1;33m\u001b[0m\u001b[1;33m\u001b[0m\u001b[0m\n\u001b[0m\u001b[0;32m      7\u001b[0m \u001b[1;33m\u001b[0m\u001b[0m\n\u001b[0;32m      8\u001b[0m         \u001b[0mself\u001b[0m\u001b[1;33m.\u001b[0m\u001b[0malgo\u001b[0m\u001b[1;33m.\u001b[0m\u001b[0my\u001b[0m\u001b[1;33m[\u001b[0m\u001b[1;36m0\u001b[0m\u001b[1;33m,\u001b[0m \u001b[1;36m0\u001b[0m\u001b[1;33m]\u001b[0m\u001b[1;33m,\u001b[0m \u001b[0mself\u001b[0m\u001b[1;33m.\u001b[0m\u001b[0malgo\u001b[0m\u001b[1;33m.\u001b[0m\u001b[0my\u001b[0m\u001b[1;33m[\u001b[0m\u001b[1;36m0\u001b[0m\u001b[1;33m,\u001b[0m \u001b[1;36m1\u001b[0m\u001b[1;33m]\u001b[0m \u001b[1;33m=\u001b[0m \u001b[0mself\u001b[0m\u001b[1;33m.\u001b[0m\u001b[0mexact_gamma\u001b[0m\u001b[1;33m(\u001b[0m\u001b[0mself\u001b[0m\u001b[1;33m.\u001b[0m\u001b[0malgo\u001b[0m\u001b[1;33m.\u001b[0m\u001b[0mt\u001b[0m\u001b[1;33m[\u001b[0m\u001b[1;36m0\u001b[0m\u001b[1;33m]\u001b[0m\u001b[1;33m)\u001b[0m\u001b[1;33m[\u001b[0m\u001b[1;36m0\u001b[0m\u001b[1;33m]\u001b[0m\u001b[1;33m,\u001b[0m\u001b[0;31m\\\u001b[0m\u001b[1;33m\u001b[0m\u001b[1;33m\u001b[0m\u001b[0m\n",
      "\u001b[1;32m<string>\u001b[0m in \u001b[0;36m<module>\u001b[1;34m\u001b[0m\n",
      "\u001b[1;32m<ipython-input-5-2865fb5ece79>\u001b[0m in \u001b[0;36mAdam\u001b[1;34m(self)\u001b[0m\n\u001b[0;32m     46\u001b[0m     \u001b[1;32mdef\u001b[0m \u001b[0mAdam\u001b[0m\u001b[1;33m(\u001b[0m\u001b[0mself\u001b[0m\u001b[1;33m)\u001b[0m\u001b[1;33m:\u001b[0m\u001b[1;33m\u001b[0m\u001b[1;33m\u001b[0m\u001b[0m\n\u001b[0;32m     47\u001b[0m \u001b[1;33m\u001b[0m\u001b[0m\n\u001b[1;32m---> 48\u001b[1;33m         \u001b[0mself\u001b[0m\u001b[1;33m.\u001b[0m\u001b[0malgo\u001b[0m \u001b[1;33m=\u001b[0m \u001b[0msolve_ivp\u001b[0m\u001b[1;33m(\u001b[0m\u001b[0mself\u001b[0m\u001b[1;33m.\u001b[0m\u001b[0mfun\u001b[0m\u001b[1;33m,\u001b[0m\u001b[0mt_span\u001b[0m\u001b[1;33m=\u001b[0m\u001b[1;33m(\u001b[0m\u001b[1;36m0\u001b[0m\u001b[1;33m,\u001b[0m \u001b[1;36m1\u001b[0m\u001b[1;33m)\u001b[0m\u001b[1;33m,\u001b[0m  \u001b[0my0\u001b[0m\u001b[1;33m=\u001b[0m\u001b[0mnp\u001b[0m\u001b[1;33m.\u001b[0m\u001b[0mconcatenate\u001b[0m\u001b[1;33m(\u001b[0m\u001b[1;33m[\u001b[0m\u001b[0mself\u001b[0m\u001b[1;33m.\u001b[0m\u001b[0mgamma\u001b[0m\u001b[1;33m,\u001b[0m \u001b[0mself\u001b[0m\u001b[1;33m.\u001b[0m\u001b[0mdelta\u001b[0m\u001b[1;33m]\u001b[0m\u001b[1;33m)\u001b[0m\u001b[1;33m,\u001b[0m \u001b[0mt_eval\u001b[0m\u001b[1;33m=\u001b[0m \u001b[1;33m[\u001b[0m\u001b[1;36m0.5\u001b[0m\u001b[1;33m,\u001b[0m \u001b[1;36m1\u001b[0m\u001b[1;33m]\u001b[0m\u001b[1;33m,\u001b[0m \u001b[0mvectorized\u001b[0m\u001b[1;33m=\u001b[0m\u001b[1;32mTrue\u001b[0m\u001b[1;33m,\u001b[0m \u001b[0mfirst_step\u001b[0m \u001b[1;33m=\u001b[0m \u001b[0mself\u001b[0m\u001b[1;33m.\u001b[0m\u001b[0mh\u001b[0m\u001b[1;33m)\u001b[0m\u001b[1;33m\u001b[0m\u001b[1;33m\u001b[0m\u001b[0m\n\u001b[0m\u001b[0;32m     49\u001b[0m \u001b[1;33m\u001b[0m\u001b[0m\n",
      "\u001b[1;32mc:\\users\\dell\\desktop\\python~1\\maths\\lib\\site-packages\\scipy\\integrate\\_ivp\\ivp.py\u001b[0m in \u001b[0;36msolve_ivp\u001b[1;34m(fun, t_span, y0, method, t_eval, dense_output, events, vectorized, **options)\u001b[0m\n\u001b[0;32m    500\u001b[0m     \u001b[0mstatus\u001b[0m \u001b[1;33m=\u001b[0m \u001b[1;32mNone\u001b[0m\u001b[1;33m\u001b[0m\u001b[1;33m\u001b[0m\u001b[0m\n\u001b[0;32m    501\u001b[0m     \u001b[1;32mwhile\u001b[0m \u001b[0mstatus\u001b[0m \u001b[1;32mis\u001b[0m \u001b[1;32mNone\u001b[0m\u001b[1;33m:\u001b[0m\u001b[1;33m\u001b[0m\u001b[1;33m\u001b[0m\u001b[0m\n\u001b[1;32m--> 502\u001b[1;33m         \u001b[0mmessage\u001b[0m \u001b[1;33m=\u001b[0m \u001b[0msolver\u001b[0m\u001b[1;33m.\u001b[0m\u001b[0mstep\u001b[0m\u001b[1;33m(\u001b[0m\u001b[1;33m)\u001b[0m\u001b[1;33m\u001b[0m\u001b[1;33m\u001b[0m\u001b[0m\n\u001b[0m\u001b[0;32m    503\u001b[0m \u001b[1;33m\u001b[0m\u001b[0m\n\u001b[0;32m    504\u001b[0m         \u001b[1;32mif\u001b[0m \u001b[0msolver\u001b[0m\u001b[1;33m.\u001b[0m\u001b[0mstatus\u001b[0m \u001b[1;33m==\u001b[0m \u001b[1;34m'finished'\u001b[0m\u001b[1;33m:\u001b[0m\u001b[1;33m\u001b[0m\u001b[1;33m\u001b[0m\u001b[0m\n",
      "\u001b[1;32mc:\\users\\dell\\desktop\\python~1\\maths\\lib\\site-packages\\scipy\\integrate\\_ivp\\base.py\u001b[0m in \u001b[0;36mstep\u001b[1;34m(self)\u001b[0m\n\u001b[0;32m    180\u001b[0m         \u001b[1;32melse\u001b[0m\u001b[1;33m:\u001b[0m\u001b[1;33m\u001b[0m\u001b[1;33m\u001b[0m\u001b[0m\n\u001b[0;32m    181\u001b[0m             \u001b[0mt\u001b[0m \u001b[1;33m=\u001b[0m \u001b[0mself\u001b[0m\u001b[1;33m.\u001b[0m\u001b[0mt\u001b[0m\u001b[1;33m\u001b[0m\u001b[1;33m\u001b[0m\u001b[0m\n\u001b[1;32m--> 182\u001b[1;33m             \u001b[0msuccess\u001b[0m\u001b[1;33m,\u001b[0m \u001b[0mmessage\u001b[0m \u001b[1;33m=\u001b[0m \u001b[0mself\u001b[0m\u001b[1;33m.\u001b[0m\u001b[0m_step_impl\u001b[0m\u001b[1;33m(\u001b[0m\u001b[1;33m)\u001b[0m\u001b[1;33m\u001b[0m\u001b[1;33m\u001b[0m\u001b[0m\n\u001b[0m\u001b[0;32m    183\u001b[0m \u001b[1;33m\u001b[0m\u001b[0m\n\u001b[0;32m    184\u001b[0m             \u001b[1;32mif\u001b[0m \u001b[1;32mnot\u001b[0m \u001b[0msuccess\u001b[0m\u001b[1;33m:\u001b[0m\u001b[1;33m\u001b[0m\u001b[1;33m\u001b[0m\u001b[0m\n",
      "\u001b[1;32mc:\\users\\dell\\desktop\\python~1\\maths\\lib\\site-packages\\scipy\\integrate\\_ivp\\rk.py\u001b[0m in \u001b[0;36m_step_impl\u001b[1;34m(self)\u001b[0m\n\u001b[0;32m    141\u001b[0m \u001b[1;33m\u001b[0m\u001b[0m\n\u001b[0;32m    142\u001b[0m             y_new, f_new, error = rk_step(self.fun, t, y, self.f, h, self.A,\n\u001b[1;32m--> 143\u001b[1;33m                                           self.B, self.C, self.E, self.K)\n\u001b[0m\u001b[0;32m    144\u001b[0m             \u001b[0mscale\u001b[0m \u001b[1;33m=\u001b[0m \u001b[0matol\u001b[0m \u001b[1;33m+\u001b[0m \u001b[0mnp\u001b[0m\u001b[1;33m.\u001b[0m\u001b[0mmaximum\u001b[0m\u001b[1;33m(\u001b[0m\u001b[0mnp\u001b[0m\u001b[1;33m.\u001b[0m\u001b[0mabs\u001b[0m\u001b[1;33m(\u001b[0m\u001b[0my\u001b[0m\u001b[1;33m)\u001b[0m\u001b[1;33m,\u001b[0m \u001b[0mnp\u001b[0m\u001b[1;33m.\u001b[0m\u001b[0mabs\u001b[0m\u001b[1;33m(\u001b[0m\u001b[0my_new\u001b[0m\u001b[1;33m)\u001b[0m\u001b[1;33m)\u001b[0m \u001b[1;33m*\u001b[0m \u001b[0mrtol\u001b[0m\u001b[1;33m\u001b[0m\u001b[1;33m\u001b[0m\u001b[0m\n\u001b[0;32m    145\u001b[0m             \u001b[0merror_norm\u001b[0m \u001b[1;33m=\u001b[0m \u001b[0mnorm\u001b[0m\u001b[1;33m(\u001b[0m\u001b[0merror\u001b[0m \u001b[1;33m/\u001b[0m \u001b[0mscale\u001b[0m\u001b[1;33m)\u001b[0m\u001b[1;33m\u001b[0m\u001b[1;33m\u001b[0m\u001b[0m\n",
      "\u001b[1;32mc:\\users\\dell\\desktop\\python~1\\maths\\lib\\site-packages\\scipy\\integrate\\_ivp\\rk.py\u001b[0m in \u001b[0;36mrk_step\u001b[1;34m(fun, t, y, f, h, A, B, C, E, K)\u001b[0m\n\u001b[0;32m     68\u001b[0m     \u001b[1;32mfor\u001b[0m \u001b[0ms\u001b[0m\u001b[1;33m,\u001b[0m \u001b[1;33m(\u001b[0m\u001b[0ma\u001b[0m\u001b[1;33m,\u001b[0m \u001b[0mc\u001b[0m\u001b[1;33m)\u001b[0m \u001b[1;32min\u001b[0m \u001b[0menumerate\u001b[0m\u001b[1;33m(\u001b[0m\u001b[0mzip\u001b[0m\u001b[1;33m(\u001b[0m\u001b[0mA\u001b[0m\u001b[1;33m,\u001b[0m \u001b[0mC\u001b[0m\u001b[1;33m)\u001b[0m\u001b[1;33m)\u001b[0m\u001b[1;33m:\u001b[0m\u001b[1;33m\u001b[0m\u001b[1;33m\u001b[0m\u001b[0m\n\u001b[0;32m     69\u001b[0m         \u001b[0mdy\u001b[0m \u001b[1;33m=\u001b[0m \u001b[0mnp\u001b[0m\u001b[1;33m.\u001b[0m\u001b[0mdot\u001b[0m\u001b[1;33m(\u001b[0m\u001b[0mK\u001b[0m\u001b[1;33m[\u001b[0m\u001b[1;33m:\u001b[0m\u001b[0ms\u001b[0m \u001b[1;33m+\u001b[0m \u001b[1;36m1\u001b[0m\u001b[1;33m]\u001b[0m\u001b[1;33m.\u001b[0m\u001b[0mT\u001b[0m\u001b[1;33m,\u001b[0m \u001b[0ma\u001b[0m\u001b[1;33m)\u001b[0m \u001b[1;33m*\u001b[0m \u001b[0mh\u001b[0m\u001b[1;33m\u001b[0m\u001b[1;33m\u001b[0m\u001b[0m\n\u001b[1;32m---> 70\u001b[1;33m         \u001b[0mK\u001b[0m\u001b[1;33m[\u001b[0m\u001b[0ms\u001b[0m \u001b[1;33m+\u001b[0m \u001b[1;36m1\u001b[0m\u001b[1;33m]\u001b[0m \u001b[1;33m=\u001b[0m \u001b[0mfun\u001b[0m\u001b[1;33m(\u001b[0m\u001b[0mt\u001b[0m \u001b[1;33m+\u001b[0m \u001b[0mc\u001b[0m \u001b[1;33m*\u001b[0m \u001b[0mh\u001b[0m\u001b[1;33m,\u001b[0m \u001b[0my\u001b[0m \u001b[1;33m+\u001b[0m \u001b[0mdy\u001b[0m\u001b[1;33m)\u001b[0m\u001b[1;33m\u001b[0m\u001b[1;33m\u001b[0m\u001b[0m\n\u001b[0m\u001b[0;32m     71\u001b[0m \u001b[1;33m\u001b[0m\u001b[0m\n\u001b[0;32m     72\u001b[0m     \u001b[0my_new\u001b[0m \u001b[1;33m=\u001b[0m \u001b[0my\u001b[0m \u001b[1;33m+\u001b[0m \u001b[0mh\u001b[0m \u001b[1;33m*\u001b[0m \u001b[0mnp\u001b[0m\u001b[1;33m.\u001b[0m\u001b[0mdot\u001b[0m\u001b[1;33m(\u001b[0m\u001b[0mK\u001b[0m\u001b[1;33m[\u001b[0m\u001b[1;33m:\u001b[0m\u001b[1;33m-\u001b[0m\u001b[1;36m1\u001b[0m\u001b[1;33m]\u001b[0m\u001b[1;33m.\u001b[0m\u001b[0mT\u001b[0m\u001b[1;33m,\u001b[0m \u001b[0mB\u001b[0m\u001b[1;33m)\u001b[0m\u001b[1;33m\u001b[0m\u001b[1;33m\u001b[0m\u001b[0m\n",
      "\u001b[1;32mc:\\users\\dell\\desktop\\python~1\\maths\\lib\\site-packages\\scipy\\integrate\\_ivp\\base.py\u001b[0m in \u001b[0;36mfun\u001b[1;34m(t, y)\u001b[0m\n\u001b[0;32m    137\u001b[0m         \u001b[1;32mdef\u001b[0m \u001b[0mfun\u001b[0m\u001b[1;33m(\u001b[0m\u001b[0mt\u001b[0m\u001b[1;33m,\u001b[0m \u001b[0my\u001b[0m\u001b[1;33m)\u001b[0m\u001b[1;33m:\u001b[0m\u001b[1;33m\u001b[0m\u001b[1;33m\u001b[0m\u001b[0m\n\u001b[0;32m    138\u001b[0m             \u001b[0mself\u001b[0m\u001b[1;33m.\u001b[0m\u001b[0mnfev\u001b[0m \u001b[1;33m+=\u001b[0m \u001b[1;36m1\u001b[0m\u001b[1;33m\u001b[0m\u001b[1;33m\u001b[0m\u001b[0m\n\u001b[1;32m--> 139\u001b[1;33m             \u001b[1;32mreturn\u001b[0m \u001b[0mself\u001b[0m\u001b[1;33m.\u001b[0m\u001b[0mfun_single\u001b[0m\u001b[1;33m(\u001b[0m\u001b[0mt\u001b[0m\u001b[1;33m,\u001b[0m \u001b[0my\u001b[0m\u001b[1;33m)\u001b[0m\u001b[1;33m\u001b[0m\u001b[1;33m\u001b[0m\u001b[0m\n\u001b[0m\u001b[0;32m    140\u001b[0m \u001b[1;33m\u001b[0m\u001b[0m\n\u001b[0;32m    141\u001b[0m         \u001b[0mself\u001b[0m\u001b[1;33m.\u001b[0m\u001b[0mfun\u001b[0m \u001b[1;33m=\u001b[0m \u001b[0mfun\u001b[0m\u001b[1;33m\u001b[0m\u001b[1;33m\u001b[0m\u001b[0m\n",
      "\u001b[1;32mc:\\users\\dell\\desktop\\python~1\\maths\\lib\\site-packages\\scipy\\integrate\\_ivp\\base.py\u001b[0m in \u001b[0;36mfun_single\u001b[1;34m(t, y)\u001b[0m\n\u001b[0;32m    124\u001b[0m         \u001b[1;32mif\u001b[0m \u001b[0mvectorized\u001b[0m\u001b[1;33m:\u001b[0m\u001b[1;33m\u001b[0m\u001b[1;33m\u001b[0m\u001b[0m\n\u001b[0;32m    125\u001b[0m             \u001b[1;32mdef\u001b[0m \u001b[0mfun_single\u001b[0m\u001b[1;33m(\u001b[0m\u001b[0mt\u001b[0m\u001b[1;33m,\u001b[0m \u001b[0my\u001b[0m\u001b[1;33m)\u001b[0m\u001b[1;33m:\u001b[0m\u001b[1;33m\u001b[0m\u001b[1;33m\u001b[0m\u001b[0m\n\u001b[1;32m--> 126\u001b[1;33m                 \u001b[1;32mreturn\u001b[0m \u001b[0mself\u001b[0m\u001b[1;33m.\u001b[0m\u001b[0m_fun\u001b[0m\u001b[1;33m(\u001b[0m\u001b[0mt\u001b[0m\u001b[1;33m,\u001b[0m \u001b[0my\u001b[0m\u001b[1;33m[\u001b[0m\u001b[1;33m:\u001b[0m\u001b[1;33m,\u001b[0m \u001b[1;32mNone\u001b[0m\u001b[1;33m]\u001b[0m\u001b[1;33m)\u001b[0m\u001b[1;33m.\u001b[0m\u001b[0mravel\u001b[0m\u001b[1;33m(\u001b[0m\u001b[1;33m)\u001b[0m\u001b[1;33m\u001b[0m\u001b[1;33m\u001b[0m\u001b[0m\n\u001b[0m\u001b[0;32m    127\u001b[0m             \u001b[0mfun_vectorized\u001b[0m \u001b[1;33m=\u001b[0m \u001b[0mself\u001b[0m\u001b[1;33m.\u001b[0m\u001b[0m_fun\u001b[0m\u001b[1;33m\u001b[0m\u001b[1;33m\u001b[0m\u001b[0m\n\u001b[0;32m    128\u001b[0m         \u001b[1;32melse\u001b[0m\u001b[1;33m:\u001b[0m\u001b[1;33m\u001b[0m\u001b[1;33m\u001b[0m\u001b[0m\n",
      "\u001b[1;32mc:\\users\\dell\\desktop\\python~1\\maths\\lib\\site-packages\\scipy\\integrate\\_ivp\\base.py\u001b[0m in \u001b[0;36mfun_wrapped\u001b[1;34m(t, y)\u001b[0m\n\u001b[0;32m     19\u001b[0m \u001b[1;33m\u001b[0m\u001b[0m\n\u001b[0;32m     20\u001b[0m     \u001b[1;32mdef\u001b[0m \u001b[0mfun_wrapped\u001b[0m\u001b[1;33m(\u001b[0m\u001b[0mt\u001b[0m\u001b[1;33m,\u001b[0m \u001b[0my\u001b[0m\u001b[1;33m)\u001b[0m\u001b[1;33m:\u001b[0m\u001b[1;33m\u001b[0m\u001b[1;33m\u001b[0m\u001b[0m\n\u001b[1;32m---> 21\u001b[1;33m         \u001b[1;32mreturn\u001b[0m \u001b[0mnp\u001b[0m\u001b[1;33m.\u001b[0m\u001b[0masarray\u001b[0m\u001b[1;33m(\u001b[0m\u001b[0mfun\u001b[0m\u001b[1;33m(\u001b[0m\u001b[0mt\u001b[0m\u001b[1;33m,\u001b[0m \u001b[0my\u001b[0m\u001b[1;33m)\u001b[0m\u001b[1;33m,\u001b[0m \u001b[0mdtype\u001b[0m\u001b[1;33m=\u001b[0m\u001b[0mdtype\u001b[0m\u001b[1;33m)\u001b[0m\u001b[1;33m\u001b[0m\u001b[1;33m\u001b[0m\u001b[0m\n\u001b[0m\u001b[0;32m     22\u001b[0m \u001b[1;33m\u001b[0m\u001b[0m\n\u001b[0;32m     23\u001b[0m     \u001b[1;32mreturn\u001b[0m \u001b[0mfun_wrapped\u001b[0m\u001b[1;33m,\u001b[0m \u001b[0my0\u001b[0m\u001b[1;33m\u001b[0m\u001b[1;33m\u001b[0m\u001b[0m\n",
      "\u001b[1;32m<ipython-input-5-2865fb5ece79>\u001b[0m in \u001b[0;36mfun\u001b[1;34m(self, t, y)\u001b[0m\n\u001b[0;32m     41\u001b[0m         \u001b[0mdelta\u001b[0m \u001b[1;33m=\u001b[0m \u001b[0mdelta\u001b[0m\u001b[1;33m.\u001b[0m\u001b[0mreshape\u001b[0m\u001b[1;33m(\u001b[0m\u001b[1;33m-\u001b[0m\u001b[1;36m1\u001b[0m\u001b[1;33m,\u001b[0m \u001b[1;36m1\u001b[0m\u001b[1;33m)\u001b[0m\u001b[1;33m\u001b[0m\u001b[1;33m\u001b[0m\u001b[0m\n\u001b[0;32m     42\u001b[0m         return np.concatenate([(la.inv(self.A).dot(-self.C.dot(delta)-((gamma.T).dot(self.B.flatten())[0]+self.beta*(self.D - self.E)).dot(gamma) )).flatten(), \n\u001b[1;32m---> 43\u001b[1;33m                                (la.inv(self.A).dot((-(2*gamma.T).dot(self.B.flatten())[0] + self.beta*(-self.D + self.E)).dot(delta))).flatten()]) \n\u001b[0m\u001b[0;32m     44\u001b[0m \u001b[1;33m\u001b[0m\u001b[0m\n\u001b[0;32m     45\u001b[0m \u001b[1;33m\u001b[0m\u001b[0m\n",
      "\u001b[1;32mc:\\users\\dell\\desktop\\python~1\\maths\\lib\\site-packages\\scipy\\sparse\\linalg\\matfuncs.py\u001b[0m in \u001b[0;36minv\u001b[1;34m(A)\u001b[0m\n\u001b[0;32m     76\u001b[0m \u001b[1;33m\u001b[0m\u001b[0m\n\u001b[0;32m     77\u001b[0m     \u001b[0mI\u001b[0m \u001b[1;33m=\u001b[0m \u001b[0mspeye\u001b[0m\u001b[1;33m(\u001b[0m\u001b[0mA\u001b[0m\u001b[1;33m.\u001b[0m\u001b[0mshape\u001b[0m\u001b[1;33m[\u001b[0m\u001b[1;36m0\u001b[0m\u001b[1;33m]\u001b[0m\u001b[1;33m,\u001b[0m \u001b[0mA\u001b[0m\u001b[1;33m.\u001b[0m\u001b[0mshape\u001b[0m\u001b[1;33m[\u001b[0m\u001b[1;36m1\u001b[0m\u001b[1;33m]\u001b[0m\u001b[1;33m,\u001b[0m \u001b[0mdtype\u001b[0m\u001b[1;33m=\u001b[0m\u001b[0mA\u001b[0m\u001b[1;33m.\u001b[0m\u001b[0mdtype\u001b[0m\u001b[1;33m,\u001b[0m \u001b[0mformat\u001b[0m\u001b[1;33m=\u001b[0m\u001b[0mA\u001b[0m\u001b[1;33m.\u001b[0m\u001b[0mformat\u001b[0m\u001b[1;33m)\u001b[0m\u001b[1;33m\u001b[0m\u001b[1;33m\u001b[0m\u001b[0m\n\u001b[1;32m---> 78\u001b[1;33m     \u001b[0mAinv\u001b[0m \u001b[1;33m=\u001b[0m \u001b[0mspsolve\u001b[0m\u001b[1;33m(\u001b[0m\u001b[0mA\u001b[0m\u001b[1;33m,\u001b[0m \u001b[0mI\u001b[0m\u001b[1;33m)\u001b[0m\u001b[1;33m\u001b[0m\u001b[1;33m\u001b[0m\u001b[0m\n\u001b[0m\u001b[0;32m     79\u001b[0m     \u001b[1;32mreturn\u001b[0m \u001b[0mAinv\u001b[0m\u001b[1;33m\u001b[0m\u001b[1;33m\u001b[0m\u001b[0m\n\u001b[0;32m     80\u001b[0m \u001b[1;33m\u001b[0m\u001b[0m\n",
      "\u001b[1;32mc:\\users\\dell\\desktop\\python~1\\maths\\lib\\site-packages\\scipy\\sparse\\linalg\\dsolve\\linsolve.py\u001b[0m in \u001b[0;36mspsolve\u001b[1;34m(A, b, permc_spec, use_umfpack)\u001b[0m\n\u001b[0;32m    211\u001b[0m             \u001b[1;32mfor\u001b[0m \u001b[0mj\u001b[0m \u001b[1;32min\u001b[0m \u001b[0mrange\u001b[0m\u001b[1;33m(\u001b[0m\u001b[0mb\u001b[0m\u001b[1;33m.\u001b[0m\u001b[0mshape\u001b[0m\u001b[1;33m[\u001b[0m\u001b[1;36m1\u001b[0m\u001b[1;33m]\u001b[0m\u001b[1;33m)\u001b[0m\u001b[1;33m:\u001b[0m\u001b[1;33m\u001b[0m\u001b[1;33m\u001b[0m\u001b[0m\n\u001b[0;32m    212\u001b[0m                 \u001b[0mbj\u001b[0m \u001b[1;33m=\u001b[0m \u001b[0mb\u001b[0m\u001b[1;33m[\u001b[0m\u001b[1;33m:\u001b[0m\u001b[1;33m,\u001b[0m \u001b[0mj\u001b[0m\u001b[1;33m]\u001b[0m\u001b[1;33m.\u001b[0m\u001b[0mA\u001b[0m\u001b[1;33m.\u001b[0m\u001b[0mravel\u001b[0m\u001b[1;33m(\u001b[0m\u001b[1;33m)\u001b[0m\u001b[1;33m\u001b[0m\u001b[1;33m\u001b[0m\u001b[0m\n\u001b[1;32m--> 213\u001b[1;33m                 \u001b[0mxj\u001b[0m \u001b[1;33m=\u001b[0m \u001b[0mAfactsolve\u001b[0m\u001b[1;33m(\u001b[0m\u001b[0mbj\u001b[0m\u001b[1;33m)\u001b[0m\u001b[1;33m\u001b[0m\u001b[1;33m\u001b[0m\u001b[0m\n\u001b[0m\u001b[0;32m    214\u001b[0m                 \u001b[0mw\u001b[0m \u001b[1;33m=\u001b[0m \u001b[0mnp\u001b[0m\u001b[1;33m.\u001b[0m\u001b[0mflatnonzero\u001b[0m\u001b[1;33m(\u001b[0m\u001b[0mxj\u001b[0m\u001b[1;33m)\u001b[0m\u001b[1;33m\u001b[0m\u001b[1;33m\u001b[0m\u001b[0m\n\u001b[0;32m    215\u001b[0m                 \u001b[0msegment_length\u001b[0m \u001b[1;33m=\u001b[0m \u001b[0mw\u001b[0m\u001b[1;33m.\u001b[0m\u001b[0mshape\u001b[0m\u001b[1;33m[\u001b[0m\u001b[1;36m0\u001b[0m\u001b[1;33m]\u001b[0m\u001b[1;33m\u001b[0m\u001b[1;33m\u001b[0m\u001b[0m\n",
      "\u001b[1;31mKeyboardInterrupt\u001b[0m: "
     ]
    }
   ],
   "source": [
    "points = [5*j for j in range(2, 30)]\n",
    "\n",
    "half = pd.DataFrame(data =None, columns=[\"Approximate u\", \"Exact u\", \"$ ||.||_2 \\ Error u $\", \"Approximate v\", \"Exact v\", \"$ ||.||_2 \\ Error v $\"])\n",
    "one = pd.DataFrame(data =None, columns=[\"Approximate u\", \"Exact u\", \"$ ||.||_2 \\ Error u $\", \"Approximate v\", \"Exact v\", \"$ ||.||_2 \\ Error v $\"])\n",
    "\n",
    "for i in tqdm_notebook(points):\n",
    "    heateqn = Methods(i, method=\"Adam\")\n",
    "    \n",
    "\n",
    "    half.loc[i] = [heateqn.approx_half_gamma, heateqn.exact_half_gamma, heateqn.error_half_gamma, heateqn.approx_half_delta, heateqn.exact_half_delta, heateqn.error_half_delta]\n",
    "\n",
    "    one.loc[i] = [heateqn.approx_one_gamma, heateqn.exact_one_gamma, heateqn.error_one_gamma, heateqn.approx_one_delta, heateqn.exact_one_delta, heateqn.error_one_delta]"
   ]
  },
  {
   "cell_type": "code",
   "execution_count": null,
   "metadata": {},
   "outputs": [],
   "source": [
    "x = np.log(one.index.tolist())\n",
    "y_u = np.log(one[ \"$ ||.||_2 \\ Error u $\"].tolist())\n",
    "y_v = np.log(one[ \"$ ||.||_2 \\ Error v $\"].tolist())"
   ]
  },
  {
   "cell_type": "code",
   "execution_count": null,
   "metadata": {},
   "outputs": [],
   "source": [
    "x"
   ]
  },
  {
   "cell_type": "code",
   "execution_count": null,
   "metadata": {},
   "outputs": [],
   "source": [
    "y_u"
   ]
  },
  {
   "cell_type": "code",
   "execution_count": null,
   "metadata": {},
   "outputs": [],
   "source": [
    "y_v"
   ]
  },
  {
   "cell_type": "code",
   "execution_count": null,
   "metadata": {},
   "outputs": [],
   "source": [
    "plt.plot(x, y_u)"
   ]
  },
  {
   "cell_type": "code",
   "execution_count": 7,
   "metadata": {},
   "outputs": [
    {
     "ename": "NameError",
     "evalue": "name 'errors' is not defined",
     "output_type": "error",
     "traceback": [
      "\u001b[1;31m---------------------------------------------------------------------------\u001b[0m",
      "\u001b[1;31mNameError\u001b[0m                                 Traceback (most recent call last)",
      "\u001b[1;32m<ipython-input-7-ab14c7b75346>\u001b[0m in \u001b[0;36m<module>\u001b[1;34m\u001b[0m\n\u001b[1;32m----> 1\u001b[1;33m \u001b[0merrors\u001b[0m\u001b[1;33m\u001b[0m\u001b[1;33m\u001b[0m\u001b[0m\n\u001b[0m",
      "\u001b[1;31mNameError\u001b[0m: name 'errors' is not defined"
     ]
    }
   ],
   "source": [
    "errors"
   ]
  },
  {
   "cell_type": "code",
   "execution_count": 8,
   "metadata": {},
   "outputs": [
    {
     "data": {
      "text/html": [
       "<div>\n",
       "<style scoped>\n",
       "    .dataframe tbody tr th:only-of-type {\n",
       "        vertical-align: middle;\n",
       "    }\n",
       "\n",
       "    .dataframe tbody tr th {\n",
       "        vertical-align: top;\n",
       "    }\n",
       "\n",
       "    .dataframe thead th {\n",
       "        text-align: right;\n",
       "    }\n",
       "</style>\n",
       "<table border=\"1\" class=\"dataframe\">\n",
       "  <thead>\n",
       "    <tr style=\"text-align: right;\">\n",
       "      <th></th>\n",
       "      <th>Approximate u</th>\n",
       "      <th>Exact u</th>\n",
       "      <th>$ ||.||_2 \\ Error u $</th>\n",
       "      <th>Approximate v</th>\n",
       "      <th>Exact v</th>\n",
       "      <th>$ ||.||_2 \\ Error v $</th>\n",
       "    </tr>\n",
       "  </thead>\n",
       "  <tbody>\n",
       "    <tr>\n",
       "      <th>10</th>\n",
       "      <td>[-0.5032717029250897, -0.5028121832941083, -0....</td>\n",
       "      <td>[-0.5032717029250897, -0.5025382867475189, -0....</td>\n",
       "      <td>0.001365</td>\n",
       "      <td>[-0.016657386264782463, -0.01582843436273156, ...</td>\n",
       "      <td>[-0.016657386264782463, -0.01598073086191085, ...</td>\n",
       "      <td>0.000908</td>\n",
       "    </tr>\n",
       "    <tr>\n",
       "      <th>15</th>\n",
       "      <td>[-0.5032717029250897, -0.5029734220450923, -0....</td>\n",
       "      <td>[-0.5032717029250897, -0.5027793875451584, -0....</td>\n",
       "      <td>0.001680</td>\n",
       "      <td>[-0.016657386264782463, -0.016089648872508494,...</td>\n",
       "      <td>[-0.016657386264782463, -0.016203064504127722,...</td>\n",
       "      <td>0.001139</td>\n",
       "    </tr>\n",
       "    <tr>\n",
       "      <th>20</th>\n",
       "      <td>[-0.5032717029250897, -0.5030197155744403, -0....</td>\n",
       "      <td>[-0.5032717029250897, -0.5029011931206973, -0....</td>\n",
       "      <td>0.001959</td>\n",
       "      <td>[-0.016657386264782463, -0.01621927613068761, ...</td>\n",
       "      <td>[-0.016657386264782463, -0.01631542894790494, ...</td>\n",
       "      <td>0.001327</td>\n",
       "    </tr>\n",
       "  </tbody>\n",
       "</table>\n",
       "</div>"
      ],
      "text/plain": [
       "                                        Approximate u  \\\n",
       "10  [-0.5032717029250897, -0.5028121832941083, -0....   \n",
       "15  [-0.5032717029250897, -0.5029734220450923, -0....   \n",
       "20  [-0.5032717029250897, -0.5030197155744403, -0....   \n",
       "\n",
       "                                              Exact u  $ ||.||_2 \\ Error u $  \\\n",
       "10  [-0.5032717029250897, -0.5025382867475189, -0....               0.001365   \n",
       "15  [-0.5032717029250897, -0.5027793875451584, -0....               0.001680   \n",
       "20  [-0.5032717029250897, -0.5029011931206973, -0....               0.001959   \n",
       "\n",
       "                                        Approximate v  \\\n",
       "10  [-0.016657386264782463, -0.01582843436273156, ...   \n",
       "15  [-0.016657386264782463, -0.016089648872508494,...   \n",
       "20  [-0.016657386264782463, -0.01621927613068761, ...   \n",
       "\n",
       "                                              Exact v  $ ||.||_2 \\ Error v $  \n",
       "10  [-0.016657386264782463, -0.01598073086191085, ...               0.000908  \n",
       "15  [-0.016657386264782463, -0.016203064504127722,...               0.001139  \n",
       "20  [-0.016657386264782463, -0.01631542894790494, ...               0.001327  "
      ]
     },
     "execution_count": 8,
     "metadata": {},
     "output_type": "execute_result"
    }
   ],
   "source": [
    "half"
   ]
  },
  {
   "cell_type": "code",
   "execution_count": null,
   "metadata": {},
   "outputs": [],
   "source": []
  }
 ],
 "metadata": {
  "kernelspec": {
   "display_name": "Python 3",
   "language": "python",
   "name": "python3"
  },
  "language_info": {
   "codemirror_mode": {
    "name": "ipython",
    "version": 3
   },
   "file_extension": ".py",
   "mimetype": "text/x-python",
   "name": "python",
   "nbconvert_exporter": "python",
   "pygments_lexer": "ipython3",
   "version": "3.6.8"
  }
 },
 "nbformat": 4,
 "nbformat_minor": 2
}

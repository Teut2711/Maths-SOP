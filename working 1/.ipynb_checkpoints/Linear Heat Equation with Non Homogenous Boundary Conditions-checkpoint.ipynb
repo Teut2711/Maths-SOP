{
 "cells": [
  {
   "cell_type": "code",
   "execution_count": 1,
   "metadata": {},
   "outputs": [],
   "source": [
    "%matplotlib widget"
   ]
  },
  {
   "cell_type": "markdown",
   "metadata": {},
   "source": [
    "<html>\n",
    "    <h1>Libraries used :</h1>\n",
    "    <ul style=\"list-style-type: none;\">\n",
    "        <li>\n",
    "             <img width=150px height=150px  src=\"https://upload.wikimedia.org/wikipedia/commons/thumb/5/54/Sympy_logo.svg/1200px-Sympy_logo.svg.png\"  alt=\"Sympy\">\n",
    "        </li>\n",
    "        <br>\n",
    "        <li>\n",
    "             <img width=300px height=300px  src=\"https://matplotlib.org/_static/logo2.png\" alt=\"Matplotlib\">\n",
    "        </li>\n",
    "        <br>\n",
    "        <li>\n",
    "             <img width=200px height=200px src=\"https://upload.wikimedia.org/wikipedia/commons/thumb/1/1a/NumPy_logo.svg/1200px-NumPy_logo.svg.png\" alt=\"Numpy\">\n",
    "        </li>\n",
    "        <br>\n",
    "        <li>        \n",
    "            <img width=200px height=200px  src=\"https://www.fullstackpython.com/img/logos/scipy.png\" class=\"rounded\" alt=\"Scipy\">\n",
    "        </li>\n",
    "        <br>\n",
    "        <li>\n",
    "             <img width=400px height=400px  src=\"https://pandas.pydata.org/_static/pandas_logo.png\" class=\"rounded\" alt=\"Pandas\">\n",
    "        </li>\n",
    "      </ul>"
   ]
  },
  {
   "cell_type": "code",
   "execution_count": 2,
   "metadata": {},
   "outputs": [],
   "source": [
    "\n",
    "import numpy as np\n",
    "from scipy.sparse import diags\n",
    "from scipy.integrate import RK45, solve_ivp\n",
    "import scipy.sparse as sp\n",
    "import scipy.sparse.linalg as la\n",
    "import matplotlib.pyplot as plt\n",
    "import matplotlib\n",
    "\n",
    "\n",
    "import time\n",
    "import os\n",
    "from functools import lru_cache\n",
    "import math\n",
    "import pandas as pd\n",
    "from tqdm import tqdm_notebook\n"
   ]
  },
  {
   "cell_type": "markdown",
   "metadata": {},
   "source": [
    "<html>\n",
    "    <h3 align=\"center\" style=\"color:#FF1C0C;\"><u> Heat Equation  </u> </h3> \n",
    "   <br>\n",
    "</html>\n",
    "\n",
    "\\begin{equation}\n",
    "\\\\\\ u_t  + \\beta u_{xx}    = - \\left(\\pi^{2} \\beta - 1\\right) e^{t} \\sin{\\left(\\pi x \\right)}\n",
    "\\\\ u^h = \\sum_{i= 0}^{n} a_i(t)  \\phi_i(x) \n",
    "\\\\ \\int_0^1 { (w u_t + \\beta w u_{xx})} \\ dx= \\int_0^1 w ({- \\left(\\pi^{2} \\beta - 1\\right) e^{t} \\sin{\\left(\\pi x \\right)}}) dx\n",
    "\\\\\\ \\int_0^1  w u_t   \\ dx   - \\beta \\int_0^1 {w_x u_x} \\ dx  + \\beta \\ (w(1) u_x(1) - w(0) u_x(0))= \\int_0^1 w ({- \\left(\\pi^{2} \\beta - 1\\right) e^{t} \\sin{\\left(\\pi x \\right)}}) dx\n",
    "\\\\  A \\alpha^{'}(t) \\hspace{5mm} \\ -  \\hspace{5mm}\\beta  D \\alpha(t) \\hspace{10mm} +\\hspace{10mm}  \\beta E \\alpha(t)   = f(t)\n",
    "\\\\ w = {\\phi_j}(x)\n",
    "\\end{equation}\n",
    "\n",
    "\\begin{equation}\n",
    "\\\\  \\alpha^{'}(t) = A^{-1}(\\beta ( D - E) \\alpha(t) + f(t)) \\hspace{10mm} \n",
    "\\end{equation}\n",
    "\n",
    "<html>\n",
    "    <h3 align=\"center\" style=\"color:#FF1C0C;\"><u>Boundary Conditions</u> </h3> <br>\n",
    "</html>\n",
    "\\begin{equation}\n",
    "\\\\  u(0, t) = 0  \n",
    "\\\\  u(N, t) = sin(1)\n",
    "\\\\  u(x, 0) = sin(x) \n",
    "\\end{equation}\n",
    "\n",
    "<html>\n",
    "    <h3 align=\"center\" style=\"color:#FF1C0C;\"><u>Exact Solution</u> </h3> <br>\n",
    "</html>\n",
    "\\begin{equation}\n",
    "\\\\  u(x, t) = e^t sin (x) \n",
    "\\end{equation}"
   ]
  },
  {
   "cell_type": "code",
   "execution_count": 3,
   "metadata": {},
   "outputs": [],
   "source": [
    "class Matrices:\n",
    "    \n",
    "    #A *alpha - beta(D *) +beta(E(1 - 0)alpha) = 0\n",
    "    \n",
    "    def __init__(self, N=10):\n",
    "        \n",
    "        self.N = N\n",
    "        self.shape = (N+1, N+1)\n",
    "        self.h = 1/N\n",
    "        self.domain = np.linspace(0, 1, N+1) \n",
    "        self.beta = -1\n",
    "        self.time_step = self.h**2\n",
    "        self.runs = self.N**2\n",
    "        \n",
    "        self.A = (self.h) * sp.csc_matrix(diags([       [1/6 for i in range(N)],   \\\n",
    "                                        [1/3] + [2/3]*(N-1) + [1/3], \\\n",
    "                                             [1/6 for i in range(N)] ], \\\n",
    "                                                   [1, 0, -1]), dtype=np.float32)\n",
    "        #-\n",
    "        self.D = (1/self.h) * sp.csr_matrix(diags([      [-1 for i in range(N)],  \\\n",
    "                                      [1] + [2]*(N-1) + [1], \\\n",
    "                                        [-1 for i in range(N)]],  \\\n",
    "                             [1, 0, -1] ), dtype=np.float32)\n",
    "                #+                \n",
    "        row = np.array([0, 0, N, N])\n",
    "        col = np.array([0, 1, N-1, N])\n",
    "        data = np.array([1, -1, -1, 1 ])\n",
    "        self.E = (1/self.h) *sp.csr_matrix((data, (row, col)), shape=self.shape, dtype=np.float32)    \n",
    "      \n",
    "\n",
    "\n",
    "        self.f_without_t = np.array(\\\n",
    "                                                               \n",
    "                 [(-(self.beta - 1)*(self.h - math.sin(self.h))/self.h) ] +\\\n",
    "                                     \n",
    "                 [(2*(self.beta - 1)*(math.cos(self.h) - 1)*math.sin(self.h*k)/self.h)  for k in range(1, self.N)]+\\\n",
    "                                    \n",
    "                [((self.beta - 1)*(self.h*math.cos(self.N*self.h) - math.sin(self.N*self.h) + math.sin(self.h*(N - 1)))/self.h) ]\n",
    "                   ).reshape(self.N+1, 1)\n",
    "\n",
    "        self.f_t = lambda t:math.exp(t)*self.f_without_t\n",
    "     \n",
    "\n",
    "   \n",
    "        #Set initial conditions here\n",
    "        self.alpha = np.sin(self.domain).reshape(N+1, 1)\n",
    "        \n",
    "        #Set solution here\n",
    "        self.exact_solution = lambda t: np.sin(self.domain).reshape(-1, 1).dot(np.exp(t).reshape(1, -1))\n",
    "        "
   ]
  },
  {
   "cell_type": "code",
   "execution_count": 4,
   "metadata": {},
   "outputs": [],
   "source": [
    "class Methods(Matrices): \n",
    "    \n",
    "    def __init__(self, num_basis = 10, method=\"Adam\"):\n",
    "        \n",
    "        super().__init__(num_basis)\n",
    "        eval(\"self.\"+method+\"()\")\n",
    "        \n",
    "        self.approx_half, self.approx_one = np.split(self.algo.y.flatten(\"F\"), len(self.algo.t))  \n",
    "\n",
    "        self.exact_half, self.exact_one =\\\n",
    "                            np.split(self.exact_solution(self.algo.t).flatten(\"F\"), len(self.algo.t))\n",
    "\n",
    "        self.error_half = math.sqrt(sum((self.approx_half - self.exact_half)**2))\n",
    "        self.error_one = math.sqrt(sum((self.approx_one - self.exact_one)**2))\n",
    "        \n",
    "    \n",
    "\n",
    "        \n",
    "    def fun(self, t, y):\n",
    "\n",
    "        y[0] = 0\n",
    "        y[-1] = math.exp(t)* math.sin(1)\n",
    "\n",
    "        return la.inv(self.A).dot(self.beta*(self.D - self.E).dot(y) + self.f_t(t))\n",
    "    \n",
    "    def Adam(self):   \n",
    "        self.algo = solve_ivp(self.fun,t_span=(0, 1),  y0=self.alpha.ravel(), \\\n",
    "                     t_eval= [0.5, 1], vectorized=True, first_step = self.h, method=\"LSODA\")\n",
    "        self.algo.y[0, :] = 0; self.algo.y[-1, :] = np.exp(self.algo.t)* math.sin(1)   # refresh boundary conditions\n",
    "        \n",
    "        \n",
    "\n",
    "    def RK45(self):\n",
    "        pass\n"
   ]
  },
  {
   "cell_type": "code",
   "execution_count": 5,
   "metadata": {},
   "outputs": [
    {
     "data": {
      "application/vnd.jupyter.widget-view+json": {
       "model_id": "e0d7d1ea0ac443739f43cbcc799ff71f",
       "version_major": 2,
       "version_minor": 0
      },
      "text/plain": [
       "HBox(children=(IntProgress(value=0, max=28), HTML(value='')))"
      ]
     },
     "metadata": {},
     "output_type": "display_data"
    },
    {
     "name": "stdout",
     "output_type": "stream",
     "text": [
      "\n"
     ]
    }
   ],
   "source": [
    "points = [5*j for j in range(2, 30)]\n",
    "\n",
    "half = pd.DataFrame(data =None, columns=[\"Approximate\", \"Exact\", \"$ ||.||_2 \\ Error $\"])\n",
    "one = pd.DataFrame(data =None, columns=[\"Approximate\", \"Exact\", \"$ ||.||_2 \\ Error $\"])\n",
    "\n",
    "for i in tqdm_notebook(points):\n",
    "    heateqn = Methods(i, method=\"Adam\")\n",
    "    half.loc[i] = [heateqn.approx_half, heateqn.exact_half, heateqn.error_half]\n",
    "    one.loc[i] = [heateqn.approx_one, heateqn.exact_one, heateqn.error_one]"
   ]
  },
  {
   "cell_type": "code",
   "execution_count": 7,
   "metadata": {},
   "outputs": [],
   "source": [
    "half.to_csv(\"L HE with NH B.C. t=.5.csv\")\n",
    "one.to_csv(\"L HE with NH B.C. t=1.csv\")"
   ]
  },
  {
   "cell_type": "code",
   "execution_count": null,
   "metadata": {},
   "outputs": [],
   "source": []
  }
 ],
 "metadata": {
  "kernelspec": {
   "display_name": "Python 3",
   "language": "python",
   "name": "python3"
  },
  "language_info": {
   "codemirror_mode": {
    "name": "ipython",
    "version": 3
   },
   "file_extension": ".py",
   "mimetype": "text/x-python",
   "name": "python",
   "nbconvert_exporter": "python",
   "pygments_lexer": "ipython3",
   "version": "3.6.8"
  }
 },
 "nbformat": 4,
 "nbformat_minor": 2
}

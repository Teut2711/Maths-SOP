{
 "cells": [
  {
   "cell_type": "markdown",
   "metadata": {},
   "source": [
    "<html>\n",
    "    <h1>Libraries used :</h1>\n",
    "    <ul style=\"list-style-type: none;\">\n",
    "        <li>\n",
    "             <img width=150px height=150px  src=\"https://upload.wikimedia.org/wikipedia/commons/thumb/5/54/Sympy_logo.svg/1200px-Sympy_logo.svg.png\"  alt=\"Sympy\">\n",
    "        </li>\n",
    "        <br>\n",
    "        <li>\n",
    "             <img width=300px height=300px  src=\"https://matplotlib.org/_static/logo2.png\" alt=\"Matplotlib\">\n",
    "        </li>\n",
    "        <br>\n",
    "        <li>\n",
    "             <img width=200px height=200px src=\"https://upload.wikimedia.org/wikipedia/commons/thumb/1/1a/NumPy_logo.svg/1200px-NumPy_logo.svg.png\" alt=\"Numpy\">\n",
    "        </li>\n",
    "        <br>\n",
    "        <li>        \n",
    "            <img width=200px height=200px  src=\"https://www.fullstackpython.com/img/logos/scipy.png\" class=\"rounded\" alt=\"Scipy\">\n",
    "        </li>\n",
    "        <br>\n",
    "        <li>\n",
    "             <img width=400px height=400px  src=\"https://pandas.pydata.org/_static/pandas_logo.png\" class=\"rounded\" alt=\"Pandas\">\n",
    "        </li>\n",
    "      </ul>"
   ]
  },
  {
   "cell_type": "code",
   "execution_count": 1,
   "metadata": {},
   "outputs": [],
   "source": [
    "import numpy as np\n",
    "from numba import jit, int32, float32, prange\n",
    "from scipy.sparse import diags\n",
    "from scipy.integrate import RK45, solve_ivp\n",
    "import scipy.sparse as sp\n",
    "import matplotlib.pyplot as plt\n",
    "import matplotlib\n",
    "from time import time\n",
    "import pandas as pd\n",
    "\n",
    "import time\n",
    "import os\n",
    "import math\n",
    "#import pandas as pd\n",
    "from tqdm import tqdm_notebook\n"
   ]
  },
  {
   "cell_type": "code",
   "execution_count": null,
   "metadata": {},
   "outputs": [],
   "source": [
    "plt.ioff()\n",
    "plt.clf()"
   ]
  },
  {
   "cell_type": "markdown",
   "metadata": {},
   "source": [
    "<html>\n",
    "    <h3 align=\"center\" style=\"color:#FF1C0C;\"><u> Heat Equation  </u> </h3> \n",
    "   <br>\n",
    "</html>\n",
    "\n",
    "\\begin{equation}\n",
    "\\\\\\ u_t  + \\beta u_{xx}    = - \\left(\\beta - 1\\right) e^{t} \\sin{\\left(x \\right)}\n",
    "\\\\ u^h = \\sum_{i= 0}^{n} a_i(t)  \\phi_i(x) \n",
    "\\\\ \\int_0^1 { (w u_t + \\beta w u_{xx})} \\ dx= \\int_0^1 w (- \\left(\\beta - 1\\right) e^{t} \\sin{\\left(x \\right)}) dx\n",
    "\\\\\\ \\int_0^1  w u_t   \\ dx   - \\beta \\int_0^1 {w_x u_x} \\ dx  + \\beta \\ (w(1) u_x(1) - w(0) u_x(0))= \\int_0^1 w (- \\left(\\beta - 1\\right) e^{t} \\sin{\\left(x \\right)}) dx\n",
    "\\\\  A \\alpha^{'}(t) \\hspace{5mm} \\ -  \\hspace{5mm}\\beta  D \\alpha(t) \\hspace{10mm} +\\hspace{10mm}  \\beta E \\alpha(t)   = f(t)\n",
    "\\\\ w = {\\phi_j}(x)\n",
    "\\end{equation}\n",
    "\n",
    "\\begin{equation}\n",
    "\\\\  \\alpha^{'}(t) = A^{-1}(\\beta ( D - E) \\alpha(t) + f(t)) \\hspace{10mm} \n",
    "\\end{equation}\n",
    "\n",
    "<html>\n",
    "    <h3 align=\"center\" style=\"color:#FF1C0C;\"><u>Boundary Conditions</u> </h3> <br>\n",
    "</html>\n",
    "\n",
    "\\begin{equation}\n",
    "\\\\  u(0, t) = 0  \n",
    "\\\\  u(N, t) = e^t sin(1)  \n",
    "\\\\  u(x, 0) = sin(x) \n",
    "\\end{equation}\n",
    "\n",
    "<html>\n",
    "    <h3 align=\"center\" style=\"color:#FF1C0C;\"><u>Exact Solution</u> </h3> <br>\n",
    "</html>\n",
    "\\begin{equation}\n",
    "\\\\  u(x, t) = e^t sin (x) \n",
    "\\end{equation}"
   ]
  },
  {
   "cell_type": "code",
   "execution_count": 23,
   "metadata": {},
   "outputs": [],
   "source": [
    "class Matrices:\n",
    "\n",
    "class Heat:\n",
    "    \n",
    "    #A *alpha - beta(D *) +beta(E(1 - 0)alpha) = 0\n",
    "    \n",
    "\n",
    "    def __init__(self, N=10):\n",
    "        \n",
    "        self.N = N\n",
    "        self.H = 1/N\n",
    "        self.domain = np.linspace(0, 1, N+1) \n",
    "        self.beta = -1\n",
    "        self.t = 1\n",
    "        self.b_c_start = 0\n",
    "        self.b_c_end = math.exp(1)*math.sin(1)\n",
    "        \n",
    "        def c_dash_transform(l):\n",
    "            \n",
    "            l[0] /= self.A[0]\n",
    "            for i in range(1, self.N):\n",
    "                  l[i] = (l[i])/ (self.A[i]-(self.H/6)* l[i-1])\n",
    "                    \n",
    "            return l        \n",
    "  \n",
    "\n",
    "        self.A = self.H* np.array([1/3] + [2/3]*(N-1) + [1/3])\n",
    "        #         self.A = (self.H) * sp.csc_matrix(diags([       [1/6 for i in range(N)],   \\\n",
    "        #                                         [1/3] + [2/3]*(N-1) + [1/3], \\\n",
    "        #                                              [1/6 for i in range(N)] ], \\\n",
    "        #                                                    [1, 0, -1]), dtype=np.float32)\n",
    "        \n",
    "        self.c_dash = c_dash_transform(self.H *np.array( [1/6]*(N)))\n",
    "        \n",
    "        #-beta*\n",
    "        \n",
    "        \n",
    "        self.D = N * sp.csr_matrix(diags([      [-1 for i in range(N)],  \\\n",
    "                                      [1] + [2]*(N-1) + [1], \\\n",
    "                                        [-1 for i in range(N)]],  \\\n",
    "                             [1, 0, -1] ), dtype=np.float32)\n",
    "        self.D[0, 0] -= N     \n",
    "        self.D[0, 1] -= -N\n",
    "        self.D[N, N-1] -= -N\n",
    "        self.D[N, N] -= N\n",
    "                       #+                \n",
    "\n",
    "\n",
    "        self.f_t = lambda t:math.exp(t)*self.f_without_t\n",
    "     \n",
    "\n",
    "   \n",
    "        #Set initial conditions here\n",
    "        self.alpha = np.sin(self.domain).reshape(N+1, 1)\n",
    "        \n",
    "        #Set solution here\n",
    "        self.exact_solution = lambda t: np.sin(self.domain).reshape(-1, 1).dot(np.exp(t).reshape(1, -1))\n",
    "        "
   ]
  },
  {
   "cell_type": "code",
   "execution_count": null,
   "metadata": {},
   "outputs": [],
   "source": []
  },
  {
   "cell_type": "code",
   "execution_count": 24,
   "metadata": {},
   "outputs": [],
   "source": [
    "class Methods(Matrices): \n",
    "    \n",
    "    def __init__(self, num_basis = 10, method=\"Adam\"):\n",
    "        \n",
    "        super().__init__(num_basis)\n",
    "        eval(\"self.\"+method+\"()\")\n",
    "        \n",
    "        self.approx_half, self.approx_one = np.split(self.algo.y.flatten(\"F\"), len(self.algo.t))  \n",
    "\n",
    "        self.exact_half, self.exact_one =\\\n",
    "                            np.split(self.exact_solution(self.algo.t).flatten(\"F\"), len(self.algo.t))\n",
    "\n",
    "        self.error_half = math.sqrt(sum((self.approx_half - self.exact_half)**2))\n",
    "        self.error_one = math.sqrt(sum((self.approx_one - self.exact_one)**2))\n",
    "        \n",
    "    \n",
    "\n",
    "        \n",
    "    def fun(self, t, y):\n",
    "\n",
    "        y[0] = 0\n",
    "        y[-1] = math.exp(t)* math.sin(1)\n",
    "        y = y.reshape(-1, 1)\n",
    "\n",
    "        return la.inv(self.A).dot(self.beta*(self.D - self.E).dot(y) + self.f_t(t))\n",
    "    \n",
    "    def Adam(self):   \n",
    "        self.algo = solve_ivp(self.fun,t_span=(0, 1),  y0=self.alpha.ravel(), \\\n",
    "                     t_eval= [0.5, 1], vectorized=True, first_step = self.h, method=\"LSODA\")\n",
    "        self.algo.y[0, :] = 0; self.algo.y[-1, :] = np.exp(self.algo.t)* math.sin(1)   # refresh boundary conditions\n",
    "        \n",
    "        \n",
    "\n",
    "    def RK45(self):\n",
    "        pass\n"
   ]
  },
  {
   "cell_type": "code",
   "execution_count": 68,
   "metadata": {},
   "outputs": [
    {
     "ename": "NameError",
     "evalue": "name 'heateqn_approx_one' is not defined",
     "output_type": "error",
     "traceback": [
      "\u001b[1;31m---------------------------------------------------------------------------\u001b[0m",
      "\u001b[1;31mNameError\u001b[0m                                 Traceback (most recent call last)",
      "\u001b[1;32m<ipython-input-68-6dbd6410cdec>\u001b[0m in \u001b[0;36m<module>\u001b[1;34m\u001b[0m\n\u001b[1;32m----> 1\u001b[1;33m \u001b[0mplt\u001b[0m\u001b[1;33m.\u001b[0m\u001b[0mplot\u001b[0m\u001b[1;33m(\u001b[0m\u001b[0mheateqn\u001b[0m\u001b[1;33m.\u001b[0m\u001b[0mdomain\u001b[0m\u001b[1;33m,\u001b[0m \u001b[0mheateqn_approx_one\u001b[0m\u001b[1;33m,\u001b[0m\u001b[1;34m\"b-\"\u001b[0m\u001b[1;33m,\u001b[0m \u001b[0mheateqn\u001b[0m\u001b[1;33m.\u001b[0m\u001b[0mdomain\u001b[0m\u001b[1;33m,\u001b[0m  \u001b[0mheateqn\u001b[0m\u001b[1;33m.\u001b[0m\u001b[0mexact_one\u001b[0m\u001b[1;33m,\u001b[0m\u001b[1;34m\"r--\"\u001b[0m\u001b[1;33m)\u001b[0m\u001b[1;33m\u001b[0m\u001b[1;33m\u001b[0m\u001b[0m\n\u001b[0m",
      "\u001b[1;31mNameError\u001b[0m: name 'heateqn_approx_one' is not defined"
     ]
    }
   ],
   "source": [
    "plt.plot(heateqn.domain, heateqn_approx_one,\"b-\", heateqn.domain,  heateqn.exact_one,\"r--\")"
   ]
  },
  {
   "cell_type": "code",
   "execution_count": 34,
   "metadata": {},
   "outputs": [
    {
     "data": {
      "application/vnd.jupyter.widget-view+json": {
       "model_id": "68446f993bf743318be298ea9c16f004",
       "version_major": 2,
       "version_minor": 0
      },
      "text/plain": [
       "HBox(children=(IntProgress(value=0, max=8), HTML(value='')))"
      ]
     },
     "metadata": {},
     "output_type": "display_data"
    },
    {
     "name": "stdout",
     "output_type": "stream",
     "text": [
      "\n"
     ]
    }
   ],
   "source": [
    "points = [2**j for j in range(2, 10)]\n",
    "\n",
    "half = pd.DataFrame(data =None, columns=[\"Approximate\", \"Exact\", \"Errors\"])\n",
    "one = pd.DataFrame(data =None, columns=[\"Approximate\", \"Exact\", \"Errors\"])\n",
    "\n",
    "for i in tqdm_notebook(points):\n",
    "    heateqn = Methods(i, method=\"Adam\")\n",
    "    half.loc[i] = [heateqn.approx_half, heateqn.exact_half, heateqn.error_half]\n",
    "    one.loc[i] = [heateqn.approx_one, heateqn.exact_one, heateqn.error_one]"
   ]
  },
  {
   "cell_type": "code",
   "execution_count": 49,
   "metadata": {},
   "outputs": [],
   "source": [
    "a = one.loc[:128].Errors.values\n",
    "b = np.array([2**j for j in range(2, 8)])"
   ]
  },
  {
   "cell_type": "code",
   "execution_count": 58,
   "metadata": {},
   "outputs": [],
   "source": [
    "one_ = one.loc[:128]"
   ]
  },
  {
   "cell_type": "code",
   "execution_count": 59,
   "metadata": {},
   "outputs": [
    {
     "data": {
      "text/html": [
       "<div>\n",
       "<style scoped>\n",
       "    .dataframe tbody tr th:only-of-type {\n",
       "        vertical-align: middle;\n",
       "    }\n",
       "\n",
       "    .dataframe tbody tr th {\n",
       "        vertical-align: top;\n",
       "    }\n",
       "\n",
       "    .dataframe thead th {\n",
       "        text-align: right;\n",
       "    }\n",
       "</style>\n",
       "<table border=\"1\" class=\"dataframe\">\n",
       "  <thead>\n",
       "    <tr style=\"text-align: right;\">\n",
       "      <th></th>\n",
       "      <th>Approximate</th>\n",
       "      <th>Exact</th>\n",
       "      <th>Errors</th>\n",
       "    </tr>\n",
       "  </thead>\n",
       "  <tbody>\n",
       "    <tr>\n",
       "      <th>4</th>\n",
       "      <td>[0.0, 0.6631482225504004, 1.287272199821361, 1...</td>\n",
       "      <td>[0.0, 0.6725136867303917, 1.3032137296869954, ...</td>\n",
       "      <td>0.030328</td>\n",
       "    </tr>\n",
       "    <tr>\n",
       "      <th>8</th>\n",
       "      <td>[0.0, 0.33768278794235423, 0.6704944745211849,...</td>\n",
       "      <td>[0.0, 0.3389010622290407, 0.6725136867303917, ...</td>\n",
       "      <td>0.011817</td>\n",
       "    </tr>\n",
       "    <tr>\n",
       "      <th>16</th>\n",
       "      <td>[0.0, 0.169627129346234, 0.33864572719534713, ...</td>\n",
       "      <td>[0.0, 0.16978202870888992, 0.3389010622290407,...</td>\n",
       "      <td>0.004387</td>\n",
       "    </tr>\n",
       "    <tr>\n",
       "      <th>32</th>\n",
       "      <td>[0.0, 0.08492132623814808, 0.16976652779561005...</td>\n",
       "      <td>[0.0, 0.08493248191807777, 0.16978202870888992...</td>\n",
       "      <td>0.001656</td>\n",
       "    </tr>\n",
       "    <tr>\n",
       "      <th>64</th>\n",
       "      <td>[0.0, 0.04247029187595174, 0.08493107724243128...</td>\n",
       "      <td>[0.0, 0.04247142535372606, 0.08493248191807777...</td>\n",
       "      <td>0.000482</td>\n",
       "    </tr>\n",
       "    <tr>\n",
       "      <th>128</th>\n",
       "      <td>[0.0, 0.021237232375884426, 0.0424732762159358...</td>\n",
       "      <td>[0.0, 0.02123636075586518, 0.04247142535372606...</td>\n",
       "      <td>0.000376</td>\n",
       "    </tr>\n",
       "  </tbody>\n",
       "</table>\n",
       "</div>"
      ],
      "text/plain": [
       "                                           Approximate  \\\n",
       "4    [0.0, 0.6631482225504004, 1.287272199821361, 1...   \n",
       "8    [0.0, 0.33768278794235423, 0.6704944745211849,...   \n",
       "16   [0.0, 0.169627129346234, 0.33864572719534713, ...   \n",
       "32   [0.0, 0.08492132623814808, 0.16976652779561005...   \n",
       "64   [0.0, 0.04247029187595174, 0.08493107724243128...   \n",
       "128  [0.0, 0.021237232375884426, 0.0424732762159358...   \n",
       "\n",
       "                                                 Exact    Errors  \n",
       "4    [0.0, 0.6725136867303917, 1.3032137296869954, ...  0.030328  \n",
       "8    [0.0, 0.3389010622290407, 0.6725136867303917, ...  0.011817  \n",
       "16   [0.0, 0.16978202870888992, 0.3389010622290407,...  0.004387  \n",
       "32   [0.0, 0.08493248191807777, 0.16978202870888992...  0.001656  \n",
       "64   [0.0, 0.04247142535372606, 0.08493248191807777...  0.000482  \n",
       "128  [0.0, 0.02123636075586518, 0.04247142535372606...  0.000376  "
      ]
     },
     "execution_count": 59,
     "metadata": {},
     "output_type": "execute_result"
    }
   ],
   "source": [
    "one_[\"metric\"] = "
   ]
  },
  {
   "cell_type": "code",
   "execution_count": 56,
   "metadata": {},
   "outputs": [
    {
     "data": {
      "text/plain": [
       "array([-1.34055889,  1.70010475])"
      ]
     },
     "execution_count": 56,
     "metadata": {},
     "output_type": "execute_result"
    }
   ],
   "source": [
    "np.polyfit(-np.log(b), -np.log(a), deg=1 )"
   ]
  },
  {
   "cell_type": "code",
   "execution_count": 35,
   "metadata": {},
   "outputs": [],
   "source": [
    "# half = pd.read_csv(\"L HE with NH B.C. t=.5.csv\", index_col=0)\n",
    "# one = pd.read_csv(\"L HE with NH B.C. t=1.csv\", index_col=0)"
   ]
  },
  {
   "cell_type": "code",
   "execution_count": 36,
   "metadata": {},
   "outputs": [],
   "source": [
    "# half.to_csv(\"L HE with NH B.C. t=.5.csv\")\n",
    "# one.to_csv(\"L HE with NH B.C. t=1.csv\")"
   ]
  },
  {
   "cell_type": "code",
   "execution_count": 37,
   "metadata": {},
   "outputs": [
    {
     "ename": "ValueError",
     "evalue": "setting an array element with a sequence.",
     "output_type": "error",
     "traceback": [
      "\u001b[1;31m---------------------------------------------------------------------------\u001b[0m",
      "\u001b[1;31mValueError\u001b[0m                                Traceback (most recent call last)",
      "\u001b[1;32m<ipython-input-37-15ae764665df>\u001b[0m in \u001b[0;36m<module>\u001b[1;34m\u001b[0m\n\u001b[0;32m      1\u001b[0m \u001b[0mplt\u001b[0m\u001b[1;33m.\u001b[0m\u001b[0mfigure\u001b[0m\u001b[1;33m(\u001b[0m\u001b[0mfigsize\u001b[0m\u001b[1;33m=\u001b[0m\u001b[1;33m(\u001b[0m\u001b[1;36m20\u001b[0m\u001b[1;33m,\u001b[0m \u001b[1;36m5\u001b[0m\u001b[1;33m)\u001b[0m\u001b[1;33m)\u001b[0m\u001b[1;33m\u001b[0m\u001b[1;33m\u001b[0m\u001b[0m\n\u001b[0;32m      2\u001b[0m \u001b[1;33m\u001b[0m\u001b[0m\n\u001b[1;32m----> 3\u001b[1;33m \u001b[0mplt\u001b[0m\u001b[1;33m.\u001b[0m\u001b[0mscatter\u001b[0m\u001b[1;33m(\u001b[0m\u001b[1;33m-\u001b[0m\u001b[0mhalf\u001b[0m\u001b[1;33m.\u001b[0m\u001b[0miloc\u001b[0m\u001b[1;33m[\u001b[0m\u001b[1;33m:\u001b[0m\u001b[1;33m,\u001b[0m \u001b[1;33m-\u001b[0m\u001b[1;36m2\u001b[0m\u001b[1;33m]\u001b[0m\u001b[1;33m,\u001b[0m \u001b[1;33m-\u001b[0m\u001b[0mhalf\u001b[0m\u001b[1;33m.\u001b[0m\u001b[0miloc\u001b[0m\u001b[1;33m[\u001b[0m\u001b[1;33m:\u001b[0m\u001b[1;33m,\u001b[0m \u001b[1;33m-\u001b[0m\u001b[1;36m1\u001b[0m\u001b[1;33m]\u001b[0m\u001b[1;33m)\u001b[0m\u001b[1;33m\u001b[0m\u001b[1;33m\u001b[0m\u001b[0m\n\u001b[0m\u001b[0;32m      4\u001b[0m \u001b[1;33m\u001b[0m\u001b[0m\n\u001b[0;32m      5\u001b[0m \u001b[0mplt\u001b[0m\u001b[1;33m.\u001b[0m\u001b[0mtitle\u001b[0m\u001b[1;33m(\u001b[0m\u001b[1;34m\"LH - Log h vs Log Error\"\u001b[0m\u001b[1;33m)\u001b[0m\u001b[1;33m\u001b[0m\u001b[1;33m\u001b[0m\u001b[0m\n",
      "\u001b[1;32mc:\\users\\dell\\desktop\\python~1\\maths\\lib\\site-packages\\matplotlib\\pyplot.py\u001b[0m in \u001b[0;36mscatter\u001b[1;34m(x, y, s, c, marker, cmap, norm, vmin, vmax, alpha, linewidths, verts, edgecolors, plotnonfinite, data, **kwargs)\u001b[0m\n\u001b[0;32m   2845\u001b[0m         \u001b[0mverts\u001b[0m\u001b[1;33m=\u001b[0m\u001b[0mverts\u001b[0m\u001b[1;33m,\u001b[0m \u001b[0medgecolors\u001b[0m\u001b[1;33m=\u001b[0m\u001b[0medgecolors\u001b[0m\u001b[1;33m,\u001b[0m\u001b[1;33m\u001b[0m\u001b[1;33m\u001b[0m\u001b[0m\n\u001b[0;32m   2846\u001b[0m         plotnonfinite=plotnonfinite, **({\"data\": data} if data is not\n\u001b[1;32m-> 2847\u001b[1;33m         None else {}), **kwargs)\n\u001b[0m\u001b[0;32m   2848\u001b[0m     \u001b[0msci\u001b[0m\u001b[1;33m(\u001b[0m\u001b[0m__ret\u001b[0m\u001b[1;33m)\u001b[0m\u001b[1;33m\u001b[0m\u001b[1;33m\u001b[0m\u001b[0m\n\u001b[0;32m   2849\u001b[0m     \u001b[1;32mreturn\u001b[0m \u001b[0m__ret\u001b[0m\u001b[1;33m\u001b[0m\u001b[1;33m\u001b[0m\u001b[0m\n",
      "\u001b[1;32mc:\\users\\dell\\desktop\\python~1\\maths\\lib\\site-packages\\matplotlib\\__init__.py\u001b[0m in \u001b[0;36minner\u001b[1;34m(ax, data, *args, **kwargs)\u001b[0m\n\u001b[0;32m   1599\u001b[0m     \u001b[1;32mdef\u001b[0m \u001b[0minner\u001b[0m\u001b[1;33m(\u001b[0m\u001b[0max\u001b[0m\u001b[1;33m,\u001b[0m \u001b[1;33m*\u001b[0m\u001b[0margs\u001b[0m\u001b[1;33m,\u001b[0m \u001b[0mdata\u001b[0m\u001b[1;33m=\u001b[0m\u001b[1;32mNone\u001b[0m\u001b[1;33m,\u001b[0m \u001b[1;33m**\u001b[0m\u001b[0mkwargs\u001b[0m\u001b[1;33m)\u001b[0m\u001b[1;33m:\u001b[0m\u001b[1;33m\u001b[0m\u001b[1;33m\u001b[0m\u001b[0m\n\u001b[0;32m   1600\u001b[0m         \u001b[1;32mif\u001b[0m \u001b[0mdata\u001b[0m \u001b[1;32mis\u001b[0m \u001b[1;32mNone\u001b[0m\u001b[1;33m:\u001b[0m\u001b[1;33m\u001b[0m\u001b[1;33m\u001b[0m\u001b[0m\n\u001b[1;32m-> 1601\u001b[1;33m             \u001b[1;32mreturn\u001b[0m \u001b[0mfunc\u001b[0m\u001b[1;33m(\u001b[0m\u001b[0max\u001b[0m\u001b[1;33m,\u001b[0m \u001b[1;33m*\u001b[0m\u001b[0mmap\u001b[0m\u001b[1;33m(\u001b[0m\u001b[0msanitize_sequence\u001b[0m\u001b[1;33m,\u001b[0m \u001b[0margs\u001b[0m\u001b[1;33m)\u001b[0m\u001b[1;33m,\u001b[0m \u001b[1;33m**\u001b[0m\u001b[0mkwargs\u001b[0m\u001b[1;33m)\u001b[0m\u001b[1;33m\u001b[0m\u001b[1;33m\u001b[0m\u001b[0m\n\u001b[0m\u001b[0;32m   1602\u001b[0m \u001b[1;33m\u001b[0m\u001b[0m\n\u001b[0;32m   1603\u001b[0m         \u001b[0mbound\u001b[0m \u001b[1;33m=\u001b[0m \u001b[0mnew_sig\u001b[0m\u001b[1;33m.\u001b[0m\u001b[0mbind\u001b[0m\u001b[1;33m(\u001b[0m\u001b[0max\u001b[0m\u001b[1;33m,\u001b[0m \u001b[1;33m*\u001b[0m\u001b[0margs\u001b[0m\u001b[1;33m,\u001b[0m \u001b[1;33m**\u001b[0m\u001b[0mkwargs\u001b[0m\u001b[1;33m)\u001b[0m\u001b[1;33m\u001b[0m\u001b[1;33m\u001b[0m\u001b[0m\n",
      "\u001b[1;32mc:\\users\\dell\\desktop\\python~1\\maths\\lib\\site-packages\\matplotlib\\axes\\_axes.py\u001b[0m in \u001b[0;36mscatter\u001b[1;34m(self, x, y, s, c, marker, cmap, norm, vmin, vmax, alpha, linewidths, verts, edgecolors, plotnonfinite, **kwargs)\u001b[0m\n\u001b[0;32m   4496\u001b[0m                 \u001b[0moffsets\u001b[0m\u001b[1;33m=\u001b[0m\u001b[0moffsets\u001b[0m\u001b[1;33m,\u001b[0m\u001b[1;33m\u001b[0m\u001b[1;33m\u001b[0m\u001b[0m\n\u001b[0;32m   4497\u001b[0m                 \u001b[0mtransOffset\u001b[0m\u001b[1;33m=\u001b[0m\u001b[0mkwargs\u001b[0m\u001b[1;33m.\u001b[0m\u001b[0mpop\u001b[0m\u001b[1;33m(\u001b[0m\u001b[1;34m'transform'\u001b[0m\u001b[1;33m,\u001b[0m \u001b[0mself\u001b[0m\u001b[1;33m.\u001b[0m\u001b[0mtransData\u001b[0m\u001b[1;33m)\u001b[0m\u001b[1;33m,\u001b[0m\u001b[1;33m\u001b[0m\u001b[1;33m\u001b[0m\u001b[0m\n\u001b[1;32m-> 4498\u001b[1;33m                 \u001b[0malpha\u001b[0m\u001b[1;33m=\u001b[0m\u001b[0malpha\u001b[0m\u001b[1;33m\u001b[0m\u001b[1;33m\u001b[0m\u001b[0m\n\u001b[0m\u001b[0;32m   4499\u001b[0m                 )\n\u001b[0;32m   4500\u001b[0m         \u001b[0mcollection\u001b[0m\u001b[1;33m.\u001b[0m\u001b[0mset_transform\u001b[0m\u001b[1;33m(\u001b[0m\u001b[0mmtransforms\u001b[0m\u001b[1;33m.\u001b[0m\u001b[0mIdentityTransform\u001b[0m\u001b[1;33m(\u001b[0m\u001b[1;33m)\u001b[0m\u001b[1;33m)\u001b[0m\u001b[1;33m\u001b[0m\u001b[1;33m\u001b[0m\u001b[0m\n",
      "\u001b[1;32mc:\\users\\dell\\desktop\\python~1\\maths\\lib\\site-packages\\matplotlib\\collections.py\u001b[0m in \u001b[0;36m__init__\u001b[1;34m(self, paths, sizes, **kwargs)\u001b[0m\n\u001b[0;32m    881\u001b[0m         \"\"\"\n\u001b[0;32m    882\u001b[0m \u001b[1;33m\u001b[0m\u001b[0m\n\u001b[1;32m--> 883\u001b[1;33m         \u001b[0mCollection\u001b[0m\u001b[1;33m.\u001b[0m\u001b[0m__init__\u001b[0m\u001b[1;33m(\u001b[0m\u001b[0mself\u001b[0m\u001b[1;33m,\u001b[0m \u001b[1;33m**\u001b[0m\u001b[0mkwargs\u001b[0m\u001b[1;33m)\u001b[0m\u001b[1;33m\u001b[0m\u001b[1;33m\u001b[0m\u001b[0m\n\u001b[0m\u001b[0;32m    884\u001b[0m         \u001b[0mself\u001b[0m\u001b[1;33m.\u001b[0m\u001b[0mset_paths\u001b[0m\u001b[1;33m(\u001b[0m\u001b[0mpaths\u001b[0m\u001b[1;33m)\u001b[0m\u001b[1;33m\u001b[0m\u001b[1;33m\u001b[0m\u001b[0m\n\u001b[0;32m    885\u001b[0m         \u001b[0mself\u001b[0m\u001b[1;33m.\u001b[0m\u001b[0mset_sizes\u001b[0m\u001b[1;33m(\u001b[0m\u001b[0msizes\u001b[0m\u001b[1;33m)\u001b[0m\u001b[1;33m\u001b[0m\u001b[1;33m\u001b[0m\u001b[0m\n",
      "\u001b[1;32mc:\\users\\dell\\desktop\\python~1\\maths\\lib\\site-packages\\matplotlib\\collections.py\u001b[0m in \u001b[0;36m__init__\u001b[1;34m(self, edgecolors, facecolors, linewidths, linestyles, capstyle, joinstyle, antialiaseds, offsets, transOffset, norm, cmap, pickradius, hatch, urls, offset_position, zorder, **kwargs)\u001b[0m\n\u001b[0;32m    149\u001b[0m         \u001b[0mself\u001b[0m\u001b[1;33m.\u001b[0m\u001b[0m_uniform_offsets\u001b[0m \u001b[1;33m=\u001b[0m \u001b[1;32mNone\u001b[0m\u001b[1;33m\u001b[0m\u001b[1;33m\u001b[0m\u001b[0m\n\u001b[0;32m    150\u001b[0m         \u001b[1;32mif\u001b[0m \u001b[0moffsets\u001b[0m \u001b[1;32mis\u001b[0m \u001b[1;32mnot\u001b[0m \u001b[1;32mNone\u001b[0m\u001b[1;33m:\u001b[0m\u001b[1;33m\u001b[0m\u001b[1;33m\u001b[0m\u001b[0m\n\u001b[1;32m--> 151\u001b[1;33m             \u001b[0moffsets\u001b[0m \u001b[1;33m=\u001b[0m \u001b[0mnp\u001b[0m\u001b[1;33m.\u001b[0m\u001b[0masanyarray\u001b[0m\u001b[1;33m(\u001b[0m\u001b[0moffsets\u001b[0m\u001b[1;33m,\u001b[0m \u001b[0mfloat\u001b[0m\u001b[1;33m)\u001b[0m\u001b[1;33m\u001b[0m\u001b[1;33m\u001b[0m\u001b[0m\n\u001b[0m\u001b[0;32m    152\u001b[0m             \u001b[1;31m# Broadcast (2,) -> (1, 2) but nothing else.\u001b[0m\u001b[1;33m\u001b[0m\u001b[1;33m\u001b[0m\u001b[1;33m\u001b[0m\u001b[0m\n\u001b[0;32m    153\u001b[0m             \u001b[1;32mif\u001b[0m \u001b[0moffsets\u001b[0m\u001b[1;33m.\u001b[0m\u001b[0mshape\u001b[0m \u001b[1;33m==\u001b[0m \u001b[1;33m(\u001b[0m\u001b[1;36m2\u001b[0m\u001b[1;33m,\u001b[0m\u001b[1;33m)\u001b[0m\u001b[1;33m:\u001b[0m\u001b[1;33m\u001b[0m\u001b[1;33m\u001b[0m\u001b[0m\n",
      "\u001b[1;32mc:\\users\\dell\\desktop\\python~1\\maths\\lib\\site-packages\\numpy\\core\\_asarray.py\u001b[0m in \u001b[0;36masanyarray\u001b[1;34m(a, dtype, order)\u001b[0m\n\u001b[0;32m    136\u001b[0m \u001b[1;33m\u001b[0m\u001b[0m\n\u001b[0;32m    137\u001b[0m     \"\"\"\n\u001b[1;32m--> 138\u001b[1;33m     \u001b[1;32mreturn\u001b[0m \u001b[0marray\u001b[0m\u001b[1;33m(\u001b[0m\u001b[0ma\u001b[0m\u001b[1;33m,\u001b[0m \u001b[0mdtype\u001b[0m\u001b[1;33m,\u001b[0m \u001b[0mcopy\u001b[0m\u001b[1;33m=\u001b[0m\u001b[1;32mFalse\u001b[0m\u001b[1;33m,\u001b[0m \u001b[0morder\u001b[0m\u001b[1;33m=\u001b[0m\u001b[0morder\u001b[0m\u001b[1;33m,\u001b[0m \u001b[0msubok\u001b[0m\u001b[1;33m=\u001b[0m\u001b[1;32mTrue\u001b[0m\u001b[1;33m)\u001b[0m\u001b[1;33m\u001b[0m\u001b[1;33m\u001b[0m\u001b[0m\n\u001b[0m\u001b[0;32m    139\u001b[0m \u001b[1;33m\u001b[0m\u001b[0m\n\u001b[0;32m    140\u001b[0m \u001b[1;33m\u001b[0m\u001b[0m\n",
      "\u001b[1;31mValueError\u001b[0m: setting an array element with a sequence."
     ]
    },
    {
     "data": {
      "image/png": "[encoded data removed]",
      "text/plain": [
       "<Figure size 1440x360 with 1 Axes>"
      ]
     },
     "metadata": {
      "needs_background": "light"
     },
     "output_type": "display_data"
    }
   ],
   "source": [
    "plt.figure(figsize=(20, 5))\n",
    "\n",
    "plt.scatter(-half.iloc[:, -2], -half.iloc[:, -1])\n",
    "\n",
    "plt.title(\"LH - Log h vs Log Error\")\n",
    "# _=plt.xticks(-half.iloc[:, -2], labels=np.array(half.index), rotation=45)\n",
    "# _=plt.yticks(-half.iloc[:, -1], labels=half.iloc[:, -3]/max(half.iloc[:, -3]), rotation=45)"
   ]
  },
  {
   "cell_type": "code",
   "execution_count": 40,
   "metadata": {},
   "outputs": [
    {
     "data": {
      "text/html": [
       "<div>\n",
       "<style scoped>\n",
       "    .dataframe tbody tr th:only-of-type {\n",
       "        vertical-align: middle;\n",
       "    }\n",
       "\n",
       "    .dataframe tbody tr th {\n",
       "        vertical-align: top;\n",
       "    }\n",
       "\n",
       "    .dataframe thead th {\n",
       "        text-align: right;\n",
       "    }\n",
       "</style>\n",
       "<table border=\"1\" class=\"dataframe\">\n",
       "  <thead>\n",
       "    <tr style=\"text-align: right;\">\n",
       "      <th></th>\n",
       "      <th>Approximate</th>\n",
       "      <th>Exact</th>\n",
       "      <th>Errors</th>\n",
       "    </tr>\n",
       "  </thead>\n",
       "  <tbody>\n",
       "    <tr>\n",
       "      <th>4</th>\n",
       "      <td>[0.0, 0.6631482225504004, 1.287272199821361, 1...</td>\n",
       "      <td>[0.0, 0.6725136867303917, 1.3032137296869954, ...</td>\n",
       "      <td>0.030328</td>\n",
       "    </tr>\n",
       "    <tr>\n",
       "      <th>8</th>\n",
       "      <td>[0.0, 0.33768278794235423, 0.6704944745211849,...</td>\n",
       "      <td>[0.0, 0.3389010622290407, 0.6725136867303917, ...</td>\n",
       "      <td>0.011817</td>\n",
       "    </tr>\n",
       "    <tr>\n",
       "      <th>16</th>\n",
       "      <td>[0.0, 0.169627129346234, 0.33864572719534713, ...</td>\n",
       "      <td>[0.0, 0.16978202870888992, 0.3389010622290407,...</td>\n",
       "      <td>0.004387</td>\n",
       "    </tr>\n",
       "    <tr>\n",
       "      <th>32</th>\n",
       "      <td>[0.0, 0.08492132623814808, 0.16976652779561005...</td>\n",
       "      <td>[0.0, 0.08493248191807777, 0.16978202870888992...</td>\n",
       "      <td>0.001656</td>\n",
       "    </tr>\n",
       "    <tr>\n",
       "      <th>64</th>\n",
       "      <td>[0.0, 0.04247029187595174, 0.08493107724243128...</td>\n",
       "      <td>[0.0, 0.04247142535372606, 0.08493248191807777...</td>\n",
       "      <td>0.000482</td>\n",
       "    </tr>\n",
       "  </tbody>\n",
       "</table>\n",
       "</div>"
      ],
      "text/plain": [
       "                                          Approximate  \\\n",
       "4   [0.0, 0.6631482225504004, 1.287272199821361, 1...   \n",
       "8   [0.0, 0.33768278794235423, 0.6704944745211849,...   \n",
       "16  [0.0, 0.169627129346234, 0.33864572719534713, ...   \n",
       "32  [0.0, 0.08492132623814808, 0.16976652779561005...   \n",
       "64  [0.0, 0.04247029187595174, 0.08493107724243128...   \n",
       "\n",
       "                                                Exact    Errors  \n",
       "4   [0.0, 0.6725136867303917, 1.3032137296869954, ...  0.030328  \n",
       "8   [0.0, 0.3389010622290407, 0.6725136867303917, ...  0.011817  \n",
       "16  [0.0, 0.16978202870888992, 0.3389010622290407,...  0.004387  \n",
       "32  [0.0, 0.08493248191807777, 0.16978202870888992...  0.001656  \n",
       "64  [0.0, 0.04247142535372606, 0.08493248191807777...  0.000482  "
      ]
     },
     "execution_count": 40,
     "metadata": {},
     "output_type": "execute_result"
    }
   ],
   "source": [
    "one.head()"
   ]
  },
  {
   "cell_type": "code",
   "execution_count": 39,
   "metadata": {},
   "outputs": [
    {
     "data": {
      "text/plain": [
       "Text(0.5, 1.0, 'x -->log N y--->log E')"
      ]
     },
     "execution_count": 39,
     "metadata": {},
     "output_type": "execute_result"
    },
    {
     "data": {
      "image/png": "[encoded data removed]",
      "text/plain": [
       "<Figure size 432x288 with 1 Axes>"
      ]
     },
     "metadata": {
      "needs_background": "light"
     },
     "output_type": "display_data"
    }
   ],
   "source": [
    "%matplotlib inline\n",
    "plt.plot(np.log(one.index.tolist()), np.log(one.Errors))\n",
    "plt.title(\"x -->log N y--->log E\")"
   ]
  },
  {
   "cell_type": "code",
   "execution_count": null,
   "metadata": {},
   "outputs": [],
   "source": []
  },
  {
   "cell_type": "code",
   "execution_count": null,
   "metadata": {},
   "outputs": [],
   "source": []
  }
 ],
 "metadata": {
  "kernelspec": {
   "display_name": "Python 3",
   "language": "python",
   "name": "python3"
  },
  "language_info": {
   "codemirror_mode": {
    "name": "ipython",
    "version": 3
   },
   "file_extension": ".py",
   "mimetype": "text/x-python",
   "name": "python",
   "nbconvert_exporter": "python",
   "pygments_lexer": "ipython3",
   "version": "3.6.8"
  }
 },
 "nbformat": 4,
 "nbformat_minor": 2
}

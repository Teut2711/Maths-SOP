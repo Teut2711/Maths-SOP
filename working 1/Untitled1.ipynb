{
 "cells": [
  {
   "cell_type": "code",
   "execution_count": 1,
   "metadata": {},
   "outputs": [],
   "source": [
    "import sympy as sm\n",
    "import numpy as np\n",
    "import scipy.sparse as sp\n",
    "sm.init_printing()\n",
    "from sympy.matrices import SparseMatrix"
   ]
  },
  {
   "cell_type": "code",
   "execution_count": 3,
   "metadata": {},
   "outputs": [],
   "source": [
    "def matB(i):\n",
    "        if i == 0 :\n",
    "            row = np.array([0, 0, 1, 1])\n",
    "            col = np.array([0, 1, 0, 1])\n",
    "            data = np.array([-1/sm.Rational(3), 1/sm.Rational(3), -1/sm.Rational(6), 1/sm.Rational(6)])\n",
    "            return SparseMatrix(N+1, N+1, {(i, j): k for i, j, k in zip(row, col, data)})        \n",
    "        elif i == N:\n",
    "            row = np.array([N-1, N - 1, N, N])\n",
    "            col = np.array([N-1, N , N -1, N])\n",
    "            data = np.array([-1/sm.Rational(6), 1/sm.Rational(6), -1/sm.Rational(3), 1/sm.Rational(3)])\n",
    "            return SparseMatrix(N+1, N+1, {(i, j): k for i, j, k in zip(row, col, data)})   \n",
    "        else:\n",
    "            row = np.array([i-1]*sm.Rational(3) + [i]*sm.Rational(3) + [i+1]*sm.Rational(3))\n",
    "            col = np.array([col for col in range(i-1, i+1 + 1)]*sm.Rational(3))\n",
    "            data = np.array([-1/sm.Rational(6), 1/sm.Rational(6), 0, -1/sm.Rational(3), 0, 1/sm.Rational(3), 0, -1/sm.Rational(6), 1/sm.Rational(6) ])\n",
    "            return SparseMatrix(N+1, N+1, {(i, j): k for i, j, k in zip(row, col, data)})   \n",
    "\n"
   ]
  },
  {
   "cell_type": "code",
   "execution_count": 6,
   "metadata": {},
   "outputs": [],
   "source": [
    "N  = 5\n",
    "t = sm.Symbol(\"t\")\n",
    "alph = sm.Matrix([sm.Function(f\"alpha_{i}\")(t)  for i in range(N + 1)])   \n",
    "alph_T = alph.T\n",
    "B = sm.Matrix([sm.expand((alph.T*matB(i)) *alph) for i in range(N+1)])\n"
   ]
  },
  {
   "cell_type": "code",
   "execution_count": 8,
   "metadata": {},
   "outputs": [
    {
     "data": {
      "text/latex": [
       "$\\displaystyle \\left[\\begin{matrix}- 4 \\alpha_{0}{\\left(t \\right)} + \\alpha_{1}{\\left(t \\right)} & \\alpha_{0}{\\left(t \\right)} + 2 \\alpha_{1}{\\left(t \\right)} & 0 & 0 & 0 & 0\\\\- 2 \\alpha_{0}{\\left(t \\right)} - \\alpha_{1}{\\left(t \\right)} & - \\alpha_{0}{\\left(t \\right)} + \\alpha_{2}{\\left(t \\right)} & \\alpha_{1}{\\left(t \\right)} + 2 \\alpha_{2}{\\left(t \\right)} & 0 & 0 & 0\\\\0 & - 2 \\alpha_{1}{\\left(t \\right)} - \\alpha_{2}{\\left(t \\right)} & - \\alpha_{1}{\\left(t \\right)} + \\alpha_{3}{\\left(t \\right)} & \\alpha_{2}{\\left(t \\right)} + 2 \\alpha_{3}{\\left(t \\right)} & 0 & 0\\\\0 & 0 & - 2 \\alpha_{2}{\\left(t \\right)} - \\alpha_{3}{\\left(t \\right)} & - \\alpha_{2}{\\left(t \\right)} + \\alpha_{4}{\\left(t \\right)} & \\alpha_{3}{\\left(t \\right)} + 2 \\alpha_{4}{\\left(t \\right)} & 0\\\\0 & 0 & 0 & - 2 \\alpha_{3}{\\left(t \\right)} - \\alpha_{4}{\\left(t \\right)} & - \\alpha_{3}{\\left(t \\right)} + \\alpha_{5}{\\left(t \\right)} & \\alpha_{4}{\\left(t \\right)} + 2 \\alpha_{5}{\\left(t \\right)}\\\\0 & 0 & 0 & 0 & - 2 \\alpha_{4}{\\left(t \\right)} - \\alpha_{5}{\\left(t \\right)} & - \\alpha_{4}{\\left(t \\right)} + 4 \\alpha_{5}{\\left(t \\right)}\\end{matrix}\\right]$"
      ],
      "text/plain": [
       "⎡-4⋅α₀(t) + α₁(t)  α₀(t) + 2⋅α₁(t)          0                 0               \n",
       "⎢                                                                             \n",
       "⎢-2⋅α₀(t) - α₁(t)   -α₀(t) + α₂(t)   α₁(t) + 2⋅α₂(t)          0               \n",
       "⎢                                                                             \n",
       "⎢       0          -2⋅α₁(t) - α₂(t)   -α₁(t) + α₃(t)   α₂(t) + 2⋅α₃(t)        \n",
       "⎢                                                                             \n",
       "⎢       0                 0          -2⋅α₂(t) - α₃(t)   -α₂(t) + α₄(t)   α₃(t)\n",
       "⎢                                                                             \n",
       "⎢       0                 0                 0          -2⋅α₃(t) - α₄(t)   -α₃(\n",
       "⎢                                                                             \n",
       "⎣       0                 0                 0                 0          -2⋅α₄\n",
       "\n",
       "  0                 0        ⎤\n",
       "                             ⎥\n",
       "  0                 0        ⎥\n",
       "                             ⎥\n",
       "  0                 0        ⎥\n",
       "                             ⎥\n",
       " + 2⋅α₄(t)          0        ⎥\n",
       "                             ⎥\n",
       "t) + α₅(t)   α₄(t) + 2⋅α₅(t) ⎥\n",
       "                             ⎥\n",
       "(t) - α₅(t)  -α₄(t) + 4⋅α₅(t)⎦"
      ]
     },
     "execution_count": 8,
     "metadata": {},
     "output_type": "execute_result"
    }
   ],
   "source": [
    "(6*B.jacobian(alph))"
   ]
  },
  {
   "cell_type": "code",
   "execution_count": null,
   "metadata": {},
   "outputs": [],
   "source": []
  },
  {
   "cell_type": "code",
   "execution_count": null,
   "metadata": {},
   "outputs": [],
   "source": []
  },
  {
   "cell_type": "code",
   "execution_count": null,
   "metadata": {},
   "outputs": [],
   "source": []
  }
 ],
 "metadata": {
  "kernelspec": {
   "display_name": "Python 3",
   "language": "python",
   "name": "python3"
  },
  "language_info": {
   "codemirror_mode": {
    "name": "ipython",
    "version": 3
   },
   "file_extension": ".py",
   "mimetype": "text/x-python",
   "name": "python",
   "nbconvert_exporter": "python",
   "pygments_lexer": "ipython3",
   "version": "3.6.8"
  }
 },
 "nbformat": 4,
 "nbformat_minor": 2
}

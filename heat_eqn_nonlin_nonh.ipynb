{
 "cells": [
  {
   "cell_type": "markdown",
   "metadata": {},
   "source": [
    "# Ask here"
   ]
  },
  {
   "cell_type": "code",
   "execution_count": 1,
   "metadata": {},
   "outputs": [],
   "source": [
    "%matplotlib widget"
   ]
  },
  {
   "cell_type": "code",
   "execution_count": 2,
   "metadata": {},
   "outputs": [],
   "source": [
    "import numpy as np\n",
    "np.set_printoptions(linewidth=100)\n",
    "import sympy as sm\n",
    "import sympy.abc as sbl\n",
    "from scipy.sparse import diags\n",
    "from scipy.integrate import RK45,solve_ivp\n",
    "import scipy.sparse.linalg as la\n",
    "import scipy.sparse as sp\n",
    "sm.init_printing()\n",
    "import time\n",
    "import math\n",
    "import matplotlib.pyplot as plt\n",
    "import matplotlib\n",
    "from ipywidgets import HBox, IntSlider\n",
    "\n",
    "plt.ioff()\n",
    "plt.clf()"
   ]
  },
  {
   "cell_type": "markdown",
   "metadata": {},
   "source": [
    "## Links to important Research Papers"
   ]
  },
  {
   "cell_type": "raw",
   "metadata": {},
   "source": [
    "display(FileLinks(os.getcwd(), included_suffixes=\".pdf\"))"
   ]
  },
  {
   "cell_type": "raw",
   "metadata": {},
   "source": [
    "pdfs = [i for i in os.listdir() if i.endswith(\".pdf\")]"
   ]
  },
  {
   "cell_type": "raw",
   "metadata": {},
   "source": [
    "IFrame(pdfs[1], width=1200, height=400)"
   ]
  },
  {
   "cell_type": "markdown",
   "metadata": {},
   "source": [
    "\n",
    "<h3 align=\"center\" style=\"color:#FFE647;\">Equation   </h3> \n",
    "\\begin{equation}\n",
    "\\\\  A \\alpha^{'} + \\alpha^{T} B\\alpha+\\hspace{15mm}\\beta ( D \\alpha \\hspace{10mm} - \\hspace{10mm}E \\alpha) \\hspace{10mm} - \\beta F  \\alpha \\hspace{15mm} = \\hspace{15mm}f(t)\n",
    "\\end{equation}\n",
    "\n",
    "\n",
    "\\begin{equation}\n",
    "\\\\  \\alpha^{'} = -A^{-1}(\\alpha^{T} B\\alpha +\\beta ( D \\alpha  - E \\alpha) - \\beta F  \\alpha - f(t)) \\hspace{10mm} (i)\n",
    "\\\\  \\alpha^{'} = -A^{-1}(\\alpha^{T} B\\alpha + \\beta ( D \\alpha  - E \\alpha -  F  \\alpha )- f(t)) \\hspace{10mm} (i)\n",
    "\\end{equation}\n",
    "\n"
   ]
  },
  {
   "cell_type": "code",
   "execution_count": 3,
   "metadata": {},
   "outputs": [],
   "source": [
    "class Matrices:\n",
    "    \n",
    "    \n",
    "    def __init__(self, N=10):\n",
    "        \n",
    "        \n",
    "        self.N = N\n",
    "        self.shape = (N+1, N+1)\n",
    "        self.h = 1/N\n",
    "        self.domain = np.linspace(0, 1, N+1) \n",
    "        self.beta = -1\n",
    "        self.time_step = self.h**2\n",
    "        self.runs = 1\n",
    "        \n",
    "        self.A = (self.h) * sp.csc_matrix(diags([       [1/6 for i in range(N)],   \\\n",
    "                                        [1/3] + [2/3]*(N-1) + [1/3], \\\n",
    "                                             [1/6 for i in range(N)] ], \\\n",
    "                                                   [1, 0, -1]), dtype=np.float32)\n",
    "        #+\n",
    "        self.B = np.array([self.matB(i) for i in range(N+1)]).reshape(N+1, 1) \n",
    "\n",
    "        #-\n",
    "        self.D = (1/self.h) * sp.csr_matrix(diags([      [-1 for i in range(N)],  \\\n",
    "                                      [1] + [2]*(N-1) + [1], \\\n",
    "                                        [-1 for i in range(N)]],  \\\n",
    "                             [1, 0, -1] ), dtype=np.float32)\n",
    "                        #+                \n",
    "        row = np.array([0, 0, N, N])\n",
    "        col = np.array([0, 1, N-1, N])\n",
    "        data = np.array([1, -1, -1, 1 ])\n",
    "        self.E = (1/self.h) *sp.csr_matrix((data, (row, col)), shape=self.shape, dtype=np.float32)           \n",
    "\n",
    "        #self.C = sp.csr_matrix(diags([[1/2]*(N), [-1/2]+[0]*(N-1)+[1/2], [-1/2]*(N)] , [1, 0, -1]), dtype=np.float32)\n",
    "\n",
    "        \n",
    "        #Set initial conditions here\n",
    "        self.alpha = np.sin(self.domain).reshape(N+1, 1)\n",
    "        \n",
    "        #Set solution here\n",
    "        self.exact_solution = lambda t: np.sin(self.domain).reshape(-1, 1).dot(np.exp(t).reshape(1, -1))\n",
    "        \n",
    "\n",
    "    \n",
    "\n",
    "    \n",
    "    def matB(self,i):\n",
    "            if i == 0 :\n",
    "                row = np.array([0, 0, 1, 1])\n",
    "                col = np.array([0, 1, 0, 1])\n",
    "                data = np.array([-1/3, 1/3, -1/6, 1/6])\n",
    "                return sp.csr_matrix((data, (row, col)), shape=self.shape,dtype=np.float32)        \n",
    "            elif i == self.N:\n",
    "                row = np.array([self.N-1, self.N - 1, self.N, self.N])\n",
    "                col = np.array([self.N-1, self.N , self.N -1, self.N])\n",
    "                data = np.array([-1/6, 1/6, -1/3, 1/3])\n",
    "                return sp.csr_matrix((data, (row, col)), shape=self.shape, dtype=np.float32)   \n",
    "            else:\n",
    "                row = np.array([i-1]*3 + [i]*3 + [i+1]*3)\n",
    "                col = np.array([col for col in range(i-1, i+1 + 1)]*3, dtype=np.float32)\n",
    "                data = np.array([-1/6, 1/6, 0, -1/3, 0, 1/3, 0, -1/6, 1/6 ])\n",
    "                return sp.csr_matrix((data, (row, col)), shape=self.shape, dtype=np.float32)    \n",
    "            \n",
    "   \n",
    "    "
   ]
  },
  {
   "cell_type": "code",
   "execution_count": 10,
   "metadata": {},
   "outputs": [],
   "source": [
    "\n",
    "class rk45(Matrices): \n",
    "    \n",
    "    def __init__(self, num_basis = 10):\n",
    "\n",
    "        super().__init__(int(num_basis))\n",
    "\n",
    "        self.pos = lambda k,t: ((self.beta*self.h*math.cos(self.h*k) - self.beta*math.sin(self.h*k) + self.beta*math.sin(self.h*(k - 1)) - 1/4*self.h*math.exp(t)*math.cos(2*self.h*k) - self.h*math.cos(self.h*k) + (1/8)*math.exp(t)*math.sin(2*self.h*k) - 1/8*math.exp(t)*math.sin(2*self.h*(k - 1)) + math.sin(self.h*k) - math.sin(self.h*(k - 1)))*math.exp(t)/self.h)\n",
    "        \n",
    "        self.neg = lambda k,t: ((-self.beta*self.h*math.cos(self.h*k) - self.beta*math.sin(self.h*k) + self.beta*math.sin(self.h*(k + 1)) + (1/4)*self.h*math.exp(t)*math.cos(2*self.h*k) + self.h*math.cos(self.h*k) + (1/8)*math.exp(t)*math.sin(2*self.h*k) - 1/8*math.exp(t)*math.sin(2*self.h*(k + 1)) + math.sin(self.h*k) - math.sin(self.h*(k + 1)))*math.exp(t)/self.h)\n",
    "\n",
    "        def fun(t, y):\n",
    "            f_t = (  np.array([0]+[self.pos(k, t) for k in range(1, self.N+1)]) +\\\n",
    "                            np.array([self.neg(k, t) for k in range(0, self.N)]+[0]) \\\n",
    "                            ).reshape(self.N+1, 1) \n",
    "            y[0] = 0\n",
    "            y[-1] = math.exp(t)* math.sin(1)\n",
    "            \n",
    "            return la.inv(self.A).dot( (-(y.T).dot(self.B.flatten())[0]+\n",
    "                                      self.beta*(self.D - self.E)).dot(y) + f_t)\n",
    "\n",
    "        self.algo = solve_ivp(fun,t_span=(0, 1),  y0=self.alpha.ravel(), \\\n",
    "            t_eval= [0, 0.5, 1], vectorized=True, max_step = self.h**2)    \n",
    "\n",
    "        self.algo.y[[0], :] = 0\n",
    "        self.algo.y[[-1], :] = np.exp(np.array([0, 0.5, 1]))* math.sin(1)\n",
    "        self.approx_zero, self.approx_half, self.approx_one = np.split(self.algo.y.flatten(\"F\"), len(self.algo.t))  \n",
    "        self.exact_zero, self.exact_half, self.exact_one =\\\n",
    "                            np.split(self.exact_solution(self.algo.t).flatten(\"F\"), len(self.algo.t))\n",
    "        \n",
    "        self.error_zero = math.sqrt(sum((self.approx_zero - self.exact_zero)**2))  \n",
    "        self.error_half = math.sqrt(sum((self.approx_half - self.exact_half)**2))\n",
    "        self.error_one = math.sqrt(sum((self.approx_one - self.exact_one)**2))\n",
    "        \n",
    "\n",
    "        self.graph_zero =  'plt.plot(self.domain, self.approx_zero, self.domain, self.exact_zero )'\n",
    "\n",
    "        self.graph_half = 'plt.plot(self.domain, self.approx_half, self.domain, self.exact_half)'\n",
    "        \n",
    "        self.graph_one = 'plt.plot(self.domain, self.approx_one, self.domain, self.exact_one)'\n",
    "\n",
    "        "
   ]
  },
  {
   "cell_type": "code",
   "execution_count": 11,
   "metadata": {},
   "outputs": [],
   "source": [
    "heateqn = rk45(10)"
   ]
  },
  {
   "cell_type": "code",
   "execution_count": 12,
   "metadata": {},
   "outputs": [
    {
     "data": {
      "image/png": "[encoded data removed]",
      "text/latex": [
       "$\\displaystyle \\left[ 0.0, \\  0.004133590502456025, \\  0.0057921143488094745\\right]$"
      ],
      "text/plain": [
       "[0.0, 0.004133590502456025, 0.0057921143488094745]"
      ]
     },
     "execution_count": 12,
     "metadata": {},
     "output_type": "execute_result"
    }
   ],
   "source": [
    "\n",
    "[heateqn.error_zero,\n",
    "\n",
    "heateqn.error_half,\n",
    "\n",
    "heateqn.error_one,]"
   ]
  },
  {
   "cell_type": "code",
   "execution_count": 13,
   "metadata": {},
   "outputs": [
    {
     "data": {
      "application/vnd.jupyter.widget-view+json": {
       "model_id": "8563c615d65344c9a9d220e0cc43591c",
       "version_major": 2,
       "version_minor": 0
      },
      "text/plain": [
       "Canvas(toolbar=Toolbar(toolitems=[('Home', 'Reset original view', 'home', 'home'), ('Back', 'Back to previous …"
      ]
     },
     "metadata": {},
     "output_type": "display_data"
    }
   ],
   "source": [
    "v1 = heateqn.approx_half   #complete it\n",
    "v2 = heateqn.exact_half  #complete it\n",
    "plt.plot(heateqn.domain, v1,\"b\", heateqn.domain, v2 , \"r\")\n",
    "plt.show()"
   ]
  },
  {
   "cell_type": "code",
   "execution_count": null,
   "metadata": {},
   "outputs": [],
   "source": []
  },
  {
   "cell_type": "code",
   "execution_count": null,
   "metadata": {},
   "outputs": [],
   "source": []
  }
 ],
 "metadata": {
  "kernelspec": {
   "display_name": "Python 3",
   "language": "python",
   "name": "python3"
  },
  "language_info": {
   "codemirror_mode": {
    "name": "ipython",
    "version": 3
   },
   "file_extension": ".py",
   "mimetype": "text/x-python",
   "name": "python",
   "nbconvert_exporter": "python",
   "pygments_lexer": "ipython3",
   "version": "3.6.8"
  }
 },
 "nbformat": 4,
 "nbformat_minor": 2
}

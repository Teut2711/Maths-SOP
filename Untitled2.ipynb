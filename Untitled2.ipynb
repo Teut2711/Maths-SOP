{
 "cells": [
  {
   "cell_type": "code",
   "execution_count": 1,
   "metadata": {},
   "outputs": [],
   "source": [
    "import sympy as sm\n"
   ]
  },
  {
   "cell_type": "code",
   "execution_count": 2,
   "metadata": {},
   "outputs": [],
   "source": [
    "x, h, N = sm.Symbol(\"x\", nonnegative=True), sm.Symbol(\"h\", positive=True), sm.Symbol(\"N\", positive=True, integer=True)"
   ]
  },
  {
   "cell_type": "code",
   "execution_count": 3,
   "metadata": {},
   "outputs": [],
   "source": [
    "def phi(i):\n",
    "    \n",
    "    if i == 0 :\n",
    "        return sm.Piecewise( ( ( -x + (i+1)*h) / h, (x >=i*h) & (x <= (i+1)*h)) , \\\n",
    "                           (0, True) \n",
    "\n",
    "                      )\n",
    "    elif i == N:\n",
    "        return sm.Piecewise(  ((x - (i-1)*h) / h, (x >=(i-1)*h) & (x <= i*h))   , \\\n",
    "                   (0, True) \n",
    "                                       )             \n",
    "    else:\n",
    "        return sm.Piecewise(\n",
    "                           ((x - (i-1)*h) / h, (x >=h*(i-1)) & (x <= i*h))    , \\\n",
    "                           ( ( -x + (i+1)*h) / h, (x >=i*h) & (x <= (i+1)*h)) , \\\n",
    "                           (0, True)  \n",
    "                       )\n",
    "\n"
   ]
  },
  {
   "cell_type": "code",
   "execution_count": 4,
   "metadata": {},
   "outputs": [],
   "source": [
    "def phi_dash(i):\n",
    "    \n",
    "    if i == 0 :\n",
    "        return sm.Piecewise( ( -1/ h, (x >=i*h) & (x <= (i+1)*h)) , \\\n",
    "                           (0, True) \n",
    "\n",
    "                      )\n",
    "    elif i == N:\n",
    "        return sm.Piecewise(  (1/ h, (x >=(i-1)*h) & (x <= i*h))   , \\\n",
    "                   (0, True) \n",
    "                                       )             \n",
    "    else:\n",
    "        return sm.Piecewise(\n",
    "                           (1 / h, (x >=h*(i-1)) & (x <= i*h))    , \\\n",
    "                           ( -1 / h, (x >=i*h) & (x <= (i+1)*h)) , \\\n",
    "                           (0, True)  \n",
    "                       )\n",
    "\n"
   ]
  },
  {
   "cell_type": "code",
   "execution_count": 7,
   "metadata": {},
   "outputs": [],
   "source": [
    "N = 5\n",
    "A = sm.FunctionMatrix(N+1, N+1, lambda j, i:sm.simplify(phi(j)*phi_dash(i)).subs(x, 5*h)- sm.simplify(phi(j)*phi_dash(i)).subs(x, 0))"
   ]
  },
  {
   "cell_type": "code",
   "execution_count": 8,
   "metadata": {},
   "outputs": [
    {
     "data": {
      "text/latex": [
       "$\\displaystyle \\left[\\begin{matrix}\\frac{1}{h} & - \\frac{1}{h} & 0 & 0 & 0 & 0\\\\0 & 0 & 0 & 0 & 0 & 0\\\\0 & 0 & 0 & 0 & 0 & 0\\\\0 & 0 & 0 & 0 & 0 & 0\\\\0 & 0 & 0 & 0 & 0 & 0\\\\0 & 0 & 0 & 0 & - \\frac{1}{h} & \\frac{1}{h}\\end{matrix}\\right]$"
      ],
      "text/plain": [
       "Matrix([\n",
       "[1/h, -1/h, 0, 0,    0,   0],\n",
       "[  0,    0, 0, 0,    0,   0],\n",
       "[  0,    0, 0, 0,    0,   0],\n",
       "[  0,    0, 0, 0,    0,   0],\n",
       "[  0,    0, 0, 0,    0,   0],\n",
       "[  0,    0, 0, 0, -1/h, 1/h]])"
      ]
     },
     "execution_count": 8,
     "metadata": {},
     "output_type": "execute_result"
    }
   ],
   "source": [
    "A.as_explicit()#.subs({sm.Min(1,k*h):k*h for k in range(6)})"
   ]
  },
  {
   "cell_type": "code",
   "execution_count": null,
   "metadata": {},
   "outputs": [],
   "source": []
  }
 ],
 "metadata": {
  "kernelspec": {
   "display_name": "Python 3",
   "language": "python",
   "name": "python3"
  },
  "language_info": {
   "codemirror_mode": {
    "name": "ipython",
    "version": 3
   },
   "file_extension": ".py",
   "mimetype": "text/x-python",
   "name": "python",
   "nbconvert_exporter": "python",
   "pygments_lexer": "ipython3",
   "version": "3.6.8"
  }
 },
 "nbformat": 4,
 "nbformat_minor": 2
}

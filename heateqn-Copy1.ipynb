{
 "cells": [
  {
   "cell_type": "code",
   "execution_count": 1,
   "metadata": {},
   "outputs": [],
   "source": [
    "import numpy as np\n",
    "np.set_printoptions(linewidth=100)\n",
    "import sympy as sm\n",
    "import sympy.abc as sbl\n",
    "from scipy.sparse import diags\n",
    "import scipy.sparse.linalg as la\n",
    "import scipy.sparse as sp\n",
    "sm.init_printing()\n",
    "import time\n",
    "import matplotlib.pyplot as plt\n",
    "import matplotlib"
   ]
  },
  {
   "cell_type": "markdown",
   "metadata": {},
   "source": [
    "## Links to important Research Papers"
   ]
  },
  {
   "cell_type": "raw",
   "metadata": {},
   "source": [
    "display(FileLinks(os.getcwd(), included_suffixes=\".pdf\"))"
   ]
  },
  {
   "cell_type": "raw",
   "metadata": {},
   "source": [
    "pdfs = [i for i in os.listdir() if i.endswith(\".pdf\")]"
   ]
  },
  {
   "cell_type": "raw",
   "metadata": {},
   "source": [
    "IFrame(pdfs[1], width=1200, height=400)"
   ]
  },
  {
   "cell_type": "markdown",
   "metadata": {},
   "source": [
    "\n",
    "<h3 align=\"center\" style=\"color:#FFE647;\">Equation   </h3> \n",
    "\\begin{equation}\n",
    "\\\\  A \\alpha^{'} +\\hspace{15mm}\\beta ( D \\alpha \\hspace{10mm} - \\hspace{10mm}E \\alpha) \\hspace{10mm} - \\beta F  \\alpha \\hspace{15mm} = \\hspace{15mm}f(t)\n",
    "\\end{equation}\n",
    "\n",
    "\n",
    "\\begin{equation}\n",
    "\\\\  \\alpha^{'} = -A^{-1}(\\beta ( D \\alpha  - E \\alpha) - \\beta F  \\alpha - f(t)) \\hspace{10mm} (i)\n",
    "\\\\  \\alpha^{'} = -A^{-1}( \\beta ( D \\alpha  - E \\alpha -  F  \\alpha )- f(t)) \\hspace{10mm} (i)\n",
    "\\end{equation}\n",
    "\n"
   ]
  },
  {
   "cell_type": "code",
   "execution_count": 41,
   "metadata": {},
   "outputs": [],
   "source": [
    "class Matrices:\n",
    "    \n",
    "    \n",
    "    def __init__(self, N=10):\n",
    "        \n",
    "        \n",
    "        self.N = N\n",
    "        self.shape = (N+1, N+1)\n",
    "        self.h = 1/N\n",
    "        self.domain = np.linspace(0, 1, N+1) \n",
    "        self.beta = -1\n",
    "        self.time_step = self.h**2\n",
    "        self.runs = 1\n",
    "        \n",
    "        self.A = sp.csc_matrix(diags([       [self.h/6]*(N),   \\\n",
    "                                [self.h/3, *[2*self.h/3]*(N-1), self.h/3], \\\n",
    "                                     [self.h/6]*(N)],               [1, 0, -1] ), dtype=np.float32)\n",
    "\n",
    "        self.B = np.array([self.matB(i) for i in range(N+1)]).reshape(N+1, 1) \n",
    "\n",
    "        self.C = sp.csr_matrix(diags([[1/2]*(N), [-1/2]+[0]*(N-1)+[1/2], [-1/2]*(N)] , [1, 0, -1]), dtype=np.float32)\n",
    "\n",
    "        self.D = sp.csr_matrix(([-1/self.h, 1/self.h],([N, N-1], [N]*2)),shape=(N+1, N + 1))\n",
    "\n",
    "        self.E = sp.csr_matrix( ([-1/self.h, 1/self.h],([0, 0], [0, 1])), shape=(N+1, N + 1))\n",
    "\n",
    "        self.F = sp.csr_matrix(diags([      [-1/self.h]*(N),  \n",
    "                                     [1/self.h, *[2/self.h]*(N-1), 1/self.h], \\\n",
    "                                          [-1/self.h]*(N)   ],       [1, 0, -1] ), dtype=np.float32)\n",
    "\n",
    "\n",
    "        \n",
    "        #Set initial conditions here\n",
    "        self.alpha = np.sin(np.pi* self.domain).reshape(N+1, 1)\n",
    "        \n",
    "        #Set solution here\n",
    "        self.exact = lambda t: np.exp(t)*np.sin(np.pi * self.domain)\n",
    "        \n",
    "\n",
    "    \n",
    "\n",
    "    \n",
    "    def matB(self,i):\n",
    "            if i == 0 :\n",
    "                row = np.array([0, 0, 1, 1])\n",
    "                col = np.array([0, 1, 0, 1])\n",
    "                data = np.array([-1/3, 1/3, -1/6, 1/6])\n",
    "                return sp.csr_matrix((data, (row, col)), shape=self.shape,dtype=np.float32)        \n",
    "            elif i == self.N:\n",
    "                row = np.array([self.N-1, self.N - 1, self.N, self.N])\n",
    "                col = np.array([self.N-1, self.N , self.N -1, self.N])\n",
    "                data = np.array([-1/6, 1/6, -1/3, 1/3])\n",
    "                return sp.csr_matrix((data, (row, col)), shape=self.shape, dtype=np.float32)   \n",
    "            else:\n",
    "                row = np.array([i-1]*3 + [i]*3 + [i+1]*3)\n",
    "                col = np.array([col for col in range(i-1, i+1 + 1)]*3, dtype=np.float32)\n",
    "                data = np.array([-1/6, 1/6, 0, -1/3, 0, 1/3, 0, -1/6, 1/6 ])\n",
    "                return sp.csr_matrix((data, (row, col)), shape=self.shape, dtype=np.float32)    \n",
    "            \n",
    "   \n",
    "    "
   ]
  },
  {
   "cell_type": "code",
   "execution_count": 42,
   "metadata": {},
   "outputs": [],
   "source": [
    "class backward_euler(Matrices):\n",
    "    \n",
    "    def __init__(self, num_basis = 10):#, method = \"backward_euler\"):\n",
    "     \n",
    "        super().__init__(num_basis)\n",
    "        \n",
    "       \n",
    "        x, k, t = sm.symbols(\"x k t\")\n",
    "        expr = sm.exp(t)*sm.sin(sm.pi*x)*(1+sm.pi**2)\n",
    "\n",
    "        pos = sm.simplify(sm.integrate(expr*(x-(k-1)*self.h)/self.h, (x, self.h*(k-1),self.h*k)))\n",
    "        neg = sm.simplify(sm.integrate(expr*-(x-(k+1)*self.h)/self.h, (x, self.h*(k),self.h*(k+1))))\n",
    "\n",
    "        self.pos = sm.lambdify([k,t], pos, \"numpy\")\n",
    "        self.neg = sm.lambdify([k,t], neg, \"numpy\")    \n",
    "\n",
    "        #Backward Euler\n",
    "\n",
    "        self.time_point = 0\n",
    "        \n",
    "        for i in range(self.runs):\n",
    "            self.time_point += self.time_step  \n",
    "            self.alpha[0], self.alpha[-1] = (0, 0)\n",
    "            \n",
    "            f_t =  (np.array([0]+[self.pos(k, self.time_point) for k in range(1, self.N+1)]) +\\\n",
    "                         np.array([self.neg(k, self.time_point) for k in range(0, self.N)]+[0])).reshape(self.N+1, 1)   \n",
    "            \n",
    "            self.alpha = la.inv(self.A-self.time_step * self.beta *(self.D - self.E - self.F)).dot\\\n",
    "                                (self.A.dot(self.alpha) + self.time_step * f_t)  \n",
    "            \n",
    "            \n",
    "        self.approx = self.alpha.ravel()  \n",
    "\n",
    "    def graph(self):\n",
    "        plt.legend([\"Approx\", \"Exact\"])   \n",
    "\n",
    "\n",
    "        return plt.plot(self.domain, self.approx, self.domain, self.exact(self.time_point))"
   ]
  },
  {
   "cell_type": "code",
   "execution_count": 43,
   "metadata": {},
   "outputs": [],
   "source": [
    "#trash\n",
    "class rk4(Matrices): \n",
    "    \n",
    "    def __init__(self, num_basis = 10):#, method = \"backward_euler\"):\n",
    "\n",
    "        super().__init__(num_basis)\n",
    "\n",
    "\n",
    "        x, k, t = sm.symbols(\"x k t\")\n",
    "        expr = sm.exp(t)*sm.sin(sm.pi*x)*(1+sm.pi**2)\n",
    "\n",
    "        pos = sm.simplify(sm.integrate(expr*(x-(k-1)*self.h)/self.h, (x, self.h*(k-1),self.h*k)))\n",
    "        neg = sm.simplify(sm.integrate(expr*-(x-(k+1)*self.h)/self.h, (x, self.h*(k),self.h*(k+1))))\n",
    "\n",
    "        self.pos = sm.lambdify([k,t], pos, \"numpy\")\n",
    "        self.neg = sm.lambdify([k,t], neg, \"numpy\")\n",
    "\n",
    "       #Runga Kutta 4th order \n",
    "        pos = self.pos  \n",
    "        neg = self.neg\n",
    "        self.time_point = 0\n",
    "        \n",
    "        def k(a):\n",
    "            f_t = (  np.array([0]+[pos(k, self.time_point) for k in range(1, self.N+1)]) +\\\n",
    "                      np.array([neg(k, self.time_point) for k in range(0, self.N)]+[0]) \\\n",
    "                  ).reshape(self.N+1, 1)\n",
    "            return -la.inv(self.A).dot(self.beta*((self.D - self.E - self.F).dot(a) - f_t))\n",
    "            \n",
    "\n",
    "        for i in range(self.runs):\n",
    "\n",
    "            self.alpha[0] = 0\n",
    "            self.alpha[-1] = 0\n",
    "            \n",
    "            k1 = k( self.alpha)\n",
    "            k2 = k( self.alpha + .5*k1)\n",
    "            print(k2)\n",
    "            k3 = k( self.alpha + .5*k2)\n",
    "            k4 = k( self.alpha + k3)\n",
    "            self.alpha += (1/6)*(k1 + 2*k2 + 2*k3 + k4) * self.time_step\n",
    "            self.time_point +=  self.time_step\n",
    "           \n",
    "        self.approx = self.alpha.ravel()  \n",
    "\n",
    "    def graph(self):\n",
    "        plt.legend([\"Approx\", \"Exact\"])   \n",
    "        return plt.plot(self.domain, self.approx, self.domain, self.exact(self.time_point))"
   ]
  },
  {
   "cell_type": "code",
   "execution_count": 48,
   "metadata": {},
   "outputs": [],
   "source": [
    "heat = backward_euler()\n"
   ]
  },
  {
   "cell_type": "code",
   "execution_count": 49,
   "metadata": {},
   "outputs": [
    {
     "data": {
      "text/plain": [
       "[<matplotlib.lines.Line2D at 0x1db2a1ae978>,\n",
       " <matplotlib.lines.Line2D at 0x1db29f03b70>]"
      ]
     },
     "execution_count": 49,
     "metadata": {},
     "output_type": "execute_result"
    },
    {
     "data": {
      "image/png": "[encoded data removed]",
      "text/plain": [
       "<Figure size 432x288 with 1 Axes>"
      ]
     },
     "metadata": {
      "needs_background": "light"
     },
     "output_type": "display_data"
    }
   ],
   "source": [
    "heat.graph()"
   ]
  }
 ],
 "metadata": {
  "kernelspec": {
   "display_name": "Python 3",
   "language": "python",
   "name": "python3"
  },
  "language_info": {
   "codemirror_mode": {
    "name": "ipython",
    "version": 3
   },
   "file_extension": ".py",
   "mimetype": "text/x-python",
   "name": "python",
   "nbconvert_exporter": "python",
   "pygments_lexer": "ipython3",
   "version": "3.6.8"
  }
 },
 "nbformat": 4,
 "nbformat_minor": 2
}

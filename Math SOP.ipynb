{
 "cells": [
  {
   "cell_type": "code",
   "execution_count": 62,
   "metadata": {},
   "outputs": [],
   "source": [
    "import numpy as np\n",
    "np.set_printoptions(linewidth=100)\n",
    "import sympy as sm\n",
    "import sympy.abc as sbl\n",
    "from scipy.sparse import diags\n",
    "import scipy.sparse.linalg as la\n",
    "import scipy.sparse as sp\n",
    "sm.init_printing()\n",
    "import time\n",
    "import matplotlib.pyplot as plt\n",
    "import matplotlib"
   ]
  },
  {
   "cell_type": "markdown",
   "metadata": {},
   "source": [
    "# Hyperparameters"
   ]
  },
  {
   "cell_type": "code",
   "execution_count": 74,
   "metadata": {},
   "outputs": [],
   "source": [
    "N = 4\n",
    "h = 1 /N"
   ]
  },
  {
   "cell_type": "markdown",
   "metadata": {},
   "source": [
    "# Domain"
   ]
  },
  {
   "cell_type": "code",
   "execution_count": 1,
   "metadata": {
    "scrolled": true
   },
   "outputs": [
    {
     "ename": "NameError",
     "evalue": "name 'N' is not defined",
     "output_type": "error",
     "traceback": [
      "\u001b[1;31m---------------------------------------------------------------------------\u001b[0m",
      "\u001b[1;31mNameError\u001b[0m                                 Traceback (most recent call last)",
      "\u001b[1;32m<ipython-input-1-a8c5d7d8e94e>\u001b[0m in \u001b[0;36m<module>\u001b[1;34m\u001b[0m\n\u001b[0;32m      1\u001b[0m \u001b[0ml\u001b[0m \u001b[1;33m=\u001b[0m \u001b[1;33m[\u001b[0m\u001b[1;33m]\u001b[0m\u001b[1;33m\u001b[0m\u001b[1;33m\u001b[0m\u001b[0m\n\u001b[0;32m      2\u001b[0m \u001b[1;33m\u001b[0m\u001b[0m\n\u001b[1;32m----> 3\u001b[1;33m \u001b[1;32mfor\u001b[0m \u001b[0mi\u001b[0m \u001b[1;32min\u001b[0m \u001b[0mrange\u001b[0m\u001b[1;33m(\u001b[0m\u001b[0mN\u001b[0m \u001b[1;33m+\u001b[0m \u001b[1;36m1\u001b[0m\u001b[1;33m)\u001b[0m\u001b[1;33m:\u001b[0m\u001b[1;33m\u001b[0m\u001b[1;33m\u001b[0m\u001b[0m\n\u001b[0m\u001b[0;32m      4\u001b[0m     \u001b[0marr\u001b[0m \u001b[1;33m=\u001b[0m \u001b[0mnp\u001b[0m\u001b[1;33m.\u001b[0m\u001b[0marray\u001b[0m\u001b[1;33m(\u001b[0m\u001b[1;33m[\u001b[0m\u001b[1;36m0\u001b[0m\u001b[1;33m]\u001b[0m\u001b[1;33m*\u001b[0m \u001b[1;33m(\u001b[0m\u001b[0mN\u001b[0m \u001b[1;33m+\u001b[0m \u001b[1;36m1\u001b[0m\u001b[1;33m)\u001b[0m\u001b[1;33m)\u001b[0m\u001b[1;33m\u001b[0m\u001b[1;33m\u001b[0m\u001b[0m\n\u001b[0;32m      5\u001b[0m     \u001b[0marr\u001b[0m\u001b[1;33m[\u001b[0m\u001b[0mi\u001b[0m\u001b[1;33m]\u001b[0m \u001b[1;33m=\u001b[0m \u001b[1;36m1\u001b[0m\u001b[1;33m\u001b[0m\u001b[1;33m\u001b[0m\u001b[0m\n",
      "\u001b[1;31mNameError\u001b[0m: name 'N' is not defined"
     ]
    }
   ],
   "source": [
    "l = []\n",
    "\n",
    "for i in range(N + 1):\n",
    "    arr = np.array([0]* (N + 1))\n",
    "    arr[i] = 1\n",
    "    l.extend([np.linspace(0, 1, N+1), arr])\n",
    "plt.figure(figsize=(20, 7))\n",
    "\n",
    "plt.plot(*l, linewidth = 5)\n",
    "plt.grid()\n",
    "\n",
    "leg = plt.legend([r\"$\\phi_{}$\".format(i) for i in range(N+1)],loc = 2, prop={'size': 20}, ncol=8,  bbox_to_anchor=(0, 1.2 ),   )\n",
    "\n",
    "for i in range(N + 1):\n",
    "    if i!=N :\n",
    "        ann = plt.annotate(r'$ y = \\frac {{-(x-{}h)}}{{h}}$'.format(i+1), xy =(i*h+h/4, 1-h), xytext=(i*h+h/8, 1-h), weight='bold', fontsize=10)\n",
    "        ann.set_fontsize(20)\n",
    "    if i!=0:\n",
    "        ann = plt.annotate(r'$ y = \\frac {{(x-{}h)}}{{h}}$'.format(i-1), xy = (i*h+h/4, 1-h), xytext=(i*h-h/2.2, 1-h-h/2))\n",
    "        ann.set_fontsize(20)\n",
    "        \n",
    "x_ticks = plt.xticks(np.linspace(0, 1, N+1) , [\"0\"]+[f\"{i}h\" for i in range(1, N)]+[str(1)])\n",
    "plt.savefig(\"1.png\")"
   ]
  },
  {
   "cell_type": "code",
   "execution_count": 76,
   "metadata": {},
   "outputs": [
    {
     "data": {
      "text/plain": [
       "'7.2.0'"
      ]
     },
     "execution_count": 76,
     "metadata": {},
     "output_type": "execute_result"
    }
   ],
   "source": [
    "import IPython\n",
    "IPython.__version__"
   ]
  },
  {
   "cell_type": "markdown",
   "metadata": {},
   "source": [
    "## Equations "
   ]
  },
  {
   "cell_type": "markdown",
   "metadata": {},
   "source": [
    "\\begin{equation}\n",
    "\\underline {System \\ of \\ equations :}\n",
    "\\\\\\ u_t + u  u_x + v_x + \\beta u_{xx} = 0 \n",
    "\\\\ v_t + (uv)_x - \\beta v_{xx} = 0 \n",
    "\\end{equation}\n",
    "\n",
    "\\begin{equation}\n",
    "\\underline { Discrete \\ Galerkin \\ Solution :}\n",
    "\\\\ u^h = \n",
    "\\sum_{i= 0}^{n} a_i  \\phi_i \n",
    "\\end{equation}"
   ]
  },
  {
   "cell_type": "markdown",
   "metadata": {},
   "source": [
    "\\begin{equation}\n",
    "\\underline {System \\ of \\ equations :}\n",
    "\\\\\\ \\int_0^1 { (w u_t + wu  u_x + wv_x + \\beta w u_{xx})} \\ dx= 0 \n",
    "\\\\ \\int_0^1 { (wv_t + w (uv)_x - \\beta w v_{xx})} \\ dx= 0 \n",
    "\\end{equation}\n",
    "\n"
   ]
  },
  {
   "cell_type": "markdown",
   "metadata": {},
   "source": [
    "# Trial Case"
   ]
  },
  {
   "cell_type": "markdown",
   "metadata": {},
   "source": [
    "\\begin{equation}\n",
    "\\underline {System \\ of \\ equations :  Heat \\ Equation }\n",
    "\\\\\\ \\int {( w u_t  + \\beta w u_{xx})} \\ dx = 0 \n",
    "\\end{equation}\n"
   ]
  },
  {
   "cell_type": "markdown",
   "metadata": {},
   "source": [
    "\\begin{equation}\n",
    "\\underline {System \\ of \\ equations :}\n",
    "\\\\\\ \\int_0^1  w u_t  \\ dx  + \\beta \\ (w(1) u_x(1) - w(0) u_x(0)) - \\beta \\int_0^1 {w_x u_x} \\ dx= 0 \n",
    "\\\\  A \\alpha^{'} \\hspace{30mm} +\\beta ( B \\alpha \\hspace{5mm} - C \\alpha) \\hspace{10mm} - \\beta D  \\alpha  = 0 \\thinspace\\thinspace\\thinspace  \\ just\\ the \\ matrices\n",
    "\\\\ w = {\\phi_j}\n",
    "\\end{equation}"
   ]
  },
  {
   "cell_type": "markdown",
   "metadata": {},
   "source": [
    "## A   integrate"
   ]
  },
  {
   "cell_type": "code",
   "execution_count": 77,
   "metadata": {},
   "outputs": [
    {
     "data": {
      "text/latex": [
       "$\\displaystyle \\left[\\begin{matrix}\\int_0^1 \\phi_0 \\phi_{0} & \\int_0^1 \\phi_0 \\phi_{1} & 0 & 0 & 0\\\\\\int_0^1 \\phi_1 \\phi_{0} & \\int_0^1 \\phi_1 \\phi_{1} & \\int_0^1 \\phi_1 \\phi_{2} & 0 & 0\\\\0 & \\int_0^1 \\phi_2 \\phi_{1} & \\int_0^1 \\phi_2 \\phi_{2} & \\int_0^1 \\phi_2 \\phi_{3} & 0\\\\0 & 0 & \\int_0^1 \\phi_3 \\phi_{2} & \\int_0^1 \\phi_3 \\phi_{3} & \\int_0^1 \\phi_3 \\phi_{4}\\\\0 & 0 & 0 & \\int_0^1 \\phi_4 \\phi_{3} & \\int_0^1 \\phi_4 \\phi_{4}\\end{matrix}\\right]$"
      ],
      "text/plain": [
       "⎡\\int_0_0__1 \\phi⋅φ₀  \\int_0_0__1 \\phi⋅φ₁           0                    0    \n",
       "⎢                                                                             \n",
       "⎢\\int_0_1__1 \\phi⋅φ₀  \\int_0_1__1 \\phi⋅φ₁  \\int_0_1__1 \\phi⋅φ₂           0    \n",
       "⎢                                                                             \n",
       "⎢         0           \\int_0_2__1 \\phi⋅φ₁  \\int_0_2__1 \\phi⋅φ₂  \\int_0_2__1 \\p\n",
       "⎢                                                                             \n",
       "⎢         0                    0           \\int_0_3__1 \\phi⋅φ₂  \\int_0_3__1 \\p\n",
       "⎢                                                                             \n",
       "⎣         0                    0                    0           \\int_0_4__1 \\p\n",
       "\n",
       "                0         ⎤\n",
       "                          ⎥\n",
       "                0         ⎥\n",
       "                          ⎥\n",
       "hi⋅φ₃           0         ⎥\n",
       "                          ⎥\n",
       "hi⋅φ₃  \\int_0_3__1 \\phi⋅φ₄⎥\n",
       "                          ⎥\n",
       "hi⋅φ₃  \\int_0_4__1 \\phi⋅φ₄⎦"
      ]
     },
     "execution_count": 77,
     "metadata": {},
     "output_type": "execute_result"
    }
   ],
   "source": [
    "sm.Matrix([[sm.Symbol(f\"\\int_0^1 \\phi_{i}\")* sm.Symbol(f\"phi_{j}\") \\\n",
    "            if abs(i-j) in [0, 1]  else 0 for j in range(N+1) ] for i in range(N+1)]) # A"
   ]
  },
  {
   "cell_type": "markdown",
   "metadata": {},
   "source": [
    "### Integration of consecutive three( vertically)"
   ]
  },
  {
   "cell_type": "code",
   "execution_count": 78,
   "metadata": {},
   "outputs": [],
   "source": [
    "x, k, h = sm.symbols(\"x k h\")"
   ]
  },
  {
   "cell_type": "code",
   "execution_count": 79,
   "metadata": {},
   "outputs": [
    {
     "data": {
      "image/png": "[encoded data removed]",
      "text/latex": [
       "$\\displaystyle \\left( \\int\\limits_{h \\left(k - 1\\right)}^{h k} \\frac{\\left(h k - x\\right) \\left(- h \\left(k - 1\\right) + x\\right)}{h^{2}}\\, dx, \\  \\frac{h}{6}\\right)$"
      ],
      "text/plain": [
       "⎛   h⋅k                                    ⎞\n",
       "⎜    ⌠                                     ⎟\n",
       "⎜    ⎮     (h⋅k - x)⋅(-h⋅(k - 1) + x)     h⎟\n",
       "⎜    ⎮     ────────────────────────── dx, ─⎟\n",
       "⎜    ⎮                  2                 6⎟\n",
       "⎜    ⎮                 h                   ⎟\n",
       "⎜    ⌡                                     ⎟\n",
       "⎝h⋅(k - 1)                                 ⎠"
      ]
     },
     "execution_count": 79,
     "metadata": {},
     "output_type": "execute_result"
    }
   ],
   "source": [
    "IA3 = sm.Integral((-(x-k*h)/h)*(x-(k-1)*h)/h, (x, (k-1)*h, k*h))\n",
    "(IA3, sm.simplify(IA3.doit()))                #above"
   ]
  },
  {
   "cell_type": "code",
   "execution_count": 80,
   "metadata": {},
   "outputs": [
    {
     "data": {
      "image/png": "[encoded data removed]",
      "text/latex": [
       "$\\displaystyle \\left( \\left( \\int\\limits_{h \\left(k - 1\\right)}^{h k} \\frac{\\left(- h \\left(k - 1\\right) + x\\right)^{2}}{h^{2}}\\, dx, \\  \\frac{h}{3}\\right), \\  \\left( \\int\\limits_{h k}^{h \\left(k + 1\\right)} \\frac{\\left(- h \\left(k + 1\\right) + x\\right)^{2}}{h^{2}}\\, dx, \\  \\frac{h}{3}\\right), \\  \\int\\limits_{h \\left(k - 1\\right)}^{h k} \\frac{\\left(- h \\left(k - 1\\right) + x\\right)^{2}}{h^{2}}\\, dx + \\int\\limits_{h k}^{h \\left(k + 1\\right)} \\frac{\\left(- h \\left(k + 1\\right) + x\\right)^{2}}{h^{2}}\\, dx, \\  \\frac{2 h}{3}\\right)$"
      ],
      "text/plain": [
       "⎛⎛   h⋅k                           ⎞  ⎛h⋅(k + 1)                        ⎞     \n",
       "⎜⎜    ⌠                            ⎟  ⎜    ⌠                            ⎟     \n",
       "⎜⎜    ⎮                     2      ⎟  ⎜    ⎮                     2      ⎟     \n",
       "⎜⎜    ⎮     (-h⋅(k - 1) + x)      h⎟  ⎜    ⎮     (-h⋅(k + 1) + x)      h⎟     \n",
       "⎜⎜    ⎮     ───────────────── dx, ─⎟, ⎜    ⎮     ───────────────── dx, ─⎟,    \n",
       "⎜⎜    ⎮              2            3⎟  ⎜    ⎮              2            3⎟     \n",
       "⎜⎜    ⎮             h              ⎟  ⎜    ⎮             h              ⎟     \n",
       "⎜⎜    ⌡                            ⎟  ⎜    ⌡                            ⎟     \n",
       "⎝⎝h⋅(k - 1)                        ⎠  ⎝   h⋅k                           ⎠  h⋅(\n",
       "\n",
       "h⋅k                           h⋅(k + 1)                          ⎞\n",
       " ⌠                                ⌠                              ⎟\n",
       " ⎮                     2          ⎮                     2        ⎟\n",
       " ⎮     (-h⋅(k - 1) + x)           ⎮     (-h⋅(k + 1) + x)      2⋅h⎟\n",
       " ⎮     ───────────────── dx +     ⎮     ───────────────── dx, ───⎟\n",
       " ⎮              2                 ⎮              2             3 ⎟\n",
       " ⎮             h                  ⎮             h                ⎟\n",
       " ⌡                                ⌡                              ⎟\n",
       "k - 1)                           h⋅k                             ⎠"
      ]
     },
     "execution_count": 80,
     "metadata": {},
     "output_type": "execute_result"
    }
   ],
   "source": [
    "IA2 = (\n",
    "    sm.Integral(\n",
    "        ((x-(k-1)*h)/h)**2,\n",
    "        (x, (k-1)*h, k*h)\n",
    "    ) ,\n",
    "    sm.Integral(((x-(k+1)*h)/h)**2, (x, (k)*h, (k+1)*h)))\n",
    "(IA2[0], sm.simplify(IA2[0].doit())), (IA2[1], sm.simplify(IA2[1].doit())), sum(IA2), sm.simplify(sum(IA2).doit())  #middle"
   ]
  },
  {
   "cell_type": "markdown",
   "metadata": {},
   "source": [
    "# 0, 0 and N, N has single value h/3 not 2h/3"
   ]
  },
  {
   "cell_type": "code",
   "execution_count": 81,
   "metadata": {},
   "outputs": [
    {
     "data": {
      "image/png": "[encoded data removed]",
      "text/latex": [
       "$\\displaystyle \\left( \\int\\limits_{h k}^{h \\left(k + 1\\right)} \\frac{\\left(- h k + x\\right) \\left(h \\left(k + 1\\right) - x\\right)}{h^{2}}\\, dx, \\  \\frac{h}{6}\\right)$"
      ],
      "text/plain": [
       "⎛h⋅(k + 1)                                 ⎞\n",
       "⎜    ⌠                                     ⎟\n",
       "⎜    ⎮     (-h⋅k + x)⋅(h⋅(k + 1) - x)     h⎟\n",
       "⎜    ⎮     ────────────────────────── dx, ─⎟\n",
       "⎜    ⎮                  2                 6⎟\n",
       "⎜    ⎮                 h                   ⎟\n",
       "⎜    ⌡                                     ⎟\n",
       "⎝   h⋅k                                    ⎠"
      ]
     },
     "execution_count": 81,
     "metadata": {},
     "output_type": "execute_result"
    }
   ],
   "source": [
    "IA1 = sm.Integral((-(x-(k+1)*h)/h)* ((x-k*h)/h), (x, k*h, (k+1)*h)) \n",
    "(IA1, sm.simplify(IA1.doit()))   #bottom"
   ]
  },
  {
   "cell_type": "code",
   "execution_count": 82,
   "metadata": {},
   "outputs": [
    {
     "data": {
      "text/latex": [
       "$\\displaystyle \\left[\\begin{matrix}\\frac{h}{3} & \\frac{h}{6} & 0 & 0 & 0\\\\\\frac{h}{6} & \\frac{2 h}{3} & \\frac{h}{6} & 0 & 0\\\\0 & \\frac{h}{6} & \\frac{2 h}{3} & \\frac{h}{6} & 0\\\\0 & 0 & \\frac{h}{6} & \\frac{2 h}{3} & \\frac{h}{6}\\\\0 & 0 & 0 & \\frac{h}{6} & \\frac{h}{3}\\end{matrix}\\right]$"
      ],
      "text/plain": [
       "⎡h   h              ⎤\n",
       "⎢─   ─    0    0   0⎥\n",
       "⎢3   6              ⎥\n",
       "⎢                   ⎥\n",
       "⎢h  2⋅h   h         ⎥\n",
       "⎢─  ───   ─    0   0⎥\n",
       "⎢6   3    6         ⎥\n",
       "⎢                   ⎥\n",
       "⎢    h   2⋅h   h    ⎥\n",
       "⎢0   ─   ───   ─   0⎥\n",
       "⎢    6    3    6    ⎥\n",
       "⎢                   ⎥\n",
       "⎢         h   2⋅h  h⎥\n",
       "⎢0   0    ─   ───  ─⎥\n",
       "⎢         6    3   6⎥\n",
       "⎢                   ⎥\n",
       "⎢              h   h⎥\n",
       "⎢0   0    0    ─   ─⎥\n",
       "⎣              6   3⎦"
      ]
     },
     "execution_count": 82,
     "metadata": {},
     "output_type": "execute_result"
    }
   ],
   "source": [
    "def fA(i, j):\n",
    "    if (i==j) and j in [0, N]:\n",
    "        return h/3\n",
    "    elif i==j:\n",
    "        return 2*h/3\n",
    "    elif abs(i-j) == 1:\n",
    "        return h/6\n",
    "    else:\n",
    "        return 0\n",
    "sm.Matrix(N+1, N+1, lambda i, j: fA(i, j))"
   ]
  },
  {
   "cell_type": "markdown",
   "metadata": {},
   "source": [
    "## B   (!!do not integrate)    calculated at point 1"
   ]
  },
  {
   "cell_type": "code",
   "execution_count": 72,
   "metadata": {},
   "outputs": [
    {
     "data": {
      "text/latex": [
       "$\\displaystyle \\left[\\begin{matrix}0 & 0 & 0 & 0 & 0 & 0\\\\0 & 0 & 0 & 0 & 0 & 0\\\\0 & 0 & 0 & 0 & 0 & 0\\\\0 & 0 & 0 & 0 & 0 & 0\\\\0 & 0 & 0 & 0 & 0 & \\phi_4^{'}(1) \\phi_5 (1)\\\\0 & 0 & 0 & 0 & 0 & \\phi_5 (1) \\phi_5^{'}(1)\\end{matrix}\\right]$"
      ],
      "text/plain": [
       "⎡0  0  0  0  0              0            ⎤\n",
       "⎢                                        ⎥\n",
       "⎢0  0  0  0  0              0            ⎥\n",
       "⎢                                        ⎥\n",
       "⎢0  0  0  0  0              0            ⎥\n",
       "⎢                                        ⎥\n",
       "⎢0  0  0  0  0              0            ⎥\n",
       "⎢                                        ⎥\n",
       "⎢0  0  0  0  0  \\phi_4__{'}(1)⋅\\phi_5 (1)⎥\n",
       "⎢                                        ⎥\n",
       "⎣0  0  0  0  0  \\phi_5 (1)⋅\\phi_5__{'}(1)⎦"
      ]
     },
     "execution_count": 72,
     "metadata": {},
     "output_type": "execute_result"
    }
   ],
   "source": [
    "sm.Matrix([[sm.Symbol(f\"\\phi_{i}^{{'}}(1)\")* sm.Symbol(f\"\\phi_{j} (1)\")\\\n",
    "            if abs(i-j) in[0, 1] and j==N  else 0 for j in range(N+1)] for i in range(N+1)])"
   ]
  },
  {
   "cell_type": "code",
   "execution_count": 73,
   "metadata": {},
   "outputs": [
    {
     "data": {
      "image/png": "[encoded data removed]",
      "text/latex": [
       "$\\displaystyle \\left( - \\frac{h + x - 1}{h^{2}}, \\  - \\frac{1}{h}\\right)$"
      ],
      "text/plain": [
       "⎛-(h + x - 1)   -1 ⎞\n",
       "⎜─────────────, ───⎟\n",
       "⎜       2        h ⎟\n",
       "⎝      h           ⎠"
      ]
     },
     "execution_count": 73,
     "metadata": {},
     "output_type": "execute_result"
    }
   ],
   "source": [
    "IB1 =  (((x-(1- h))/h) *(-1/h))   #(4, 5)\n",
    "IB1, IB1.subs({x:1})"
   ]
  },
  {
   "cell_type": "code",
   "execution_count": 21,
   "metadata": {},
   "outputs": [
    {
     "data": {
      "image/png": "[encoded data removed]",
      "text/latex": [
       "$\\displaystyle \\left( \\frac{h + x - 1}{h^{2}}, \\  \\frac{1}{h}\\right)$"
      ],
      "text/plain": [
       "⎛h + x - 1  1⎞\n",
       "⎜─────────, ─⎟\n",
       "⎜     2     h⎟\n",
       "⎝    h       ⎠"
      ]
     },
     "execution_count": 21,
     "metadata": {},
     "output_type": "execute_result"
    }
   ],
   "source": [
    "IB2 =  (((x-(1- h))/h) *(1/h))   #(5, 5)\n",
    "IB2, IB2.subs({x:1})"
   ]
  },
  {
   "cell_type": "code",
   "execution_count": 22,
   "metadata": {},
   "outputs": [
    {
     "data": {
      "text/latex": [
       "$\\displaystyle \\left[\\begin{matrix}0 & 0 & 0 & 0 & 0 & 0\\\\0 & 0 & 0 & 0 & 0 & 0\\\\0 & 0 & 0 & 0 & 0 & 0\\\\0 & 0 & 0 & 0 & 0 & 0\\\\0 & 0 & 0 & 0 & 0 & - \\frac{1}{h}\\\\0 & 0 & 0 & 0 & 0 & \\frac{1}{h}\\end{matrix}\\right]$"
      ],
      "text/plain": [
       "⎡0  0  0  0  0   0 ⎤\n",
       "⎢                  ⎥\n",
       "⎢0  0  0  0  0   0 ⎥\n",
       "⎢                  ⎥\n",
       "⎢0  0  0  0  0   0 ⎥\n",
       "⎢                  ⎥\n",
       "⎢0  0  0  0  0   0 ⎥\n",
       "⎢                  ⎥\n",
       "⎢               -1 ⎥\n",
       "⎢0  0  0  0  0  ───⎥\n",
       "⎢                h ⎥\n",
       "⎢                  ⎥\n",
       "⎢                1 ⎥\n",
       "⎢0  0  0  0  0   ─ ⎥\n",
       "⎣                h ⎦"
      ]
     },
     "execution_count": 22,
     "metadata": {},
     "output_type": "execute_result"
    }
   ],
   "source": [
    "def fB(i, j):\n",
    "    if (i==j==N):  \n",
    "        return 1/h\n",
    "    elif i + 1 ==N and j== N :\n",
    "        return -1/h\n",
    "    else:\n",
    "        return 0\n",
    "sm.Matrix(N+1, N+1, lambda i, j: fB(i, j))"
   ]
  },
  {
   "cell_type": "markdown",
   "metadata": {},
   "source": [
    "## C   (!!do not integrate)    calculate at point 0"
   ]
  },
  {
   "cell_type": "code",
   "execution_count": 23,
   "metadata": {},
   "outputs": [
    {
     "data": {
      "text/latex": [
       "$\\displaystyle \\left[\\begin{matrix}\\phi_0 (0) \\phi_0^{'}(0) & 0 & 0 & 0 & 0 & 0\\\\\\phi_0 (0) \\phi_1^{'}(0) & 0 & 0 & 0 & 0 & 0\\\\0 & 0 & 0 & 0 & 0 & 0\\\\0 & 0 & 0 & 0 & 0 & 0\\\\0 & 0 & 0 & 0 & 0 & 0\\\\0 & 0 & 0 & 0 & 0 & 0\\end{matrix}\\right]$"
      ],
      "text/plain": [
       "⎡\\phi_0 (0)⋅\\phi_0__{'}(0)  0  0  0  0  0⎤\n",
       "⎢                                        ⎥\n",
       "⎢\\phi_0 (0)⋅\\phi_1__{'}(0)  0  0  0  0  0⎥\n",
       "⎢                                        ⎥\n",
       "⎢            0              0  0  0  0  0⎥\n",
       "⎢                                        ⎥\n",
       "⎢            0              0  0  0  0  0⎥\n",
       "⎢                                        ⎥\n",
       "⎢            0              0  0  0  0  0⎥\n",
       "⎢                                        ⎥\n",
       "⎣            0              0  0  0  0  0⎦"
      ]
     },
     "execution_count": 23,
     "metadata": {},
     "output_type": "execute_result"
    }
   ],
   "source": [
    "sm.Matrix([[sm.Symbol(f\"\\phi_{i}^{{'}}(0)\")* sm.Symbol(f\"\\phi_{j} (0)\")\\\n",
    "            if abs(i-j) in[0, 1] and j==0  else 0 for j in range(N+1)] for i in range(N+1)])"
   ]
  },
  {
   "cell_type": "code",
   "execution_count": 24,
   "metadata": {},
   "outputs": [
    {
     "data": {
      "image/png": "[encoded data removed]",
      "text/latex": [
       "$\\displaystyle \\left( - \\frac{h - x}{h^{2}}, \\  - \\frac{1}{h}\\right)$"
      ],
      "text/plain": [
       "⎛-(h - x)   -1 ⎞\n",
       "⎜─────────, ───⎟\n",
       "⎜     2      h ⎟\n",
       "⎝    h         ⎠"
      ]
     },
     "execution_count": 24,
     "metadata": {},
     "output_type": "execute_result"
    }
   ],
   "source": [
    "IC1 =  (-(x-h)/h) *(-1/h)  #(0, 0)\n",
    "IC1, IC1.subs({x:0})"
   ]
  },
  {
   "cell_type": "code",
   "execution_count": 25,
   "metadata": {},
   "outputs": [
    {
     "data": {
      "image/png": "[encoded data removed]",
      "text/latex": [
       "$\\displaystyle \\left( \\frac{h - x}{h^{2}}, \\  \\frac{1}{h}\\right)$"
      ],
      "text/plain": [
       "⎛h - x  1⎞\n",
       "⎜─────, ─⎟\n",
       "⎜   2   h⎟\n",
       "⎝  h     ⎠"
      ]
     },
     "execution_count": 25,
     "metadata": {},
     "output_type": "execute_result"
    }
   ],
   "source": [
    "IC2 =  (-(x-h)/h) *(1/h)   #(1, 0)\n",
    "IC2, IC2.subs({x:0})"
   ]
  },
  {
   "cell_type": "code",
   "execution_count": 26,
   "metadata": {},
   "outputs": [
    {
     "data": {
      "text/latex": [
       "$\\displaystyle \\left[\\begin{matrix}- \\frac{1}{h} & 0 & 0 & 0 & 0 & 0\\\\\\frac{1}{h} & 0 & 0 & 0 & 0 & 0\\\\0 & 0 & 0 & 0 & 0 & 0\\\\0 & 0 & 0 & 0 & 0 & 0\\\\0 & 0 & 0 & 0 & 0 & 0\\\\0 & 0 & 0 & 0 & 0 & 0\\end{matrix}\\right]$"
      ],
      "text/plain": [
       "⎡-1                ⎤\n",
       "⎢───  0  0  0  0  0⎥\n",
       "⎢ h                ⎥\n",
       "⎢                  ⎥\n",
       "⎢ 1                ⎥\n",
       "⎢ ─   0  0  0  0  0⎥\n",
       "⎢ h                ⎥\n",
       "⎢                  ⎥\n",
       "⎢ 0   0  0  0  0  0⎥\n",
       "⎢                  ⎥\n",
       "⎢ 0   0  0  0  0  0⎥\n",
       "⎢                  ⎥\n",
       "⎢ 0   0  0  0  0  0⎥\n",
       "⎢                  ⎥\n",
       "⎣ 0   0  0  0  0  0⎦"
      ]
     },
     "execution_count": 26,
     "metadata": {},
     "output_type": "execute_result"
    }
   ],
   "source": [
    "def fC(i, j):\n",
    "    if (i==j==0):  \n",
    "        return -1/h\n",
    "    elif i - 1 ==0 and j== 0 :\n",
    "        return 1/h\n",
    "    else:\n",
    "        return 0\n",
    "sm.Matrix(N+1, N+1, lambda i, j: fC(i, j))"
   ]
  },
  {
   "cell_type": "markdown",
   "metadata": {},
   "source": [
    "## D  integrate"
   ]
  },
  {
   "cell_type": "code",
   "execution_count": 27,
   "metadata": {},
   "outputs": [
    {
     "data": {
      "text/latex": [
       "$\\displaystyle \\left[\\begin{matrix}\\int_0^1 \\phi_0' \\phi^{'}_{0} & \\int_0^1 \\phi_0' \\phi^{'}_{1} & 0 & 0 & 0 & 0\\\\\\int_0^1 \\phi_1' \\phi^{'}_{0} & \\int_0^1 \\phi_1' \\phi^{'}_{1} & \\int_0^1 \\phi_1' \\phi^{'}_{2} & 0 & 0 & 0\\\\0 & \\int_0^1 \\phi_2' \\phi^{'}_{1} & \\int_0^1 \\phi_2' \\phi^{'}_{2} & \\int_0^1 \\phi_2' \\phi^{'}_{3} & 0 & 0\\\\0 & 0 & \\int_0^1 \\phi_3' \\phi^{'}_{2} & \\int_0^1 \\phi_3' \\phi^{'}_{3} & \\int_0^1 \\phi_3' \\phi^{'}_{4} & 0\\\\0 & 0 & 0 & \\int_0^1 \\phi_4' \\phi^{'}_{3} & \\int_0^1 \\phi_4' \\phi^{'}_{4} & \\int_0^1 \\phi_4' \\phi^{'}_{5}\\\\0 & 0 & 0 & 0 & \\int_0^1 \\phi_5' \\phi^{'}_{4} & \\int_0^1 \\phi_5' \\phi^{'}_{5}\\end{matrix}\\right]$"
      ],
      "text/plain": [
       "⎡\\int_0_0'__1 \\phi⋅φ_0__'  \\int_0_0'__1 \\phi⋅φ_1__'             0             \n",
       "⎢                                                                             \n",
       "⎢\\int_0_1'__1 \\phi⋅φ_0__'  \\int_0_1'__1 \\phi⋅φ_1__'  \\int_0_1'__1 \\phi⋅φ_2__' \n",
       "⎢                                                                             \n",
       "⎢           0              \\int_0_2'__1 \\phi⋅φ_1__'  \\int_0_2'__1 \\phi⋅φ_2__' \n",
       "⎢                                                                             \n",
       "⎢           0                         0              \\int_0_3'__1 \\phi⋅φ_2__' \n",
       "⎢                                                                             \n",
       "⎢           0                         0                         0             \n",
       "⎢                                                                             \n",
       "⎣           0                         0                         0             \n",
       "\n",
       "            0                         0                         0            ⎤\n",
       "                                                                             ⎥\n",
       "            0                         0                         0            ⎥\n",
       "                                                                             ⎥\n",
       " \\int_0_2'__1 \\phi⋅φ_3__'             0                         0            ⎥\n",
       "                                                                             ⎥\n",
       " \\int_0_3'__1 \\phi⋅φ_3__'  \\int_0_3'__1 \\phi⋅φ_4__'             0            ⎥\n",
       "                                                                             ⎥\n",
       " \\int_0_4'__1 \\phi⋅φ_3__'  \\int_0_4'__1 \\phi⋅φ_4__'  \\int_0_4'__1 \\phi⋅φ_5__'⎥\n",
       "                                                                             ⎥\n",
       "            0              \\int_0_5'__1 \\phi⋅φ_4__'  \\int_0_5'__1 \\phi⋅φ_5__'⎦"
      ]
     },
     "execution_count": 27,
     "metadata": {},
     "output_type": "execute_result"
    }
   ],
   "source": [
    "sm.Matrix([[sm.Symbol(f\"\\int_0^1 \\phi_{i}'\")* sm.Symbol(f\"phi_{j}^'\")\\\n",
    "            if abs(i-j) in [0, 1]  else 0 for j in range(N+1)] for i in range(N+1)]) # D"
   ]
  },
  {
   "cell_type": "code",
   "execution_count": 28,
   "metadata": {},
   "outputs": [
    {
     "data": {
      "image/png": "[encoded data removed]",
      "text/latex": [
       "$\\displaystyle \\left( \\int\\limits_{h \\left(k - 1\\right)}^{h k} \\left(- \\frac{1}{h^{2}}\\right)\\, dx, \\  - \\frac{1}{h}\\right)$"
      ],
      "text/plain": [
       "⎛   h⋅k               ⎞\n",
       "⎜    ⌠                ⎟\n",
       "⎜    ⎮     -1      -1 ⎟\n",
       "⎜    ⎮     ─── dx, ───⎟\n",
       "⎜    ⎮       2      h ⎟\n",
       "⎜    ⎮      h         ⎟\n",
       "⎜    ⌡                ⎟\n",
       "⎝h⋅(k - 1)            ⎠"
      ]
     },
     "execution_count": 28,
     "metadata": {},
     "output_type": "execute_result"
    }
   ],
   "source": [
    "IA1 = sm.Integral((-1/h)*(1/h), (x, (k-1)*h, k*h))\n",
    "(IA1, sm.simplify(IA1.doit()))                #above"
   ]
  },
  {
   "cell_type": "code",
   "execution_count": 29,
   "metadata": {},
   "outputs": [
    {
     "data": {
      "image/png": "[encoded data removed]",
      "text/latex": [
       "$\\displaystyle \\left( \\left( \\int\\limits_{h \\left(k - 1\\right)}^{h k} \\frac{1}{h^{2}}\\, dx, \\  \\frac{1}{h}\\right), \\  \\left( \\int\\limits_{h k}^{h \\left(k + 1\\right)} \\frac{1}{h^{2}}\\, dx, \\  \\frac{1}{h}\\right), \\  \\int\\limits_{h k}^{h \\left(k + 1\\right)} \\frac{1}{h^{2}}\\, dx + \\int\\limits_{h \\left(k - 1\\right)}^{h k} \\frac{1}{h^{2}}\\, dx, \\  \\frac{2}{h}\\right)$"
      ],
      "text/plain": [
       "⎛⎛   h⋅k            ⎞  ⎛h⋅(k + 1)         ⎞  h⋅(k + 1)            h⋅k         \n",
       "⎜⎜    ⌠             ⎟  ⎜    ⌠             ⎟      ⌠                 ⌠          \n",
       "⎜⎜    ⎮     1      1⎟  ⎜    ⎮     1      1⎟      ⎮     1           ⎮     1    \n",
       "⎜⎜    ⎮     ── dx, ─⎟, ⎜    ⎮     ── dx, ─⎟,     ⎮     ── dx +     ⎮     ── dx\n",
       "⎜⎜    ⎮      2     h⎟  ⎜    ⎮      2     h⎟      ⎮      2          ⎮      2   \n",
       "⎜⎜    ⎮     h       ⎟  ⎜    ⎮     h       ⎟      ⎮     h           ⎮     h    \n",
       "⎜⎜    ⌡             ⎟  ⎜    ⌡             ⎟      ⌡                 ⌡          \n",
       "⎝⎝h⋅(k - 1)         ⎠  ⎝   h⋅k            ⎠     h⋅k            h⋅(k - 1)      \n",
       "\n",
       "   ⎞\n",
       "   ⎟\n",
       "  2⎟\n",
       ", ─⎟\n",
       "  h⎟\n",
       "   ⎟\n",
       "   ⎟\n",
       "   ⎠"
      ]
     },
     "execution_count": 29,
     "metadata": {},
     "output_type": "execute_result"
    }
   ],
   "source": [
    "IA2 = (sm.Integral((1/h)**2, (x, (k-1)*h, k*h)) , sm.Integral((1/h)**2, (x, (k)*h, (k+1)*h)))\n",
    "(IA2[0], sm.simplify(IA2[0].doit())), (IA2[1], sm.simplify(IA2[1].doit())), sum(IA2), sm.simplify(sum(IA2).doit())  #middle"
   ]
  },
  {
   "cell_type": "code",
   "execution_count": 30,
   "metadata": {},
   "outputs": [
    {
     "data": {
      "image/png": "[encoded data removed]",
      "text/latex": [
       "$\\displaystyle \\left( \\int\\limits_{h k}^{h \\left(k + 1\\right)} \\left(- \\frac{1}{h^{2}}\\right)\\, dx, \\  - \\frac{1}{h}\\right)$"
      ],
      "text/plain": [
       "⎛h⋅(k + 1)            ⎞\n",
       "⎜    ⌠                ⎟\n",
       "⎜    ⎮     -1      -1 ⎟\n",
       "⎜    ⎮     ─── dx, ───⎟\n",
       "⎜    ⎮       2      h ⎟\n",
       "⎜    ⎮      h         ⎟\n",
       "⎜    ⌡                ⎟\n",
       "⎝   h⋅k               ⎠"
      ]
     },
     "execution_count": 30,
     "metadata": {},
     "output_type": "execute_result"
    }
   ],
   "source": [
    "IA3 = sm.Integral((-1/h)* (1/h), (x, k*h, (k+1)*h)) \n",
    "(IA3, sm.simplify(IA3.doit()))   #bottom"
   ]
  },
  {
   "cell_type": "markdown",
   "metadata": {},
   "source": [
    "<h1><u> Integral Calculator</u></h1>"
   ]
  },
  {
   "cell_type": "raw",
   "metadata": {},
   "source": [
    "f = -(x-(n)*h)/h * (x-(n-1)*h)/h\n",
    "l1 = (n-1)*h\n",
    "l2 = n*h\n",
    "sm.simplify(sm.integrate(f, (x, l1, l2)))"
   ]
  },
  {
   "cell_type": "markdown",
   "metadata": {},
   "source": [
    "<html><h1 style=\"color:#cc0c36;\">Code Begins</h1></html>"
   ]
  },
  {
   "cell_type": "code",
   "execution_count": 32,
   "metadata": {},
   "outputs": [],
   "source": [
    "#No of basis functions\n",
    "N = 20\n",
    "\n",
    "# x step size\n",
    "h = 1/N\n",
    "\n",
    "# constant\n",
    "beta = -.5\n",
    "\n",
    "\n",
    "A = sp.csc_matrix(diags([     [h/3, *[2*h/3]*(N-1), h/3], \\\n",
    "                              [h/6]*(N),         \\\n",
    "                              [h/6]*(N)],               [0, 1, -1] ))\n",
    "\n",
    "B = sp.csc_matrix( ([-1/h, 1/h],([N, N-1], [N, N]),), shape=(N+1, N+1) )\n",
    "\n",
    "C = sp.csc_matrix( ([-1/h, 1/h],([1, 0], [0, 0])), shape=(N+1, N+1) )\n",
    "\n",
    "D = sp.csc_matrix(diags([     [1/h, *[2/h]*(N-1), 1/h], \\\n",
    "                              [-1/h]*(N),         \\\n",
    "                              [-1/h]*(N)],               [0, 1, -1] ))\n",
    "\n",
    "alpha = np.array([np.sin((x+1)*np.pi/2) - np.cos((x+1)*np.pi/2)   for x in np.linspace(0, 1, N+1) ]).reshape(-1, 1)\n"
   ]
  },
  {
   "cell_type": "code",
   "execution_count": 33,
   "metadata": {
    "scrolled": true
   },
   "outputs": [
    {
     "data": {
      "text/plain": [
       "matrix([[0.01666667, 0.00833333, 0.        , 0.        , 0.        , 0.        , 0.        ,\n",
       "         0.        , 0.        , 0.        , 0.        , 0.        , 0.        , 0.        ,\n",
       "         0.        , 0.        , 0.        , 0.        , 0.        , 0.        , 0.        ],\n",
       "        [0.00833333, 0.03333333, 0.00833333, 0.        , 0.        , 0.        , 0.        ,\n",
       "         0.        , 0.        , 0.        , 0.        , 0.        , 0.        , 0.        ,\n",
       "         0.        , 0.        , 0.        , 0.        , 0.        , 0.        , 0.        ],\n",
       "        [0.        , 0.00833333, 0.03333333, 0.00833333, 0.        , 0.        , 0.        ,\n",
       "         0.        , 0.        , 0.        , 0.        , 0.        , 0.        , 0.        ,\n",
       "         0.        , 0.        , 0.        , 0.        , 0.        , 0.        , 0.        ],\n",
       "        [0.        , 0.        , 0.00833333, 0.03333333, 0.00833333, 0.        , 0.        ,\n",
       "         0.        , 0.        , 0.        , 0.        , 0.        , 0.        , 0.        ,\n",
       "         0.        , 0.        , 0.        , 0.        , 0.        , 0.        , 0.        ],\n",
       "        [0.        , 0.        , 0.        , 0.00833333, 0.03333333, 0.00833333, 0.        ,\n",
       "         0.        , 0.        , 0.        , 0.        , 0.        , 0.        , 0.        ,\n",
       "         0.        , 0.        , 0.        , 0.        , 0.        , 0.        , 0.        ],\n",
       "        [0.        , 0.        , 0.        , 0.        , 0.00833333, 0.03333333, 0.00833333,\n",
       "         0.        , 0.        , 0.        , 0.        , 0.        , 0.        , 0.        ,\n",
       "         0.        , 0.        , 0.        , 0.        , 0.        , 0.        , 0.        ],\n",
       "        [0.        , 0.        , 0.        , 0.        , 0.        , 0.00833333, 0.03333333,\n",
       "         0.00833333, 0.        , 0.        , 0.        , 0.        , 0.        , 0.        ,\n",
       "         0.        , 0.        , 0.        , 0.        , 0.        , 0.        , 0.        ],\n",
       "        [0.        , 0.        , 0.        , 0.        , 0.        , 0.        , 0.00833333,\n",
       "         0.03333333, 0.00833333, 0.        , 0.        , 0.        , 0.        , 0.        ,\n",
       "         0.        , 0.        , 0.        , 0.        , 0.        , 0.        , 0.        ],\n",
       "        [0.        , 0.        , 0.        , 0.        , 0.        , 0.        , 0.        ,\n",
       "         0.00833333, 0.03333333, 0.00833333, 0.        , 0.        , 0.        , 0.        ,\n",
       "         0.        , 0.        , 0.        , 0.        , 0.        , 0.        , 0.        ],\n",
       "        [0.        , 0.        , 0.        , 0.        , 0.        , 0.        , 0.        ,\n",
       "         0.        , 0.00833333, 0.03333333, 0.00833333, 0.        , 0.        , 0.        ,\n",
       "         0.        , 0.        , 0.        , 0.        , 0.        , 0.        , 0.        ],\n",
       "        [0.        , 0.        , 0.        , 0.        , 0.        , 0.        , 0.        ,\n",
       "         0.        , 0.        , 0.00833333, 0.03333333, 0.00833333, 0.        , 0.        ,\n",
       "         0.        , 0.        , 0.        , 0.        , 0.        , 0.        , 0.        ],\n",
       "        [0.        , 0.        , 0.        , 0.        , 0.        , 0.        , 0.        ,\n",
       "         0.        , 0.        , 0.        , 0.00833333, 0.03333333, 0.00833333, 0.        ,\n",
       "         0.        , 0.        , 0.        , 0.        , 0.        , 0.        , 0.        ],\n",
       "        [0.        , 0.        , 0.        , 0.        , 0.        , 0.        , 0.        ,\n",
       "         0.        , 0.        , 0.        , 0.        , 0.00833333, 0.03333333, 0.00833333,\n",
       "         0.        , 0.        , 0.        , 0.        , 0.        , 0.        , 0.        ],\n",
       "        [0.        , 0.        , 0.        , 0.        , 0.        , 0.        , 0.        ,\n",
       "         0.        , 0.        , 0.        , 0.        , 0.        , 0.00833333, 0.03333333,\n",
       "         0.00833333, 0.        , 0.        , 0.        , 0.        , 0.        , 0.        ],\n",
       "        [0.        , 0.        , 0.        , 0.        , 0.        , 0.        , 0.        ,\n",
       "         0.        , 0.        , 0.        , 0.        , 0.        , 0.        , 0.00833333,\n",
       "         0.03333333, 0.00833333, 0.        , 0.        , 0.        , 0.        , 0.        ],\n",
       "        [0.        , 0.        , 0.        , 0.        , 0.        , 0.        , 0.        ,\n",
       "         0.        , 0.        , 0.        , 0.        , 0.        , 0.        , 0.        ,\n",
       "         0.00833333, 0.03333333, 0.00833333, 0.        , 0.        , 0.        , 0.        ],\n",
       "        [0.        , 0.        , 0.        , 0.        , 0.        , 0.        , 0.        ,\n",
       "         0.        , 0.        , 0.        , 0.        , 0.        , 0.        , 0.        ,\n",
       "         0.        , 0.00833333, 0.03333333, 0.00833333, 0.        , 0.        , 0.        ],\n",
       "        [0.        , 0.        , 0.        , 0.        , 0.        , 0.        , 0.        ,\n",
       "         0.        , 0.        , 0.        , 0.        , 0.        , 0.        , 0.        ,\n",
       "         0.        , 0.        , 0.00833333, 0.03333333, 0.00833333, 0.        , 0.        ],\n",
       "        [0.        , 0.        , 0.        , 0.        , 0.        , 0.        , 0.        ,\n",
       "         0.        , 0.        , 0.        , 0.        , 0.        , 0.        , 0.        ,\n",
       "         0.        , 0.        , 0.        , 0.00833333, 0.03333333, 0.00833333, 0.        ],\n",
       "        [0.        , 0.        , 0.        , 0.        , 0.        , 0.        , 0.        ,\n",
       "         0.        , 0.        , 0.        , 0.        , 0.        , 0.        , 0.        ,\n",
       "         0.        , 0.        , 0.        , 0.        , 0.00833333, 0.03333333, 0.00833333],\n",
       "        [0.        , 0.        , 0.        , 0.        , 0.        , 0.        , 0.        ,\n",
       "         0.        , 0.        , 0.        , 0.        , 0.        , 0.        , 0.        ,\n",
       "         0.        , 0.        , 0.        , 0.        , 0.        , 0.00833333, 0.01666667]])"
      ]
     },
     "execution_count": 33,
     "metadata": {},
     "output_type": "execute_result"
    }
   ],
   "source": [
    "A.todense()"
   ]
  },
  {
   "cell_type": "code",
   "execution_count": 34,
   "metadata": {},
   "outputs": [
    {
     "data": {
      "text/plain": [
       "matrix([[  0.,   0.,   0.,   0.,   0.,   0.,   0.,   0.,   0.,   0.,   0.,   0.,   0.,   0.,   0.,\n",
       "           0.,   0.,   0.,   0.,   0.,   0.],\n",
       "        [  0.,   0.,   0.,   0.,   0.,   0.,   0.,   0.,   0.,   0.,   0.,   0.,   0.,   0.,   0.,\n",
       "           0.,   0.,   0.,   0.,   0.,   0.],\n",
       "        [  0.,   0.,   0.,   0.,   0.,   0.,   0.,   0.,   0.,   0.,   0.,   0.,   0.,   0.,   0.,\n",
       "           0.,   0.,   0.,   0.,   0.,   0.],\n",
       "        [  0.,   0.,   0.,   0.,   0.,   0.,   0.,   0.,   0.,   0.,   0.,   0.,   0.,   0.,   0.,\n",
       "           0.,   0.,   0.,   0.,   0.,   0.],\n",
       "        [  0.,   0.,   0.,   0.,   0.,   0.,   0.,   0.,   0.,   0.,   0.,   0.,   0.,   0.,   0.,\n",
       "           0.,   0.,   0.,   0.,   0.,   0.],\n",
       "        [  0.,   0.,   0.,   0.,   0.,   0.,   0.,   0.,   0.,   0.,   0.,   0.,   0.,   0.,   0.,\n",
       "           0.,   0.,   0.,   0.,   0.,   0.],\n",
       "        [  0.,   0.,   0.,   0.,   0.,   0.,   0.,   0.,   0.,   0.,   0.,   0.,   0.,   0.,   0.,\n",
       "           0.,   0.,   0.,   0.,   0.,   0.],\n",
       "        [  0.,   0.,   0.,   0.,   0.,   0.,   0.,   0.,   0.,   0.,   0.,   0.,   0.,   0.,   0.,\n",
       "           0.,   0.,   0.,   0.,   0.,   0.],\n",
       "        [  0.,   0.,   0.,   0.,   0.,   0.,   0.,   0.,   0.,   0.,   0.,   0.,   0.,   0.,   0.,\n",
       "           0.,   0.,   0.,   0.,   0.,   0.],\n",
       "        [  0.,   0.,   0.,   0.,   0.,   0.,   0.,   0.,   0.,   0.,   0.,   0.,   0.,   0.,   0.,\n",
       "           0.,   0.,   0.,   0.,   0.,   0.],\n",
       "        [  0.,   0.,   0.,   0.,   0.,   0.,   0.,   0.,   0.,   0.,   0.,   0.,   0.,   0.,   0.,\n",
       "           0.,   0.,   0.,   0.,   0.,   0.],\n",
       "        [  0.,   0.,   0.,   0.,   0.,   0.,   0.,   0.,   0.,   0.,   0.,   0.,   0.,   0.,   0.,\n",
       "           0.,   0.,   0.,   0.,   0.,   0.],\n",
       "        [  0.,   0.,   0.,   0.,   0.,   0.,   0.,   0.,   0.,   0.,   0.,   0.,   0.,   0.,   0.,\n",
       "           0.,   0.,   0.,   0.,   0.,   0.],\n",
       "        [  0.,   0.,   0.,   0.,   0.,   0.,   0.,   0.,   0.,   0.,   0.,   0.,   0.,   0.,   0.,\n",
       "           0.,   0.,   0.,   0.,   0.,   0.],\n",
       "        [  0.,   0.,   0.,   0.,   0.,   0.,   0.,   0.,   0.,   0.,   0.,   0.,   0.,   0.,   0.,\n",
       "           0.,   0.,   0.,   0.,   0.,   0.],\n",
       "        [  0.,   0.,   0.,   0.,   0.,   0.,   0.,   0.,   0.,   0.,   0.,   0.,   0.,   0.,   0.,\n",
       "           0.,   0.,   0.,   0.,   0.,   0.],\n",
       "        [  0.,   0.,   0.,   0.,   0.,   0.,   0.,   0.,   0.,   0.,   0.,   0.,   0.,   0.,   0.,\n",
       "           0.,   0.,   0.,   0.,   0.,   0.],\n",
       "        [  0.,   0.,   0.,   0.,   0.,   0.,   0.,   0.,   0.,   0.,   0.,   0.,   0.,   0.,   0.,\n",
       "           0.,   0.,   0.,   0.,   0.,   0.],\n",
       "        [  0.,   0.,   0.,   0.,   0.,   0.,   0.,   0.,   0.,   0.,   0.,   0.,   0.,   0.,   0.,\n",
       "           0.,   0.,   0.,   0.,   0.,   0.],\n",
       "        [  0.,   0.,   0.,   0.,   0.,   0.,   0.,   0.,   0.,   0.,   0.,   0.,   0.,   0.,   0.,\n",
       "           0.,   0.,   0.,   0.,   0.,  20.],\n",
       "        [  0.,   0.,   0.,   0.,   0.,   0.,   0.,   0.,   0.,   0.,   0.,   0.,   0.,   0.,   0.,\n",
       "           0.,   0.,   0.,   0.,   0., -20.]])"
      ]
     },
     "execution_count": 34,
     "metadata": {},
     "output_type": "execute_result"
    }
   ],
   "source": [
    "B.todense()"
   ]
  },
  {
   "cell_type": "code",
   "execution_count": 35,
   "metadata": {},
   "outputs": [
    {
     "data": {
      "text/plain": [
       "matrix([[ 20.,   0.,   0.,   0.,   0.,   0.,   0.,   0.,   0.,   0.,   0.,   0.,   0.,   0.,   0.,\n",
       "           0.,   0.,   0.,   0.,   0.,   0.],\n",
       "        [-20.,   0.,   0.,   0.,   0.,   0.,   0.,   0.,   0.,   0.,   0.,   0.,   0.,   0.,   0.,\n",
       "           0.,   0.,   0.,   0.,   0.,   0.],\n",
       "        [  0.,   0.,   0.,   0.,   0.,   0.,   0.,   0.,   0.,   0.,   0.,   0.,   0.,   0.,   0.,\n",
       "           0.,   0.,   0.,   0.,   0.,   0.],\n",
       "        [  0.,   0.,   0.,   0.,   0.,   0.,   0.,   0.,   0.,   0.,   0.,   0.,   0.,   0.,   0.,\n",
       "           0.,   0.,   0.,   0.,   0.,   0.],\n",
       "        [  0.,   0.,   0.,   0.,   0.,   0.,   0.,   0.,   0.,   0.,   0.,   0.,   0.,   0.,   0.,\n",
       "           0.,   0.,   0.,   0.,   0.,   0.],\n",
       "        [  0.,   0.,   0.,   0.,   0.,   0.,   0.,   0.,   0.,   0.,   0.,   0.,   0.,   0.,   0.,\n",
       "           0.,   0.,   0.,   0.,   0.,   0.],\n",
       "        [  0.,   0.,   0.,   0.,   0.,   0.,   0.,   0.,   0.,   0.,   0.,   0.,   0.,   0.,   0.,\n",
       "           0.,   0.,   0.,   0.,   0.,   0.],\n",
       "        [  0.,   0.,   0.,   0.,   0.,   0.,   0.,   0.,   0.,   0.,   0.,   0.,   0.,   0.,   0.,\n",
       "           0.,   0.,   0.,   0.,   0.,   0.],\n",
       "        [  0.,   0.,   0.,   0.,   0.,   0.,   0.,   0.,   0.,   0.,   0.,   0.,   0.,   0.,   0.,\n",
       "           0.,   0.,   0.,   0.,   0.,   0.],\n",
       "        [  0.,   0.,   0.,   0.,   0.,   0.,   0.,   0.,   0.,   0.,   0.,   0.,   0.,   0.,   0.,\n",
       "           0.,   0.,   0.,   0.,   0.,   0.],\n",
       "        [  0.,   0.,   0.,   0.,   0.,   0.,   0.,   0.,   0.,   0.,   0.,   0.,   0.,   0.,   0.,\n",
       "           0.,   0.,   0.,   0.,   0.,   0.],\n",
       "        [  0.,   0.,   0.,   0.,   0.,   0.,   0.,   0.,   0.,   0.,   0.,   0.,   0.,   0.,   0.,\n",
       "           0.,   0.,   0.,   0.,   0.,   0.],\n",
       "        [  0.,   0.,   0.,   0.,   0.,   0.,   0.,   0.,   0.,   0.,   0.,   0.,   0.,   0.,   0.,\n",
       "           0.,   0.,   0.,   0.,   0.,   0.],\n",
       "        [  0.,   0.,   0.,   0.,   0.,   0.,   0.,   0.,   0.,   0.,   0.,   0.,   0.,   0.,   0.,\n",
       "           0.,   0.,   0.,   0.,   0.,   0.],\n",
       "        [  0.,   0.,   0.,   0.,   0.,   0.,   0.,   0.,   0.,   0.,   0.,   0.,   0.,   0.,   0.,\n",
       "           0.,   0.,   0.,   0.,   0.,   0.],\n",
       "        [  0.,   0.,   0.,   0.,   0.,   0.,   0.,   0.,   0.,   0.,   0.,   0.,   0.,   0.,   0.,\n",
       "           0.,   0.,   0.,   0.,   0.,   0.],\n",
       "        [  0.,   0.,   0.,   0.,   0.,   0.,   0.,   0.,   0.,   0.,   0.,   0.,   0.,   0.,   0.,\n",
       "           0.,   0.,   0.,   0.,   0.,   0.],\n",
       "        [  0.,   0.,   0.,   0.,   0.,   0.,   0.,   0.,   0.,   0.,   0.,   0.,   0.,   0.,   0.,\n",
       "           0.,   0.,   0.,   0.,   0.,   0.],\n",
       "        [  0.,   0.,   0.,   0.,   0.,   0.,   0.,   0.,   0.,   0.,   0.,   0.,   0.,   0.,   0.,\n",
       "           0.,   0.,   0.,   0.,   0.,   0.],\n",
       "        [  0.,   0.,   0.,   0.,   0.,   0.,   0.,   0.,   0.,   0.,   0.,   0.,   0.,   0.,   0.,\n",
       "           0.,   0.,   0.,   0.,   0.,   0.],\n",
       "        [  0.,   0.,   0.,   0.,   0.,   0.,   0.,   0.,   0.,   0.,   0.,   0.,   0.,   0.,   0.,\n",
       "           0.,   0.,   0.,   0.,   0.,   0.]])"
      ]
     },
     "execution_count": 35,
     "metadata": {},
     "output_type": "execute_result"
    }
   ],
   "source": [
    "C.todense()"
   ]
  },
  {
   "cell_type": "code",
   "execution_count": 36,
   "metadata": {},
   "outputs": [
    {
     "data": {
      "text/plain": [
       "matrix([[ 20., -20.,   0.,   0.,   0.,   0.,   0.,   0.,   0.,   0.,   0.,   0.,   0.,   0.,   0.,\n",
       "           0.,   0.,   0.,   0.,   0.,   0.],\n",
       "        [-20.,  40., -20.,   0.,   0.,   0.,   0.,   0.,   0.,   0.,   0.,   0.,   0.,   0.,   0.,\n",
       "           0.,   0.,   0.,   0.,   0.,   0.],\n",
       "        [  0., -20.,  40., -20.,   0.,   0.,   0.,   0.,   0.,   0.,   0.,   0.,   0.,   0.,   0.,\n",
       "           0.,   0.,   0.,   0.,   0.,   0.],\n",
       "        [  0.,   0., -20.,  40., -20.,   0.,   0.,   0.,   0.,   0.,   0.,   0.,   0.,   0.,   0.,\n",
       "           0.,   0.,   0.,   0.,   0.,   0.],\n",
       "        [  0.,   0.,   0., -20.,  40., -20.,   0.,   0.,   0.,   0.,   0.,   0.,   0.,   0.,   0.,\n",
       "           0.,   0.,   0.,   0.,   0.,   0.],\n",
       "        [  0.,   0.,   0.,   0., -20.,  40., -20.,   0.,   0.,   0.,   0.,   0.,   0.,   0.,   0.,\n",
       "           0.,   0.,   0.,   0.,   0.,   0.],\n",
       "        [  0.,   0.,   0.,   0.,   0., -20.,  40., -20.,   0.,   0.,   0.,   0.,   0.,   0.,   0.,\n",
       "           0.,   0.,   0.,   0.,   0.,   0.],\n",
       "        [  0.,   0.,   0.,   0.,   0.,   0., -20.,  40., -20.,   0.,   0.,   0.,   0.,   0.,   0.,\n",
       "           0.,   0.,   0.,   0.,   0.,   0.],\n",
       "        [  0.,   0.,   0.,   0.,   0.,   0.,   0., -20.,  40., -20.,   0.,   0.,   0.,   0.,   0.,\n",
       "           0.,   0.,   0.,   0.,   0.,   0.],\n",
       "        [  0.,   0.,   0.,   0.,   0.,   0.,   0.,   0., -20.,  40., -20.,   0.,   0.,   0.,   0.,\n",
       "           0.,   0.,   0.,   0.,   0.,   0.],\n",
       "        [  0.,   0.,   0.,   0.,   0.,   0.,   0.,   0.,   0., -20.,  40., -20.,   0.,   0.,   0.,\n",
       "           0.,   0.,   0.,   0.,   0.,   0.],\n",
       "        [  0.,   0.,   0.,   0.,   0.,   0.,   0.,   0.,   0.,   0., -20.,  40., -20.,   0.,   0.,\n",
       "           0.,   0.,   0.,   0.,   0.,   0.],\n",
       "        [  0.,   0.,   0.,   0.,   0.,   0.,   0.,   0.,   0.,   0.,   0., -20.,  40., -20.,   0.,\n",
       "           0.,   0.,   0.,   0.,   0.,   0.],\n",
       "        [  0.,   0.,   0.,   0.,   0.,   0.,   0.,   0.,   0.,   0.,   0.,   0., -20.,  40., -20.,\n",
       "           0.,   0.,   0.,   0.,   0.,   0.],\n",
       "        [  0.,   0.,   0.,   0.,   0.,   0.,   0.,   0.,   0.,   0.,   0.,   0.,   0., -20.,  40.,\n",
       "         -20.,   0.,   0.,   0.,   0.,   0.],\n",
       "        [  0.,   0.,   0.,   0.,   0.,   0.,   0.,   0.,   0.,   0.,   0.,   0.,   0.,   0., -20.,\n",
       "          40., -20.,   0.,   0.,   0.,   0.],\n",
       "        [  0.,   0.,   0.,   0.,   0.,   0.,   0.,   0.,   0.,   0.,   0.,   0.,   0.,   0.,   0.,\n",
       "         -20.,  40., -20.,   0.,   0.,   0.],\n",
       "        [  0.,   0.,   0.,   0.,   0.,   0.,   0.,   0.,   0.,   0.,   0.,   0.,   0.,   0.,   0.,\n",
       "           0., -20.,  40., -20.,   0.,   0.],\n",
       "        [  0.,   0.,   0.,   0.,   0.,   0.,   0.,   0.,   0.,   0.,   0.,   0.,   0.,   0.,   0.,\n",
       "           0.,   0., -20.,  40., -20.,   0.],\n",
       "        [  0.,   0.,   0.,   0.,   0.,   0.,   0.,   0.,   0.,   0.,   0.,   0.,   0.,   0.,   0.,\n",
       "           0.,   0.,   0., -20.,  40., -20.],\n",
       "        [  0.,   0.,   0.,   0.,   0.,   0.,   0.,   0.,   0.,   0.,   0.,   0.,   0.,   0.,   0.,\n",
       "           0.,   0.,   0.,   0., -20.,  20.]])"
      ]
     },
     "execution_count": 36,
     "metadata": {},
     "output_type": "execute_result"
    }
   ],
   "source": [
    "D.todense()"
   ]
  },
  {
   "cell_type": "code",
   "execution_count": 37,
   "metadata": {},
   "outputs": [
    {
     "data": {
      "text/plain": [
       "array([[1.        ],\n",
       "       [1.07537643],\n",
       "       [1.14412281],\n",
       "       [1.20581528],\n",
       "       [1.26007351],\n",
       "       [1.30656296],\n",
       "       [1.34499702],\n",
       "       [1.37513873],\n",
       "       [1.39680225],\n",
       "       [1.40985401],\n",
       "       [1.41421356],\n",
       "       [1.40985401],\n",
       "       [1.39680225],\n",
       "       [1.37513873],\n",
       "       [1.34499702],\n",
       "       [1.30656296],\n",
       "       [1.26007351],\n",
       "       [1.20581528],\n",
       "       [1.14412281],\n",
       "       [1.07537643],\n",
       "       [1.        ]])"
      ]
     },
     "execution_count": 37,
     "metadata": {},
     "output_type": "execute_result"
    }
   ],
   "source": [
    "alpha"
   ]
  },
  {
   "cell_type": "markdown",
   "metadata": {},
   "source": [
    "# Eqn form: a1 1 + a2 x2 + a3 x3 ....   a(n-1) x(n-1) + an 1 = 0\n",
    "#                 a2 x2 + a3 x3 ....   a(n-1) x(n-1) =  -( an 1  +a1 1 )"
   ]
  },
  {
   "cell_type": "markdown",
   "metadata": {},
   "source": [
    "\\begin{equation}\n",
    "\\\\  A \\alpha^{'}  +\\beta ( B \\alpha  - C \\alpha)  - \\beta D  \\alpha  = 0 \\thinspace\\thinspace\\thinspace  \n",
    "\\\\ \\text {Cropping  \\( 0^{th} \\)  and \\( N^{th} \\) rows since we know that at boundary values are 1}\n",
    "\\\\ \\text {Now cropping \\( 0^{th} \\)  and \\( N^{th} \\) columns  and shifting to other side as done in header to get matrix in that form}\n",
    "\\\\ \\text {Equation system now becomes like \\(2^{nd} \\) equation in header and matrices get reduced to (n - 1) \\(\\times \\) (n-1) dimensions}\n",
    "\\\\ \\text {New equation system :} \n",
    "\\ \\hspace{250mm}\n",
    "\\\\ \\text {\\(\\tilde{A} \\) \\(\\tilde{\\alpha^{'}} \\) + \\( \\beta \\) ( \\(\\tilde{B} \\)  - \\(\\tilde{C} \\)  -  \\(\\tilde{D} \\)) \\(\\tilde{\\alpha} \\) +\\(\\ sliced \\)= 0}  \n",
    "\\end{equation}"
   ]
  },
  {
   "cell_type": "code",
   "execution_count": 42,
   "metadata": {},
   "outputs": [],
   "source": [
    "l = list(range(0, 20, 2))"
   ]
  },
  {
   "cell_type": "code",
   "execution_count": 48,
   "metadata": {},
   "outputs": [
    {
     "data": {
      "image/png": "[encoded data removed]",
      "text/latex": [
       "$\\displaystyle \\left[ 2, \\  4, \\  6, \\  8, \\  10, \\  12, \\  14, \\  16, \\  18\\right]$"
      ],
      "text/plain": [
       "[2, 4, 6, 8, 10, 12, 14, 16, 18]"
      ]
     },
     "execution_count": 48,
     "metadata": {},
     "output_type": "execute_result"
    }
   ],
   "source": [
    "l[1:]"
   ]
  },
  {
   "cell_type": "code",
   "execution_count": 49,
   "metadata": {},
   "outputs": [
    {
     "data": {
      "text/plain": [
       "<21x21 sparse matrix of type '<class 'numpy.float64'>'\n",
       "\twith 61 stored elements in Compressed Sparse Column format>"
      ]
     },
     "execution_count": 49,
     "metadata": {},
     "output_type": "execute_result"
    }
   ],
   "source": [
    "A"
   ]
  },
  {
   "cell_type": "code",
   "execution_count": 50,
   "metadata": {},
   "outputs": [],
   "source": [
    "A_ = A[1:-1, 1: -1]\n",
    "B_ = B[1:-1, 1: -1]\n",
    "C_ = C[1:-1, 1: -1]\n",
    "D_ = D[1:-1, 1: -1]\n",
    "alpha_ = alpha[1:-1]\n",
    "sliced = beta *(  (B[1:-1, 0]+ B[1:-1, -1]) - (C[1:-1, 0]+ C[1:-1, -1]) - (D[1:-1, 0]+ D[1:-1, -1]))"
   ]
  },
  {
   "cell_type": "code",
   "execution_count": 51,
   "metadata": {
    "scrolled": true
   },
   "outputs": [
    {
     "data": {
      "text/plain": [
       "matrix([[0.03333333, 0.00833333, 0.        , 0.        , 0.        , 0.        , 0.        ,\n",
       "         0.        , 0.        , 0.        , 0.        , 0.        , 0.        , 0.        ,\n",
       "         0.        , 0.        , 0.        , 0.        , 0.        ],\n",
       "        [0.00833333, 0.03333333, 0.00833333, 0.        , 0.        , 0.        , 0.        ,\n",
       "         0.        , 0.        , 0.        , 0.        , 0.        , 0.        , 0.        ,\n",
       "         0.        , 0.        , 0.        , 0.        , 0.        ],\n",
       "        [0.        , 0.00833333, 0.03333333, 0.00833333, 0.        , 0.        , 0.        ,\n",
       "         0.        , 0.        , 0.        , 0.        , 0.        , 0.        , 0.        ,\n",
       "         0.        , 0.        , 0.        , 0.        , 0.        ],\n",
       "        [0.        , 0.        , 0.00833333, 0.03333333, 0.00833333, 0.        , 0.        ,\n",
       "         0.        , 0.        , 0.        , 0.        , 0.        , 0.        , 0.        ,\n",
       "         0.        , 0.        , 0.        , 0.        , 0.        ],\n",
       "        [0.        , 0.        , 0.        , 0.00833333, 0.03333333, 0.00833333, 0.        ,\n",
       "         0.        , 0.        , 0.        , 0.        , 0.        , 0.        , 0.        ,\n",
       "         0.        , 0.        , 0.        , 0.        , 0.        ],\n",
       "        [0.        , 0.        , 0.        , 0.        , 0.00833333, 0.03333333, 0.00833333,\n",
       "         0.        , 0.        , 0.        , 0.        , 0.        , 0.        , 0.        ,\n",
       "         0.        , 0.        , 0.        , 0.        , 0.        ],\n",
       "        [0.        , 0.        , 0.        , 0.        , 0.        , 0.00833333, 0.03333333,\n",
       "         0.00833333, 0.        , 0.        , 0.        , 0.        , 0.        , 0.        ,\n",
       "         0.        , 0.        , 0.        , 0.        , 0.        ],\n",
       "        [0.        , 0.        , 0.        , 0.        , 0.        , 0.        , 0.00833333,\n",
       "         0.03333333, 0.00833333, 0.        , 0.        , 0.        , 0.        , 0.        ,\n",
       "         0.        , 0.        , 0.        , 0.        , 0.        ],\n",
       "        [0.        , 0.        , 0.        , 0.        , 0.        , 0.        , 0.        ,\n",
       "         0.00833333, 0.03333333, 0.00833333, 0.        , 0.        , 0.        , 0.        ,\n",
       "         0.        , 0.        , 0.        , 0.        , 0.        ],\n",
       "        [0.        , 0.        , 0.        , 0.        , 0.        , 0.        , 0.        ,\n",
       "         0.        , 0.00833333, 0.03333333, 0.00833333, 0.        , 0.        , 0.        ,\n",
       "         0.        , 0.        , 0.        , 0.        , 0.        ],\n",
       "        [0.        , 0.        , 0.        , 0.        , 0.        , 0.        , 0.        ,\n",
       "         0.        , 0.        , 0.00833333, 0.03333333, 0.00833333, 0.        , 0.        ,\n",
       "         0.        , 0.        , 0.        , 0.        , 0.        ],\n",
       "        [0.        , 0.        , 0.        , 0.        , 0.        , 0.        , 0.        ,\n",
       "         0.        , 0.        , 0.        , 0.00833333, 0.03333333, 0.00833333, 0.        ,\n",
       "         0.        , 0.        , 0.        , 0.        , 0.        ],\n",
       "        [0.        , 0.        , 0.        , 0.        , 0.        , 0.        , 0.        ,\n",
       "         0.        , 0.        , 0.        , 0.        , 0.00833333, 0.03333333, 0.00833333,\n",
       "         0.        , 0.        , 0.        , 0.        , 0.        ],\n",
       "        [0.        , 0.        , 0.        , 0.        , 0.        , 0.        , 0.        ,\n",
       "         0.        , 0.        , 0.        , 0.        , 0.        , 0.00833333, 0.03333333,\n",
       "         0.00833333, 0.        , 0.        , 0.        , 0.        ],\n",
       "        [0.        , 0.        , 0.        , 0.        , 0.        , 0.        , 0.        ,\n",
       "         0.        , 0.        , 0.        , 0.        , 0.        , 0.        , 0.00833333,\n",
       "         0.03333333, 0.00833333, 0.        , 0.        , 0.        ],\n",
       "        [0.        , 0.        , 0.        , 0.        , 0.        , 0.        , 0.        ,\n",
       "         0.        , 0.        , 0.        , 0.        , 0.        , 0.        , 0.        ,\n",
       "         0.00833333, 0.03333333, 0.00833333, 0.        , 0.        ],\n",
       "        [0.        , 0.        , 0.        , 0.        , 0.        , 0.        , 0.        ,\n",
       "         0.        , 0.        , 0.        , 0.        , 0.        , 0.        , 0.        ,\n",
       "         0.        , 0.00833333, 0.03333333, 0.00833333, 0.        ],\n",
       "        [0.        , 0.        , 0.        , 0.        , 0.        , 0.        , 0.        ,\n",
       "         0.        , 0.        , 0.        , 0.        , 0.        , 0.        , 0.        ,\n",
       "         0.        , 0.        , 0.00833333, 0.03333333, 0.00833333],\n",
       "        [0.        , 0.        , 0.        , 0.        , 0.        , 0.        , 0.        ,\n",
       "         0.        , 0.        , 0.        , 0.        , 0.        , 0.        , 0.        ,\n",
       "         0.        , 0.        , 0.        , 0.00833333, 0.03333333]])"
      ]
     },
     "execution_count": 51,
     "metadata": {},
     "output_type": "execute_result"
    }
   ],
   "source": [
    "A_.todense()\n"
   ]
  },
  {
   "cell_type": "code",
   "execution_count": 52,
   "metadata": {},
   "outputs": [
    {
     "data": {
      "text/plain": [
       "matrix([[0., 0., 0., 0., 0., 0., 0., 0., 0., 0., 0., 0., 0., 0., 0., 0., 0., 0., 0.],\n",
       "        [0., 0., 0., 0., 0., 0., 0., 0., 0., 0., 0., 0., 0., 0., 0., 0., 0., 0., 0.],\n",
       "        [0., 0., 0., 0., 0., 0., 0., 0., 0., 0., 0., 0., 0., 0., 0., 0., 0., 0., 0.],\n",
       "        [0., 0., 0., 0., 0., 0., 0., 0., 0., 0., 0., 0., 0., 0., 0., 0., 0., 0., 0.],\n",
       "        [0., 0., 0., 0., 0., 0., 0., 0., 0., 0., 0., 0., 0., 0., 0., 0., 0., 0., 0.],\n",
       "        [0., 0., 0., 0., 0., 0., 0., 0., 0., 0., 0., 0., 0., 0., 0., 0., 0., 0., 0.],\n",
       "        [0., 0., 0., 0., 0., 0., 0., 0., 0., 0., 0., 0., 0., 0., 0., 0., 0., 0., 0.],\n",
       "        [0., 0., 0., 0., 0., 0., 0., 0., 0., 0., 0., 0., 0., 0., 0., 0., 0., 0., 0.],\n",
       "        [0., 0., 0., 0., 0., 0., 0., 0., 0., 0., 0., 0., 0., 0., 0., 0., 0., 0., 0.],\n",
       "        [0., 0., 0., 0., 0., 0., 0., 0., 0., 0., 0., 0., 0., 0., 0., 0., 0., 0., 0.],\n",
       "        [0., 0., 0., 0., 0., 0., 0., 0., 0., 0., 0., 0., 0., 0., 0., 0., 0., 0., 0.],\n",
       "        [0., 0., 0., 0., 0., 0., 0., 0., 0., 0., 0., 0., 0., 0., 0., 0., 0., 0., 0.],\n",
       "        [0., 0., 0., 0., 0., 0., 0., 0., 0., 0., 0., 0., 0., 0., 0., 0., 0., 0., 0.],\n",
       "        [0., 0., 0., 0., 0., 0., 0., 0., 0., 0., 0., 0., 0., 0., 0., 0., 0., 0., 0.],\n",
       "        [0., 0., 0., 0., 0., 0., 0., 0., 0., 0., 0., 0., 0., 0., 0., 0., 0., 0., 0.],\n",
       "        [0., 0., 0., 0., 0., 0., 0., 0., 0., 0., 0., 0., 0., 0., 0., 0., 0., 0., 0.],\n",
       "        [0., 0., 0., 0., 0., 0., 0., 0., 0., 0., 0., 0., 0., 0., 0., 0., 0., 0., 0.],\n",
       "        [0., 0., 0., 0., 0., 0., 0., 0., 0., 0., 0., 0., 0., 0., 0., 0., 0., 0., 0.],\n",
       "        [0., 0., 0., 0., 0., 0., 0., 0., 0., 0., 0., 0., 0., 0., 0., 0., 0., 0., 0.]])"
      ]
     },
     "execution_count": 52,
     "metadata": {},
     "output_type": "execute_result"
    }
   ],
   "source": [
    "B_.todense()"
   ]
  },
  {
   "cell_type": "code",
   "execution_count": 178,
   "metadata": {},
   "outputs": [
    {
     "data": {
      "text/plain": [
       "matrix([[0., 0., 0., 0., 0., 0., 0., 0., 0., 0., 0., 0., 0., 0., 0., 0., 0., 0., 0.],\n",
       "        [0., 0., 0., 0., 0., 0., 0., 0., 0., 0., 0., 0., 0., 0., 0., 0., 0., 0., 0.],\n",
       "        [0., 0., 0., 0., 0., 0., 0., 0., 0., 0., 0., 0., 0., 0., 0., 0., 0., 0., 0.],\n",
       "        [0., 0., 0., 0., 0., 0., 0., 0., 0., 0., 0., 0., 0., 0., 0., 0., 0., 0., 0.],\n",
       "        [0., 0., 0., 0., 0., 0., 0., 0., 0., 0., 0., 0., 0., 0., 0., 0., 0., 0., 0.],\n",
       "        [0., 0., 0., 0., 0., 0., 0., 0., 0., 0., 0., 0., 0., 0., 0., 0., 0., 0., 0.],\n",
       "        [0., 0., 0., 0., 0., 0., 0., 0., 0., 0., 0., 0., 0., 0., 0., 0., 0., 0., 0.],\n",
       "        [0., 0., 0., 0., 0., 0., 0., 0., 0., 0., 0., 0., 0., 0., 0., 0., 0., 0., 0.],\n",
       "        [0., 0., 0., 0., 0., 0., 0., 0., 0., 0., 0., 0., 0., 0., 0., 0., 0., 0., 0.],\n",
       "        [0., 0., 0., 0., 0., 0., 0., 0., 0., 0., 0., 0., 0., 0., 0., 0., 0., 0., 0.],\n",
       "        [0., 0., 0., 0., 0., 0., 0., 0., 0., 0., 0., 0., 0., 0., 0., 0., 0., 0., 0.],\n",
       "        [0., 0., 0., 0., 0., 0., 0., 0., 0., 0., 0., 0., 0., 0., 0., 0., 0., 0., 0.],\n",
       "        [0., 0., 0., 0., 0., 0., 0., 0., 0., 0., 0., 0., 0., 0., 0., 0., 0., 0., 0.],\n",
       "        [0., 0., 0., 0., 0., 0., 0., 0., 0., 0., 0., 0., 0., 0., 0., 0., 0., 0., 0.],\n",
       "        [0., 0., 0., 0., 0., 0., 0., 0., 0., 0., 0., 0., 0., 0., 0., 0., 0., 0., 0.],\n",
       "        [0., 0., 0., 0., 0., 0., 0., 0., 0., 0., 0., 0., 0., 0., 0., 0., 0., 0., 0.],\n",
       "        [0., 0., 0., 0., 0., 0., 0., 0., 0., 0., 0., 0., 0., 0., 0., 0., 0., 0., 0.],\n",
       "        [0., 0., 0., 0., 0., 0., 0., 0., 0., 0., 0., 0., 0., 0., 0., 0., 0., 0., 0.],\n",
       "        [0., 0., 0., 0., 0., 0., 0., 0., 0., 0., 0., 0., 0., 0., 0., 0., 0., 0., 0.]])"
      ]
     },
     "execution_count": 178,
     "metadata": {},
     "output_type": "execute_result"
    }
   ],
   "source": [
    "C_.todense()"
   ]
  },
  {
   "cell_type": "code",
   "execution_count": 179,
   "metadata": {},
   "outputs": [
    {
     "data": {
      "text/plain": [
       "matrix([[ 40., -20.,   0.,   0.,   0.,   0.,   0.,   0.,   0.,   0.,   0.,   0.,   0.,   0.,   0.,\n",
       "           0.,   0.,   0.,   0.],\n",
       "        [-20.,  40., -20.,   0.,   0.,   0.,   0.,   0.,   0.,   0.,   0.,   0.,   0.,   0.,   0.,\n",
       "           0.,   0.,   0.,   0.],\n",
       "        [  0., -20.,  40., -20.,   0.,   0.,   0.,   0.,   0.,   0.,   0.,   0.,   0.,   0.,   0.,\n",
       "           0.,   0.,   0.,   0.],\n",
       "        [  0.,   0., -20.,  40., -20.,   0.,   0.,   0.,   0.,   0.,   0.,   0.,   0.,   0.,   0.,\n",
       "           0.,   0.,   0.,   0.],\n",
       "        [  0.,   0.,   0., -20.,  40., -20.,   0.,   0.,   0.,   0.,   0.,   0.,   0.,   0.,   0.,\n",
       "           0.,   0.,   0.,   0.],\n",
       "        [  0.,   0.,   0.,   0., -20.,  40., -20.,   0.,   0.,   0.,   0.,   0.,   0.,   0.,   0.,\n",
       "           0.,   0.,   0.,   0.],\n",
       "        [  0.,   0.,   0.,   0.,   0., -20.,  40., -20.,   0.,   0.,   0.,   0.,   0.,   0.,   0.,\n",
       "           0.,   0.,   0.,   0.],\n",
       "        [  0.,   0.,   0.,   0.,   0.,   0., -20.,  40., -20.,   0.,   0.,   0.,   0.,   0.,   0.,\n",
       "           0.,   0.,   0.,   0.],\n",
       "        [  0.,   0.,   0.,   0.,   0.,   0.,   0., -20.,  40., -20.,   0.,   0.,   0.,   0.,   0.,\n",
       "           0.,   0.,   0.,   0.],\n",
       "        [  0.,   0.,   0.,   0.,   0.,   0.,   0.,   0., -20.,  40., -20.,   0.,   0.,   0.,   0.,\n",
       "           0.,   0.,   0.,   0.],\n",
       "        [  0.,   0.,   0.,   0.,   0.,   0.,   0.,   0.,   0., -20.,  40., -20.,   0.,   0.,   0.,\n",
       "           0.,   0.,   0.,   0.],\n",
       "        [  0.,   0.,   0.,   0.,   0.,   0.,   0.,   0.,   0.,   0., -20.,  40., -20.,   0.,   0.,\n",
       "           0.,   0.,   0.,   0.],\n",
       "        [  0.,   0.,   0.,   0.,   0.,   0.,   0.,   0.,   0.,   0.,   0., -20.,  40., -20.,   0.,\n",
       "           0.,   0.,   0.,   0.],\n",
       "        [  0.,   0.,   0.,   0.,   0.,   0.,   0.,   0.,   0.,   0.,   0.,   0., -20.,  40., -20.,\n",
       "           0.,   0.,   0.,   0.],\n",
       "        [  0.,   0.,   0.,   0.,   0.,   0.,   0.,   0.,   0.,   0.,   0.,   0.,   0., -20.,  40.,\n",
       "         -20.,   0.,   0.,   0.],\n",
       "        [  0.,   0.,   0.,   0.,   0.,   0.,   0.,   0.,   0.,   0.,   0.,   0.,   0.,   0., -20.,\n",
       "          40., -20.,   0.,   0.],\n",
       "        [  0.,   0.,   0.,   0.,   0.,   0.,   0.,   0.,   0.,   0.,   0.,   0.,   0.,   0.,   0.,\n",
       "         -20.,  40., -20.,   0.],\n",
       "        [  0.,   0.,   0.,   0.,   0.,   0.,   0.,   0.,   0.,   0.,   0.,   0.,   0.,   0.,   0.,\n",
       "           0., -20.,  40., -20.],\n",
       "        [  0.,   0.,   0.,   0.,   0.,   0.,   0.,   0.,   0.,   0.,   0.,   0.,   0.,   0.,   0.,\n",
       "           0.,   0., -20.,  40.]])"
      ]
     },
     "execution_count": 179,
     "metadata": {},
     "output_type": "execute_result"
    }
   ],
   "source": [
    "D_.todense()"
   ]
  },
  {
   "cell_type": "code",
   "execution_count": 180,
   "metadata": {},
   "outputs": [
    {
     "data": {
      "text/plain": [
       "matrix([[-20.],\n",
       "        [  0.],\n",
       "        [  0.],\n",
       "        [  0.],\n",
       "        [  0.],\n",
       "        [  0.],\n",
       "        [  0.],\n",
       "        [  0.],\n",
       "        [  0.],\n",
       "        [  0.],\n",
       "        [  0.],\n",
       "        [  0.],\n",
       "        [  0.],\n",
       "        [  0.],\n",
       "        [  0.],\n",
       "        [  0.],\n",
       "        [  0.],\n",
       "        [  0.],\n",
       "        [-20.]])"
      ]
     },
     "execution_count": 180,
     "metadata": {},
     "output_type": "execute_result"
    }
   ],
   "source": [
    "sliced.todense()"
   ]
  },
  {
   "cell_type": "markdown",
   "metadata": {},
   "source": [
    "\\begin{equation}\n",
    "\\\\ \\text {\\(\\tilde{A} \\) \\(\\tilde{\\alpha^{'}} \\) + \\( \\beta \\) ( \\(\\tilde{B} \\)  - \\(\\tilde{C} \\)  -  \\(\\tilde{D} \\)) \\(\\tilde{\\alpha} \\) +\\(\\ sliced \\)= 0}  \n",
    "\\\\  \\implies \\tilde{A} \\tilde{\\alpha^{'}} +\\beta( \\tilde{B}  - \\tilde{C }- \\tilde{D} )) \\tilde{\\alpha} + sliced = 0\n",
    "\\\\  \\hspace{8mm} \\implies  \\tilde{\\alpha^{'}} =  - \\tilde{A^{-1}}  [ \\beta ( ( \\tilde{ B} \\ - \\tilde{ C} -\\tilde{ D} )) \\tilde{\\alpha}+ \\ sliced) ] \n",
    "\\end{equation}"
   ]
  },
  {
   "cell_type": "code",
   "execution_count": 53,
   "metadata": {},
   "outputs": [],
   "source": [
    "\n",
    "#  _ denotes ~(tilda) \n",
    "# alpha_ is denoted by y\n",
    "\n",
    "def f(y):\n",
    "    return -la.inv(A_).dot( beta * (( B_ - C_ - D_).dot(y)) + sliced)"
   ]
  },
  {
   "cell_type": "code",
   "execution_count": 54,
   "metadata": {},
   "outputs": [
    {
     "name": "stdout",
     "output_type": "stream",
     "text": [
      "Iteration  1   t  :  0.0025000000000000005\n",
      "Iteration  2   t  :  0.005000000000000001\n",
      "Iteration  3   t  :  0.0075000000000000015\n"
     ]
    }
   ],
   "source": [
    "step_size = h**2 #time step\n",
    "\n",
    "runs = 3 #no of iterations\n",
    "\n",
    "t_=0\n",
    "\n",
    "y = alpha_\n",
    "\n",
    "for i in range(runs):\n",
    "    k1 = f( y)\n",
    "    k2 = f( y+.5*k1*h)\n",
    "    k3 = f(y+.5*k2*h)\n",
    "    k4 = f( y+k3*h)\n",
    "    y_new = y + (1/6)*(k1 + 2*k2 + 2*k3 + k4)*step_size\n",
    "    y_new = y\n",
    "    t_ = t_ + h**2\n",
    "    print(\"Iteration \",  i+1,\"  t  : \", t_)\n",
    "    time.sleep(.1)\n",
    "    "
   ]
  },
  {
   "cell_type": "markdown",
   "metadata": {},
   "source": [
    "\\begin{equation}\n",
    "\\ u^{h}\n",
    "\\end{equation}"
   ]
  },
  {
   "cell_type": "code",
   "execution_count": 55,
   "metadata": {},
   "outputs": [
    {
     "data": {
      "text/plain": [
       "array([1.07537643, 1.14412281, 1.20581528, 1.26007351, 1.30656296, 1.34499702, 1.37513873,\n",
       "       1.39680225, 1.40985401, 1.41421356, 1.40985401, 1.39680225, 1.37513873, 1.34499702,\n",
       "       1.30656296, 1.26007351, 1.20581528, 1.14412281, 1.07537643])"
      ]
     },
     "execution_count": 55,
     "metadata": {},
     "output_type": "execute_result"
    }
   ],
   "source": [
    "u_h = y\n",
    "u_h.ravel()"
   ]
  },
  {
   "cell_type": "markdown",
   "metadata": {},
   "source": [
    "\\begin{equation}\n",
    "\\ u\n",
    "\\end{equation}"
   ]
  },
  {
   "cell_type": "code",
   "execution_count": 56,
   "metadata": {},
   "outputs": [],
   "source": [
    "u = alpha_*np.exp(-t_)"
   ]
  },
  {
   "cell_type": "code",
   "execution_count": 57,
   "metadata": {},
   "outputs": [
    {
     "data": {
      "text/plain": [
       "array([1.06734128, 1.13557398, 1.1968055 , 1.25065831, 1.2968004 , 1.33494728, 1.36486377,\n",
       "       1.38636542, 1.39931966, 1.40364664, 1.39931966, 1.38636542, 1.36486377, 1.33494728,\n",
       "       1.2968004 , 1.25065831, 1.1968055 , 1.13557398, 1.06734128])"
      ]
     },
     "execution_count": 57,
     "metadata": {},
     "output_type": "execute_result"
    }
   ],
   "source": [
    "u.ravel()"
   ]
  },
  {
   "cell_type": "markdown",
   "metadata": {},
   "source": [
    "# Max Error"
   ]
  },
  {
   "cell_type": "code",
   "execution_count": 58,
   "metadata": {},
   "outputs": [
    {
     "data": {
      "text/plain": [
       "array([0.01056693])"
      ]
     },
     "execution_count": 58,
     "metadata": {},
     "output_type": "execute_result"
    }
   ],
   "source": [
    "max(abs(u - u_h))"
   ]
  },
  {
   "cell_type": "code",
   "execution_count": 59,
   "metadata": {},
   "outputs": [
    {
     "data": {
      "text/plain": [
       "<matplotlib.legend.Legend at 0x26ddcb2b9b0>"
      ]
     },
     "execution_count": 59,
     "metadata": {},
     "output_type": "execute_result"
    },
    {
     "data": {
      "image/png": "[encoded data removed]",
      "text/plain": [
       "<Figure size 432x288 with 1 Axes>"
      ]
     },
     "metadata": {
      "needs_background": "light"
     },
     "output_type": "display_data"
    }
   ],
   "source": [
    "plt.plot(np.linspace(0, 1, N+1-2), u_h,\"b-\", np.linspace(0, 1, N+1-2), u, \"r-\")\n",
    "plt.legend([\"u_h\", \"u\"])"
   ]
  },
  {
   "cell_type": "code",
   "execution_count": null,
   "metadata": {},
   "outputs": [],
   "source": []
  },
  {
   "cell_type": "code",
   "execution_count": null,
   "metadata": {},
   "outputs": [],
   "source": []
  },
  {
   "cell_type": "code",
   "execution_count": null,
   "metadata": {},
   "outputs": [],
   "source": []
  },
  {
   "cell_type": "code",
   "execution_count": null,
   "metadata": {},
   "outputs": [],
   "source": []
  },
  {
   "cell_type": "code",
   "execution_count": null,
   "metadata": {},
   "outputs": [],
   "source": []
  }
 ],
 "metadata": {
  "kernelspec": {
   "display_name": "Python 3",
   "language": "python",
   "name": "python3"
  },
  "language_info": {
   "codemirror_mode": {
    "name": "ipython",
    "version": 3
   },
   "file_extension": ".py",
   "mimetype": "text/x-python",
   "name": "python",
   "nbconvert_exporter": "python",
   "pygments_lexer": "ipython3",
   "version": "3.6.8"
  }
 },
 "nbformat": 4,
 "nbformat_minor": 2
}

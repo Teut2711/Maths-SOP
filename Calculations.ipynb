{
 "cells": [
  {
   "cell_type": "code",
   "execution_count": 1,
   "metadata": {},
   "outputs": [],
   "source": [
    "import numpy as np\n",
    "np.set_printoptions(linewidth=100)\n",
    "import sympy as sm\n",
    "import sympy.abc as sbl\n",
    "from scipy.sparse import diags\n",
    "import scipy.sparse.linalg as la\n",
    "from sympy.utilities.lambdify import lambdastr\n",
    "from collections import OrderedDict\n",
    "import scipy.sparse as sp\n",
    "sm.init_printing()\n",
    "import time\n",
    "from sympy import *\n",
    "import matplotlib.pyplot as plt\n",
    "import matplotlib"
   ]
  },
  {
   "cell_type": "code",
   "execution_count": 20,
   "metadata": {},
   "outputs": [],
   "source": [
    "a = Function('a', integer=True)\n",
    "i = Symbol('i')\n",
    "N = Symbol('N', positive=True, integer=True)\n",
    "\n",
    "sigma_ = (Sum(a(i)*2**i, (i, 0,20)) + 1)"
   ]
  },
  {
   "cell_type": "code",
   "execution_count": 28,
   "metadata": {},
   "outputs": [
    {
     "data": {
      "text/latex": [
       "$\\displaystyle a{\\left(0 \\right)}\\bmod{2}$"
      ],
      "text/plain": [
       "a(0) mod 2"
      ]
     },
     "execution_count": 28,
     "metadata": {},
     "output_type": "execute_result"
    }
   ],
   "source": [
    "(sigma_ * 3 + 1).doit() % 2  == "
   ]
  },
  {
   "cell_type": "code",
   "execution_count": null,
   "metadata": {},
   "outputs": [],
   "source": []
  },
  {
   "cell_type": "markdown",
   "metadata": {},
   "source": [
    "\\begin{equation}\n",
    "\\\\ \\phi_0(x) = \n",
    "\\begin{cases} \n",
    "\\\\ \\frac{h - x}{h} & \\:  h i  \\leq x \\leq h \\left(i + 1\\right) \\\\0 & \\text{otherwise}\n",
    "\\end{cases}   \\hspace{10mm} \n",
    "\\end{equation}\n",
    "\n",
    "\\begin{equation}\n",
    "\\\\ \\phi_i(x) = \n",
    "\\begin{cases} \n",
    "\\frac{- h \\left(i - 1\\right) + x}{h} & \\:  h \\left(i - 1\\right)  \\leq x  \\leq h i \\\\\\frac{h \\left(i + 1\\right) - x}{h} &\\:  h i  \\leq x \\leq h \\left(i + 1\\right) \\\\0 & \\text{otherwise}\n",
    "\\end{cases}   \\hspace{10mm} \\text{for all i in 2 ... N- 1}\n",
    "\\end{equation}\n",
    "\n",
    "\\begin{equation}\n",
    "\\\\ \\phi_N(x) = \n",
    "\\begin{cases} \n",
    "\\frac{- h \\left(N - 1\\right) + x}{h} & \\:  h \\left(N - 1\\right)  \\leq x  \\leq h N \\\\0 & \\text{otherwise}\n",
    "\\end{cases}   \\hspace{10mm} \n",
    "\\end{equation}"
   ]
  },
  {
   "cell_type": "code",
   "execution_count": 3,
   "metadata": {},
   "outputs": [],
   "source": [
    "h, x = sm.Symbol(\"h\", positive=True), sm.Symbol(\"x\", nonnegative=True)\n",
    "N = 5"
   ]
  },
  {
   "cell_type": "code",
   "execution_count": 9,
   "metadata": {},
   "outputs": [],
   "source": [
    "def phi(i, N = 6):\n",
    "    \n",
    "    if i == 0 :\n",
    "        return sm.Piecewise( ( ( -x + (i+1)*h) / h, (x >=i*h) & (x <= (i+1)*h)) , \\\n",
    "                           (0, True) \n",
    "\n",
    "                      )\n",
    "    elif i == N:\n",
    "        return sm.Piecewise(  ((x - (i-1)*h) / h, (x >=(i-1)*h) & (x <= i*h))   , \\\n",
    "                   (0, True) \n",
    "                                       )             \n",
    "    else:\n",
    "        return sm.Piecewise(\n",
    "                           ((x - (i-1)*h) / h, (x >=h*(i-1)) & (x <= i*h))    , \\\n",
    "                           ( ( -x + (i+1)*h) / h, (x >=i*h) & (x <= (i+1)*h)) , \\\n",
    "                           (0, True)  \n",
    "                       )\n",
    "\n"
   ]
  },
  {
   "cell_type": "code",
   "execution_count": 10,
   "metadata": {},
   "outputs": [
    {
     "data": {
      "text/latex": [
       "$\\displaystyle \\left[\\begin{matrix}\\frac{h}{3} & \\frac{h}{6} & 0 & 0 & 0\\\\\\frac{h}{6} & \\frac{2 h}{3} & \\frac{h}{6} & 0 & 0\\\\0 & \\frac{h}{6} & \\frac{2 h}{3} & \\frac{h}{6} & 0\\\\0 & 0 & \\frac{h}{6} & \\frac{2 h}{3} & \\frac{h}{6}\\\\0 & 0 & 0 & \\frac{h}{6} & \\frac{h}{3}\\end{matrix}\\right]$"
      ],
      "text/plain": [
       "⎡h   h              ⎤\n",
       "⎢─   ─    0    0   0⎥\n",
       "⎢3   6              ⎥\n",
       "⎢                   ⎥\n",
       "⎢h  2⋅h   h         ⎥\n",
       "⎢─  ───   ─    0   0⎥\n",
       "⎢6   3    6         ⎥\n",
       "⎢                   ⎥\n",
       "⎢    h   2⋅h   h    ⎥\n",
       "⎢0   ─   ───   ─   0⎥\n",
       "⎢    6    3    6    ⎥\n",
       "⎢                   ⎥\n",
       "⎢         h   2⋅h  h⎥\n",
       "⎢0   0    ─   ───  ─⎥\n",
       "⎢         6    3   6⎥\n",
       "⎢                   ⎥\n",
       "⎢              h   h⎥\n",
       "⎢0   0    0    ─   ─⎥\n",
       "⎣              6   3⎦"
      ]
     },
     "execution_count": 10,
     "metadata": {},
     "output_type": "execute_result"
    }
   ],
   "source": [
    "#A int phi * phi\n",
    "sm.Matrix(5, 5, lambda j, i: sm.integrate(phi(i, 4)*phi(j, 4), (x, 0, 4*h)))"
   ]
  },
  {
   "cell_type": "code",
   "execution_count": 11,
   "metadata": {},
   "outputs": [
    {
     "data": {
      "text/latex": [
       "$\\displaystyle \\left[\\begin{matrix}- \\frac{1}{2} & \\frac{1}{2} & 0 & 0 & 0\\\\- \\frac{1}{2} & 0 & \\frac{1}{2} & 0 & 0\\\\0 & - \\frac{1}{2} & 0 & \\frac{1}{2} & 0\\\\0 & 0 & - \\frac{1}{2} & 0 & \\frac{1}{2}\\\\0 & 0 & 0 & - \\frac{1}{2} & \\frac{1}{2}\\end{matrix}\\right]$"
      ],
      "text/plain": [
       "⎡-1/2  1/2    0     0     0 ⎤\n",
       "⎢                           ⎥\n",
       "⎢-1/2   0    1/2    0     0 ⎥\n",
       "⎢                           ⎥\n",
       "⎢ 0    -1/2   0    1/2    0 ⎥\n",
       "⎢                           ⎥\n",
       "⎢ 0     0    -1/2   0    1/2⎥\n",
       "⎢                           ⎥\n",
       "⎣ 0     0     0    -1/2  1/2⎦"
      ]
     },
     "execution_count": 11,
     "metadata": {},
     "output_type": "execute_result"
    }
   ],
   "source": [
    "\n",
    "sm.Matrix(5, 5, lambda j, i: sm.integrate(phi(i, 4).diff(x)*phi(j, 4), (x, 0, 4*h)))"
   ]
  },
  {
   "cell_type": "code",
   "execution_count": 12,
   "metadata": {},
   "outputs": [
    {
     "data": {
      "text/latex": [
       "$\\displaystyle \\left[\\begin{matrix}\\frac{1}{h} & - \\frac{1}{h} & 0 & 0 & 0\\\\- \\frac{1}{h} & \\frac{2}{h} & - \\frac{1}{h} & 0 & 0\\\\0 & - \\frac{1}{h} & \\frac{2}{h} & - \\frac{1}{h} & 0\\\\0 & 0 & - \\frac{1}{h} & \\frac{2}{h} & - \\frac{1}{h}\\\\0 & 0 & 0 & - \\frac{1}{h} & \\frac{1}{h}\\end{matrix}\\right]$"
      ],
      "text/plain": [
       "⎡ 1   -1                ⎤\n",
       "⎢ ─   ───   0    0    0 ⎥\n",
       "⎢ h    h                ⎥\n",
       "⎢                       ⎥\n",
       "⎢-1    2   -1           ⎥\n",
       "⎢───   ─   ───   0    0 ⎥\n",
       "⎢ h    h    h           ⎥\n",
       "⎢                       ⎥\n",
       "⎢     -1    2   -1      ⎥\n",
       "⎢ 0   ───   ─   ───   0 ⎥\n",
       "⎢      h    h    h      ⎥\n",
       "⎢                       ⎥\n",
       "⎢          -1    2   -1 ⎥\n",
       "⎢ 0    0   ───   ─   ───⎥\n",
       "⎢           h    h    h ⎥\n",
       "⎢                       ⎥\n",
       "⎢               -1    1 ⎥\n",
       "⎢ 0    0    0   ───   ─ ⎥\n",
       "⎣                h    h ⎦"
      ]
     },
     "execution_count": 12,
     "metadata": {},
     "output_type": "execute_result"
    }
   ],
   "source": [
    "#D int phi'x * phi'x\n",
    "sm.Matrix(5, 5, lambda j, i: sm.integrate(phi(i, 4).diff(x)*phi(j, 4).diff(x), (x, 0, 4*h)))"
   ]
  },
  {
   "cell_type": "raw",
   "metadata": {},
   "source": [
    "sm.Matrix(5, 5, lambda j, i: (phi(i, 4).diff(x)*phi(j, 4)).subs(x,0))"
   ]
  },
  {
   "cell_type": "raw",
   "metadata": {},
   "source": [
    "sm.Matrix(5, 5, lambda j, i: (phi(i, 4).diff(x)*phi(j, 4)).subs(x,4*h))"
   ]
  },
  {
   "cell_type": "code",
   "execution_count": 13,
   "metadata": {},
   "outputs": [
    {
     "data": {
      "text/latex": [
       "$\\displaystyle \\left[\\begin{matrix}\\frac{1}{h} & - \\frac{1}{h} & 0 & 0 & 0\\\\0 & 0 & 0 & 0 & 0\\\\0 & 0 & 0 & 0 & 0\\\\0 & 0 & 0 & 0 & 0\\\\0 & 0 & 0 & - \\frac{1}{h} & \\frac{1}{h}\\end{matrix}\\right]$"
      ],
      "text/plain": [
       "⎡1  -1            ⎤\n",
       "⎢─  ───  0   0   0⎥\n",
       "⎢h   h            ⎥\n",
       "⎢                 ⎥\n",
       "⎢0   0   0   0   0⎥\n",
       "⎢                 ⎥\n",
       "⎢0   0   0   0   0⎥\n",
       "⎢                 ⎥\n",
       "⎢0   0   0   0   0⎥\n",
       "⎢                 ⎥\n",
       "⎢           -1   1⎥\n",
       "⎢0   0   0  ───  ─⎥\n",
       "⎣            h   h⎦"
      ]
     },
     "execution_count": 13,
     "metadata": {},
     "output_type": "execute_result"
    }
   ],
   "source": [
    "sm.Matrix(5, 5, lambda j, i: (phi(i, 4).diff(x)*phi(j, 4)).subs(x,4*h)) - sm.Matrix(5, 5, lambda j, i: (phi(i, 4).diff(x)*phi(j, 4)).subs(x,0))"
   ]
  },
  {
   "cell_type": "code",
   "execution_count": 14,
   "metadata": {},
   "outputs": [
    {
     "data": {
      "text/latex": [
       "$\\displaystyle \\left[\\begin{matrix}0 & 0 & 0 & 0 & 0\\\\- \\frac{1}{h} & \\frac{2}{h} & - \\frac{1}{h} & 0 & 0\\\\0 & - \\frac{1}{h} & \\frac{2}{h} & - \\frac{1}{h} & 0\\\\0 & 0 & - \\frac{1}{h} & \\frac{2}{h} & - \\frac{1}{h}\\\\0 & 0 & 0 & 0 & 0\\end{matrix}\\right]$"
      ],
      "text/plain": [
       "⎡ 0    0    0    0    0 ⎤\n",
       "⎢                       ⎥\n",
       "⎢-1    2   -1           ⎥\n",
       "⎢───   ─   ───   0    0 ⎥\n",
       "⎢ h    h    h           ⎥\n",
       "⎢                       ⎥\n",
       "⎢     -1    2   -1      ⎥\n",
       "⎢ 0   ───   ─   ───   0 ⎥\n",
       "⎢      h    h    h      ⎥\n",
       "⎢                       ⎥\n",
       "⎢          -1    2   -1 ⎥\n",
       "⎢ 0    0   ───   ─   ───⎥\n",
       "⎢           h    h    h ⎥\n",
       "⎢                       ⎥\n",
       "⎣ 0    0    0    0    0 ⎦"
      ]
     },
     "execution_count": 14,
     "metadata": {},
     "output_type": "execute_result"
    }
   ],
   "source": [
    "sm.Matrix(5, 5, lambda j, i: sm.integrate(phi(i, 4).diff(x)*phi(j, 4).diff(x), (x, 0, 4*h)))-(sm.Matrix(5, 5, lambda j, i: (phi(i, 4).diff(x)*phi(j, 4)).subs(x,4*h)) - sm.Matrix(5, 5, lambda j, i: (phi(i, 4).diff(x)*phi(j, 4)).subs(x,0)))"
   ]
  },
  {
   "cell_type": "code",
   "execution_count": 15,
   "metadata": {},
   "outputs": [],
   "source": [
    "############end"
   ]
  },
  {
   "cell_type": "code",
   "execution_count": 16,
   "metadata": {},
   "outputs": [],
   "source": [
    "def intgA(i, j):\n",
    "    if i == j == 0:\n",
    "         return sm.integrate(phi(i)**2, (x,(i)*h, (i+1)*h)) \n",
    "    elif i == j == N:\n",
    "        return sm.integrate(phi(i)**2, (x,(i-1)*h, i*h))\n",
    "    elif i == j:\n",
    "        return sm.integrate(phi(i)**2, (x,(i-1)*h, i*h)) + sm.integrate(phi(i)**2, (x,(i)*h, (i+1)*h)) \n",
    "    elif i > j:\n",
    "        return sm.integrate(phi(i) * phi(j), (x,(i-1)*h, i*h)) \n",
    "    else:\n",
    "        return sm.integrate(phi(i) * phi(j),(x,(i)*h, (i+1)*h)) \n",
    "        "
   ]
  },
  {
   "cell_type": "code",
   "execution_count": 17,
   "metadata": {},
   "outputs": [],
   "source": [
    "def intgB(k, i, j):\n",
    "    if all([abs(i-j)  in [0, 1],  abs(j-k) in [0, 1], abs(k - i) in [0, 1]]):\n",
    "\n",
    "        if i == j == k == 0:\n",
    "             return sm.integrate(phi(k)*phi(i)*phi(j).diff(x), (x,(i)*h, (i+1)*h)) \n",
    "        elif i == j == k == N:\n",
    "            return sm.integrate(phi(k)*phi(i)*phi(j).diff(x), (x,(i-1)*h, i*h))\n",
    "        elif i == j == k:\n",
    "            return sm.integrate(phi(k)*phi(i)*phi(j).diff(x), (x,(i-1)*h, i*h)) + sm.integrate(phi(k)*phi(i)*phi(j).diff(x), (x,(i)*h, (i+1)*h)) \n",
    "        elif i > j or i > k:\n",
    "            return sm.integrate(phi(k)*phi(i)*phi(j).diff(x), (x,(i-1)*h, i*h)) \n",
    "        else:\n",
    "            return sm.integrate(phi(k)*phi(i) * phi(j).diff(x),(x,(i)*h, (i+1)*h)) \n",
    "    else:\n",
    "        return 0"
   ]
  },
  {
   "cell_type": "code",
   "execution_count": 18,
   "metadata": {},
   "outputs": [],
   "source": [
    "a = sm.Matrix(N+1, N+1, lambda j, i: intgA(i, j))\n",
    "ainv = a.inv()"
   ]
  },
  {
   "cell_type": "code",
   "execution_count": 19,
   "metadata": {},
   "outputs": [
    {
     "data": {
      "image/png": "[encoded data removed]",
      "text/latex": [
       "$\\displaystyle \\left[ - \\frac{1}{h}, \\  \\frac{1}{h}, \\  0, \\  0, \\  0, \\  0\\right]$"
      ],
      "text/plain": [
       "⎡-1   1            ⎤\n",
       "⎢───, ─, 0, 0, 0, 0⎥\n",
       "⎣ h   h            ⎦"
      ]
     },
     "execution_count": 19,
     "metadata": {},
     "output_type": "execute_result"
    }
   ],
   "source": [
    "[(phi(0)*phi(i).diff(x)).subs(x,0) for  i in range(6)]"
   ]
  },
  {
   "cell_type": "code",
   "execution_count": null,
   "metadata": {},
   "outputs": [],
   "source": []
  },
  {
   "cell_type": "code",
   "execution_count": null,
   "metadata": {},
   "outputs": [],
   "source": [
    "ainv"
   ]
  },
  {
   "cell_type": "code",
   "execution_count": null,
   "metadata": {},
   "outputs": [],
   "source": [
    "sm.Matrix([phi(i) for i in range(6)]).T"
   ]
  },
  {
   "cell_type": "code",
   "execution_count": 7,
   "metadata": {},
   "outputs": [],
   "source": [
    "def intgC(i, j):\n",
    "    if i == j == 0:\n",
    "         return sm.integrate(phi(i)*phi(j).diff(x), (x,(i)*h, (i+1)*h)) \n",
    "    elif i == j == N:\n",
    "        return sm.integrate(phi(i)*phi(j).diff(x), (x,(i-1)*h, i*h))\n",
    "    elif i == j:\n",
    "        return sm.integrate(phi(i)*phi(j).diff(x), (x,(i-1)*h, i*h)) + sm.integrate(phi(i)*phi(j).diff(x), (x,(i)*h, (i+1)*h)) \n",
    "    elif i > j:\n",
    "        return sm.integrate(phi(i)*phi(j).diff(x), (x,(i-1)*h, i*h)) \n",
    "    else:\n",
    "        return sm.integrate(phi(i)*phi(j).diff(x),(x,(i)*h, (i+1)*h)) \n",
    "        "
   ]
  },
  {
   "cell_type": "code",
   "execution_count": 8,
   "metadata": {},
   "outputs": [
    {
     "ename": "TypeError",
     "evalue": "phi() missing 1 required positional argument: 'N'",
     "output_type": "error",
     "traceback": [
      "\u001b[1;31m---------------------------------------------------------------------------\u001b[0m",
      "\u001b[1;31mTypeError\u001b[0m                                 Traceback (most recent call last)",
      "\u001b[1;32m<ipython-input-8-bbcb3049b6b7>\u001b[0m in \u001b[0;36m<module>\u001b[1;34m\u001b[0m\n\u001b[1;32m----> 1\u001b[1;33m \u001b[0msm\u001b[0m\u001b[1;33m.\u001b[0m\u001b[0mMatrix\u001b[0m\u001b[1;33m(\u001b[0m\u001b[0mN\u001b[0m\u001b[1;33m+\u001b[0m\u001b[1;36m1\u001b[0m\u001b[1;33m,\u001b[0m \u001b[0mN\u001b[0m\u001b[1;33m+\u001b[0m\u001b[1;36m1\u001b[0m\u001b[1;33m,\u001b[0m \u001b[1;32mlambda\u001b[0m \u001b[0mi\u001b[0m\u001b[1;33m,\u001b[0m \u001b[0mj\u001b[0m\u001b[1;33m:\u001b[0m\u001b[0mintgC\u001b[0m\u001b[1;33m(\u001b[0m\u001b[0mi\u001b[0m\u001b[1;33m,\u001b[0m \u001b[0mj\u001b[0m\u001b[1;33m)\u001b[0m\u001b[1;33m)\u001b[0m\u001b[1;33m\u001b[0m\u001b[1;33m\u001b[0m\u001b[0m\n\u001b[0m",
      "\u001b[1;32mc:\\users\\dell\\desktop\\python~1\\maths\\lib\\site-packages\\sympy\\matrices\\dense.py\u001b[0m in \u001b[0;36m__new__\u001b[1;34m(cls, *args, **kwargs)\u001b[0m\n\u001b[0;32m    431\u001b[0m \u001b[1;32mclass\u001b[0m \u001b[0mMutableDenseMatrix\u001b[0m\u001b[1;33m(\u001b[0m\u001b[0mDenseMatrix\u001b[0m\u001b[1;33m,\u001b[0m \u001b[0mMatrixBase\u001b[0m\u001b[1;33m)\u001b[0m\u001b[1;33m:\u001b[0m\u001b[1;33m\u001b[0m\u001b[1;33m\u001b[0m\u001b[0m\n\u001b[0;32m    432\u001b[0m     \u001b[1;32mdef\u001b[0m \u001b[0m__new__\u001b[0m\u001b[1;33m(\u001b[0m\u001b[0mcls\u001b[0m\u001b[1;33m,\u001b[0m \u001b[1;33m*\u001b[0m\u001b[0margs\u001b[0m\u001b[1;33m,\u001b[0m \u001b[1;33m**\u001b[0m\u001b[0mkwargs\u001b[0m\u001b[1;33m)\u001b[0m\u001b[1;33m:\u001b[0m\u001b[1;33m\u001b[0m\u001b[1;33m\u001b[0m\u001b[0m\n\u001b[1;32m--> 433\u001b[1;33m         \u001b[1;32mreturn\u001b[0m \u001b[0mcls\u001b[0m\u001b[1;33m.\u001b[0m\u001b[0m_new\u001b[0m\u001b[1;33m(\u001b[0m\u001b[1;33m*\u001b[0m\u001b[0margs\u001b[0m\u001b[1;33m,\u001b[0m \u001b[1;33m**\u001b[0m\u001b[0mkwargs\u001b[0m\u001b[1;33m)\u001b[0m\u001b[1;33m\u001b[0m\u001b[1;33m\u001b[0m\u001b[0m\n\u001b[0m\u001b[0;32m    434\u001b[0m \u001b[1;33m\u001b[0m\u001b[0m\n\u001b[0;32m    435\u001b[0m     \u001b[1;33m@\u001b[0m\u001b[0mclassmethod\u001b[0m\u001b[1;33m\u001b[0m\u001b[1;33m\u001b[0m\u001b[0m\n",
      "\u001b[1;32mc:\\users\\dell\\desktop\\python~1\\maths\\lib\\site-packages\\sympy\\matrices\\dense.py\u001b[0m in \u001b[0;36m_new\u001b[1;34m(cls, *args, **kwargs)\u001b[0m\n\u001b[0;32m    443\u001b[0m             \u001b[0mrows\u001b[0m\u001b[1;33m,\u001b[0m \u001b[0mcols\u001b[0m\u001b[1;33m,\u001b[0m \u001b[0mflat_list\u001b[0m \u001b[1;33m=\u001b[0m \u001b[0margs\u001b[0m\u001b[1;33m\u001b[0m\u001b[1;33m\u001b[0m\u001b[0m\n\u001b[0;32m    444\u001b[0m         \u001b[1;32melse\u001b[0m\u001b[1;33m:\u001b[0m\u001b[1;33m\u001b[0m\u001b[1;33m\u001b[0m\u001b[0m\n\u001b[1;32m--> 445\u001b[1;33m             \u001b[0mrows\u001b[0m\u001b[1;33m,\u001b[0m \u001b[0mcols\u001b[0m\u001b[1;33m,\u001b[0m \u001b[0mflat_list\u001b[0m \u001b[1;33m=\u001b[0m \u001b[0mcls\u001b[0m\u001b[1;33m.\u001b[0m\u001b[0m_handle_creation_inputs\u001b[0m\u001b[1;33m(\u001b[0m\u001b[1;33m*\u001b[0m\u001b[0margs\u001b[0m\u001b[1;33m,\u001b[0m \u001b[1;33m**\u001b[0m\u001b[0mkwargs\u001b[0m\u001b[1;33m)\u001b[0m\u001b[1;33m\u001b[0m\u001b[1;33m\u001b[0m\u001b[0m\n\u001b[0m\u001b[0;32m    446\u001b[0m             \u001b[0mflat_list\u001b[0m \u001b[1;33m=\u001b[0m \u001b[0mlist\u001b[0m\u001b[1;33m(\u001b[0m\u001b[0mflat_list\u001b[0m\u001b[1;33m)\u001b[0m \u001b[1;31m# create a shallow copy\u001b[0m\u001b[1;33m\u001b[0m\u001b[1;33m\u001b[0m\u001b[0m\n\u001b[0;32m    447\u001b[0m         \u001b[0mself\u001b[0m \u001b[1;33m=\u001b[0m \u001b[0mobject\u001b[0m\u001b[1;33m.\u001b[0m\u001b[0m__new__\u001b[0m\u001b[1;33m(\u001b[0m\u001b[0mcls\u001b[0m\u001b[1;33m)\u001b[0m\u001b[1;33m\u001b[0m\u001b[1;33m\u001b[0m\u001b[0m\n",
      "\u001b[1;32mc:\\users\\dell\\desktop\\python~1\\maths\\lib\\site-packages\\sympy\\matrices\\matrices.py\u001b[0m in \u001b[0;36m_handle_creation_inputs\u001b[1;34m(cls, *args, **kwargs)\u001b[0m\n\u001b[0;32m   2337\u001b[0m                     flat_list.extend(\n\u001b[0;32m   2338\u001b[0m                         [cls._sympify(op(cls._sympify(i), cls._sympify(j)))\n\u001b[1;32m-> 2339\u001b[1;33m                          for j in range(cols)])\n\u001b[0m\u001b[0;32m   2340\u001b[0m \u001b[1;33m\u001b[0m\u001b[0m\n\u001b[0;32m   2341\u001b[0m             \u001b[1;31m# Matrix(2, 2, [1, 2, 3, 4])\u001b[0m\u001b[1;33m\u001b[0m\u001b[1;33m\u001b[0m\u001b[1;33m\u001b[0m\u001b[0m\n",
      "\u001b[1;32mc:\\users\\dell\\desktop\\python~1\\maths\\lib\\site-packages\\sympy\\matrices\\matrices.py\u001b[0m in \u001b[0;36m<listcomp>\u001b[1;34m(.0)\u001b[0m\n\u001b[0;32m   2337\u001b[0m                     flat_list.extend(\n\u001b[0;32m   2338\u001b[0m                         [cls._sympify(op(cls._sympify(i), cls._sympify(j)))\n\u001b[1;32m-> 2339\u001b[1;33m                          for j in range(cols)])\n\u001b[0m\u001b[0;32m   2340\u001b[0m \u001b[1;33m\u001b[0m\u001b[0m\n\u001b[0;32m   2341\u001b[0m             \u001b[1;31m# Matrix(2, 2, [1, 2, 3, 4])\u001b[0m\u001b[1;33m\u001b[0m\u001b[1;33m\u001b[0m\u001b[1;33m\u001b[0m\u001b[0m\n",
      "\u001b[1;32m<ipython-input-8-bbcb3049b6b7>\u001b[0m in \u001b[0;36m<lambda>\u001b[1;34m(i, j)\u001b[0m\n\u001b[1;32m----> 1\u001b[1;33m \u001b[0msm\u001b[0m\u001b[1;33m.\u001b[0m\u001b[0mMatrix\u001b[0m\u001b[1;33m(\u001b[0m\u001b[0mN\u001b[0m\u001b[1;33m+\u001b[0m\u001b[1;36m1\u001b[0m\u001b[1;33m,\u001b[0m \u001b[0mN\u001b[0m\u001b[1;33m+\u001b[0m\u001b[1;36m1\u001b[0m\u001b[1;33m,\u001b[0m \u001b[1;32mlambda\u001b[0m \u001b[0mi\u001b[0m\u001b[1;33m,\u001b[0m \u001b[0mj\u001b[0m\u001b[1;33m:\u001b[0m\u001b[0mintgC\u001b[0m\u001b[1;33m(\u001b[0m\u001b[0mi\u001b[0m\u001b[1;33m,\u001b[0m \u001b[0mj\u001b[0m\u001b[1;33m)\u001b[0m\u001b[1;33m)\u001b[0m\u001b[1;33m\u001b[0m\u001b[1;33m\u001b[0m\u001b[0m\n\u001b[0m",
      "\u001b[1;32m<ipython-input-7-250d03379091>\u001b[0m in \u001b[0;36mintgC\u001b[1;34m(i, j)\u001b[0m\n\u001b[0;32m      1\u001b[0m \u001b[1;32mdef\u001b[0m \u001b[0mintgC\u001b[0m\u001b[1;33m(\u001b[0m\u001b[0mi\u001b[0m\u001b[1;33m,\u001b[0m \u001b[0mj\u001b[0m\u001b[1;33m)\u001b[0m\u001b[1;33m:\u001b[0m\u001b[1;33m\u001b[0m\u001b[1;33m\u001b[0m\u001b[0m\n\u001b[0;32m      2\u001b[0m     \u001b[1;32mif\u001b[0m \u001b[0mi\u001b[0m \u001b[1;33m==\u001b[0m \u001b[0mj\u001b[0m \u001b[1;33m==\u001b[0m \u001b[1;36m0\u001b[0m\u001b[1;33m:\u001b[0m\u001b[1;33m\u001b[0m\u001b[1;33m\u001b[0m\u001b[0m\n\u001b[1;32m----> 3\u001b[1;33m          \u001b[1;32mreturn\u001b[0m \u001b[0msm\u001b[0m\u001b[1;33m.\u001b[0m\u001b[0mintegrate\u001b[0m\u001b[1;33m(\u001b[0m\u001b[0mphi\u001b[0m\u001b[1;33m(\u001b[0m\u001b[0mi\u001b[0m\u001b[1;33m)\u001b[0m\u001b[1;33m*\u001b[0m\u001b[0mphi\u001b[0m\u001b[1;33m(\u001b[0m\u001b[0mj\u001b[0m\u001b[1;33m)\u001b[0m\u001b[1;33m.\u001b[0m\u001b[0mdiff\u001b[0m\u001b[1;33m(\u001b[0m\u001b[0mx\u001b[0m\u001b[1;33m)\u001b[0m\u001b[1;33m,\u001b[0m \u001b[1;33m(\u001b[0m\u001b[0mx\u001b[0m\u001b[1;33m,\u001b[0m\u001b[1;33m(\u001b[0m\u001b[0mi\u001b[0m\u001b[1;33m)\u001b[0m\u001b[1;33m*\u001b[0m\u001b[0mh\u001b[0m\u001b[1;33m,\u001b[0m \u001b[1;33m(\u001b[0m\u001b[0mi\u001b[0m\u001b[1;33m+\u001b[0m\u001b[1;36m1\u001b[0m\u001b[1;33m)\u001b[0m\u001b[1;33m*\u001b[0m\u001b[0mh\u001b[0m\u001b[1;33m)\u001b[0m\u001b[1;33m)\u001b[0m\u001b[1;33m\u001b[0m\u001b[1;33m\u001b[0m\u001b[0m\n\u001b[0m\u001b[0;32m      4\u001b[0m     \u001b[1;32melif\u001b[0m \u001b[0mi\u001b[0m \u001b[1;33m==\u001b[0m \u001b[0mj\u001b[0m \u001b[1;33m==\u001b[0m \u001b[0mN\u001b[0m\u001b[1;33m:\u001b[0m\u001b[1;33m\u001b[0m\u001b[1;33m\u001b[0m\u001b[0m\n\u001b[0;32m      5\u001b[0m         \u001b[1;32mreturn\u001b[0m \u001b[0msm\u001b[0m\u001b[1;33m.\u001b[0m\u001b[0mintegrate\u001b[0m\u001b[1;33m(\u001b[0m\u001b[0mphi\u001b[0m\u001b[1;33m(\u001b[0m\u001b[0mi\u001b[0m\u001b[1;33m)\u001b[0m\u001b[1;33m*\u001b[0m\u001b[0mphi\u001b[0m\u001b[1;33m(\u001b[0m\u001b[0mj\u001b[0m\u001b[1;33m)\u001b[0m\u001b[1;33m.\u001b[0m\u001b[0mdiff\u001b[0m\u001b[1;33m(\u001b[0m\u001b[0mx\u001b[0m\u001b[1;33m)\u001b[0m\u001b[1;33m,\u001b[0m \u001b[1;33m(\u001b[0m\u001b[0mx\u001b[0m\u001b[1;33m,\u001b[0m\u001b[1;33m(\u001b[0m\u001b[0mi\u001b[0m\u001b[1;33m-\u001b[0m\u001b[1;36m1\u001b[0m\u001b[1;33m)\u001b[0m\u001b[1;33m*\u001b[0m\u001b[0mh\u001b[0m\u001b[1;33m,\u001b[0m \u001b[0mi\u001b[0m\u001b[1;33m*\u001b[0m\u001b[0mh\u001b[0m\u001b[1;33m)\u001b[0m\u001b[1;33m)\u001b[0m\u001b[1;33m\u001b[0m\u001b[1;33m\u001b[0m\u001b[0m\n",
      "\u001b[1;31mTypeError\u001b[0m: phi() missing 1 required positional argument: 'N'"
     ]
    }
   ],
   "source": [
    "sm.Matrix(N+1, N+1, lambda i, j:intgC(i, j))"
   ]
  },
  {
   "cell_type": "code",
   "execution_count": null,
   "metadata": {},
   "outputs": [],
   "source": [
    "def intgD(i, j):\n",
    "    if i == j == 0:\n",
    "         return sm.simplify(phi(i)*phi(j).diff(x))\n",
    "    elif i == j == N:\n",
    "        return sm.simplify(phi(i)*phi(j).diff(x))\n",
    "    elif i == j:\n",
    "        return sm.simplify(phi(i)*phi(j).diff(x)) + sm.simplify(phi(i)*phi(j).diff(x))\n",
    "    elif i > j:\n",
    "        return sm.simplify(phi(i)*phi(j).diff(x))\n",
    "    else:\n",
    "        return sm.simplify(phi(i)*phi(j).diff(x))\n",
    "        "
   ]
  },
  {
   "cell_type": "markdown",
   "metadata": {},
   "source": [
    "sm.Matrix(N+1, 1, lambda k, _:sm.Matrix(N+1, N+1, lambda i, j:intgB(k,i, j)))"
   ]
  },
  {
   "cell_type": "markdown",
   "metadata": {},
   "source": [
    "sm.Matrix(N+1, N+1, lambda i, j:intgD(i, j))"
   ]
  },
  {
   "cell_type": "markdown",
   "metadata": {},
   "source": [
    "sm.simplify(phi(0)*phi(0).diff(x))"
   ]
  },
  {
   "cell_type": "code",
   "execution_count": null,
   "metadata": {},
   "outputs": [],
   "source": [
    "x, t, k, beta, i, j , h= sm.symbols(\"x t k beta i j H\")\n",
    "N = sm.symbols(\"N\")"
   ]
  },
  {
   "cell_type": "code",
   "execution_count": null,
   "metadata": {},
   "outputs": [],
   "source": [
    "u = t * sm.sin(sm. pi*x)\n",
    "u"
   ]
  },
  {
   "cell_type": "code",
   "execution_count": null,
   "metadata": {},
   "outputs": [],
   "source": [
    "expr = u.diff(t)  + beta* u.diff(x, 2) "
   ]
  },
  {
   "cell_type": "code",
   "execution_count": null,
   "metadata": {},
   "outputs": [],
   "source": [
    "sm.factor(expr)"
   ]
  },
  {
   "cell_type": "code",
   "execution_count": null,
   "metadata": {},
   "outputs": [],
   "source": [
    "\n",
    "k = sm.abc.k\n",
    "\n",
    "pos = sm.expand(sm.integrate(expr*((x-(k-1)*h)/h), (x, h*(k-1),h*k)))\n",
    "neg = sm.expand(sm.integrate(expr*(-(x-(k+1)*h)/h), (x, h*(k),h*(k+1))))\n"
   ]
  },
  {
   "cell_type": "code",
   "execution_count": null,
   "metadata": {},
   "outputs": [],
   "source": [
    "pos1= pos.coeff(t)\n",
    "pos2= pos.coeff(t**2)\n",
    "\n"
   ]
  },
  {
   "cell_type": "code",
   "execution_count": null,
   "metadata": {},
   "outputs": [],
   "source": [
    "pos1"
   ]
  },
  {
   "cell_type": "code",
   "execution_count": null,
   "metadata": {},
   "outputs": [],
   "source": [
    "neg1= neg.coeff(t)\n",
    "neg2= neg.coeff(t**2)"
   ]
  },
  {
   "cell_type": "code",
   "execution_count": null,
   "metadata": {},
   "outputs": [],
   "source": [
    "neg1"
   ]
  },
  {
   "cell_type": "code",
   "execution_count": null,
   "metadata": {},
   "outputs": [],
   "source": [
    "\n",
    "(lambdastr(k,       factor(simplify(neg1.subs(k, 0)))            ).replace(\"H\",\"self.H\").replace(\"beta\",\"self.beta\"), \n",
    " \n",
    " lambdastr(k, factor(simplify(neg2.subs(k, 0)))     )   .replace(\"H\",\"self.H\").replace(\"beta\",\"self.beta\"))"
   ]
  },
  {
   "cell_type": "code",
   "execution_count": null,
   "metadata": {},
   "outputs": [],
   "source": [
    "(lambdastr(k,sm.factor(simplify(pos1.subs(k, N).subs(N*h, 1)))).replace(\"H\",\"self.H\").replace(\"beta\",\"self.beta\"), \n",
    " \n",
    " lambdastr(k,sm.factor(simplify(pos2.subs(k, N).subs(N*h, 1)))).replace(\"H\",\"self.H\").replace(\"beta\",\"self.beta\"))"
   ]
  },
  {
   "cell_type": "code",
   "execution_count": null,
   "metadata": {},
   "outputs": [],
   "source": [
    "\n",
    "(lambdastr(k,       factor(simplify(neg1+pos1) )           ).replace(\"H\",\"self.H\").replace(\"beta\",\"self.beta\"), \n",
    " \n",
    " lambdastr(k, factor(simplify(neg2+pos2)     ))   .replace(\"H\",\"self.H\").replace(\"beta\",\"self.beta\"))"
   ]
  },
  {
   "cell_type": "code",
   "execution_count": null,
   "metadata": {},
   "outputs": [],
   "source": []
  },
  {
   "cell_type": "code",
   "execution_count": null,
   "metadata": {},
   "outputs": [],
   "source": []
  },
  {
   "cell_type": "code",
   "execution_count": null,
   "metadata": {},
   "outputs": [],
   "source": []
  }
 ],
 "metadata": {
  "kernelspec": {
   "display_name": "Python 3",
   "language": "python",
   "name": "python3"
  },
  "language_info": {
   "codemirror_mode": {
    "name": "ipython",
    "version": 3
   },
   "file_extension": ".py",
   "mimetype": "text/x-python",
   "name": "python",
   "nbconvert_exporter": "python",
   "pygments_lexer": "ipython3",
   "version": "3.6.8"
  }
 },
 "nbformat": 4,
 "nbformat_minor": 2
}

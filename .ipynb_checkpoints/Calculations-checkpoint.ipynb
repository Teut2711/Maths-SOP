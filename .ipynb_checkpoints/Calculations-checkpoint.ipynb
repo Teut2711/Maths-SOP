{
 "cells": [
  {
   "cell_type": "code",
   "execution_count": 1,
   "metadata": {},
   "outputs": [],
   "source": [
    "import numpy as np\n",
    "np.set_printoptions(linewidth=100)\n",
    "import sympy as sm\n",
    "import sympy.abc as sbl\n",
    "from scipy.sparse import diags\n",
    "import scipy.sparse.linalg as la\n",
    "from sympy.utilities.lambdify import lambdastr\n",
    "from collections import OrderedDict\n",
    "import scipy.sparse as sp\n",
    "sm.init_printing()\n",
    "import time\n",
    "from sympy import *\n",
    "import matplotlib.pyplot as plt\n",
    "import matplotlib"
   ]
  },
  {
   "cell_type": "markdown",
   "metadata": {},
   "source": [
    "\\begin{equation}\n",
    "\\\\ \\phi_0(x) = \n",
    "\\begin{cases} \n",
    "\\\\ \\frac{h \\left(1\\right) - x}{h} & \\text{for}\\:  h i  \\leq x \\leq h \\left(i + 1\\right) \\\\0 & \\text{otherwise}\n",
    "\\end{cases}   \\hspace{10mm} \n",
    "\\end{equation}\n",
    "\n",
    "\\begin{equation}\n",
    "\\\\ \\phi_i(x) = \n",
    "\\begin{cases} \n",
    "\\frac{- h \\left(i - 1\\right) + x}{h} & \\text{for}\\:  h \\left(i - 1\\right)  \\leq x  \\leq h i \\\\\\frac{h \\left(i + 1\\right) - x}{h} & \\text{for}\\:  h i  \\leq x \\leq h \\left(i + 1\\right) \\\\0 & \\text{otherwise}\n",
    "\\end{cases}   \\hspace{10mm} \\text{for all i in 2 ... N- 1}\n",
    "\\end{equation}\n",
    "\n",
    "\\begin{equation}\n",
    "\\\\ \\phi_N(x) = \n",
    "\\begin{cases} \n",
    "\\frac{- h \\left(N - 1\\right) + x}{h} & \\text{for}\\:  h \\left(N - 1\\right)  \\leq x  \\leq h N \\\\0 & \\text{otherwise}\n",
    "\\end{cases}   \\hspace{10mm} \n",
    "\\end{equation}"
   ]
  },
  {
   "cell_type": "code",
   "execution_count": 2,
   "metadata": {},
   "outputs": [],
   "source": [
    "h, x = sm.Symbol(\"h\", positive=True), sm.Symbol(\"x\", nonnegative=True)\n",
    "N = 5"
   ]
  },
  {
   "cell_type": "code",
   "execution_count": 3,
   "metadata": {},
   "outputs": [],
   "source": [
    "def phi(i, N):\n",
    "    \n",
    "    if i == 0 :\n",
    "        return sm.Piecewise( ( ( -x + (i+1)*h) / h, (x >=i*h) & (x <= (i+1)*h)) , \\\n",
    "                           (0, True) \n",
    "\n",
    "                      )\n",
    "    elif i == N:\n",
    "        return sm.Piecewise(  ((x - (i-1)*h) / h, (x >=(i-1)*h) & (x <= i*h))   , \\\n",
    "                   (0, True) \n",
    "                                       )             \n",
    "    else:\n",
    "        return sm.Piecewise(\n",
    "                           ((x - (i-1)*h) / h, (x >=h*(i-1)) & (x <= i*h))    , \\\n",
    "                           ( ( -x + (i+1)*h) / h, (x >=i*h) & (x <= (i+1)*h)) , \\\n",
    "                           (0, True)  \n",
    "                       )\n",
    "\n"
   ]
  },
  {
   "cell_type": "code",
   "execution_count": 5,
   "metadata": {},
   "outputs": [
    {
     "data": {
      "text/latex": [
       "$\\displaystyle \\left[\\begin{matrix}\\frac{h}{3} & \\frac{h}{6} & 0 & 0 & 0\\\\\\frac{h}{6} & \\frac{2 h}{3} & \\frac{h}{6} & 0 & 0\\\\0 & \\frac{h}{6} & \\frac{2 h}{3} & \\frac{h}{6} & 0\\\\0 & 0 & \\frac{h}{6} & \\frac{2 h}{3} & \\frac{h}{6}\\\\0 & 0 & 0 & \\frac{h}{6} & \\frac{h}{3}\\end{matrix}\\right]$"
      ],
      "text/plain": [
       "⎡h   h              ⎤\n",
       "⎢─   ─    0    0   0⎥\n",
       "⎢3   6              ⎥\n",
       "⎢                   ⎥\n",
       "⎢h  2⋅h   h         ⎥\n",
       "⎢─  ───   ─    0   0⎥\n",
       "⎢6   3    6         ⎥\n",
       "⎢                   ⎥\n",
       "⎢    h   2⋅h   h    ⎥\n",
       "⎢0   ─   ───   ─   0⎥\n",
       "⎢    6    3    6    ⎥\n",
       "⎢                   ⎥\n",
       "⎢         h   2⋅h  h⎥\n",
       "⎢0   0    ─   ───  ─⎥\n",
       "⎢         6    3   6⎥\n",
       "⎢                   ⎥\n",
       "⎢              h   h⎥\n",
       "⎢0   0    0    ─   ─⎥\n",
       "⎣              6   3⎦"
      ]
     },
     "execution_count": 5,
     "metadata": {},
     "output_type": "execute_result"
    }
   ],
   "source": [
    "#A int phi * phi\n",
    "sm.Matrix(5, 5, lambda j, i: sm.integrate(phi(i, 4)*phi(j, 4), (x, 0, 4*h)))"
   ]
  },
  {
   "cell_type": "code",
   "execution_count": 7,
   "metadata": {},
   "outputs": [
    {
     "data": {
      "text/latex": [
       "$\\displaystyle \\left[\\begin{matrix}- \\frac{1}{2} & \\frac{1}{2} & 0 & 0 & 0\\\\- \\frac{1}{2} & 0 & \\frac{1}{2} & 0 & 0\\\\0 & - \\frac{1}{2} & 0 & \\frac{1}{2} & 0\\\\0 & 0 & - \\frac{1}{2} & 0 & \\frac{1}{2}\\\\0 & 0 & 0 & - \\frac{1}{2} & \\frac{1}{2}\\end{matrix}\\right]$"
      ],
      "text/plain": [
       "⎡-1/2  1/2    0     0     0 ⎤\n",
       "⎢                           ⎥\n",
       "⎢-1/2   0    1/2    0     0 ⎥\n",
       "⎢                           ⎥\n",
       "⎢ 0    -1/2   0    1/2    0 ⎥\n",
       "⎢                           ⎥\n",
       "⎢ 0     0    -1/2   0    1/2⎥\n",
       "⎢                           ⎥\n",
       "⎣ 0     0     0    -1/2  1/2⎦"
      ]
     },
     "execution_count": 7,
     "metadata": {},
     "output_type": "execute_result"
    }
   ],
   "source": [
    "\n",
    "sm.Matrix(5, 5, lambda j, i: sm.integrate(phi(i, 4).diff(x)*phi(j, 4), (x, 0, 4*h)))"
   ]
  },
  {
   "cell_type": "code",
   "execution_count": 6,
   "metadata": {},
   "outputs": [
    {
     "data": {
      "text/latex": [
       "$\\displaystyle \\left[\\begin{matrix}\\frac{1}{h} & - \\frac{1}{h} & 0 & 0 & 0\\\\- \\frac{1}{h} & \\frac{2}{h} & - \\frac{1}{h} & 0 & 0\\\\0 & - \\frac{1}{h} & \\frac{2}{h} & - \\frac{1}{h} & 0\\\\0 & 0 & - \\frac{1}{h} & \\frac{2}{h} & - \\frac{1}{h}\\\\0 & 0 & 0 & - \\frac{1}{h} & \\frac{1}{h}\\end{matrix}\\right]$"
      ],
      "text/plain": [
       "⎡ 1   -1                ⎤\n",
       "⎢ ─   ───   0    0    0 ⎥\n",
       "⎢ h    h                ⎥\n",
       "⎢                       ⎥\n",
       "⎢-1    2   -1           ⎥\n",
       "⎢───   ─   ───   0    0 ⎥\n",
       "⎢ h    h    h           ⎥\n",
       "⎢                       ⎥\n",
       "⎢     -1    2   -1      ⎥\n",
       "⎢ 0   ───   ─   ───   0 ⎥\n",
       "⎢      h    h    h      ⎥\n",
       "⎢                       ⎥\n",
       "⎢          -1    2   -1 ⎥\n",
       "⎢ 0    0   ───   ─   ───⎥\n",
       "⎢           h    h    h ⎥\n",
       "⎢                       ⎥\n",
       "⎢               -1    1 ⎥\n",
       "⎢ 0    0    0   ───   ─ ⎥\n",
       "⎣                h    h ⎦"
      ]
     },
     "execution_count": 6,
     "metadata": {},
     "output_type": "execute_result"
    }
   ],
   "source": [
    "#D int phi'x * phi'x\n",
    "sm.Matrix(5, 5, lambda j, i: sm.integrate(phi(i, 4).diff(x)*phi(j, 4).diff(x), (x, 0, 4*h)))"
   ]
  },
  {
   "cell_type": "raw",
   "metadata": {},
   "source": [
    "sm.Matrix(5, 5, lambda j, i: (phi(i, 4).diff(x)*phi(j, 4)).subs(x,0))"
   ]
  },
  {
   "cell_type": "raw",
   "metadata": {},
   "source": [
    "sm.Matrix(5, 5, lambda j, i: (phi(i, 4).diff(x)*phi(j, 4)).subs(x,4*h))"
   ]
  },
  {
   "cell_type": "code",
   "execution_count": 12,
   "metadata": {},
   "outputs": [
    {
     "data": {
      "text/latex": [
       "$\\displaystyle \\left[\\begin{matrix}\\frac{1}{h} & - \\frac{1}{h} & 0 & 0 & 0\\\\0 & 0 & 0 & 0 & 0\\\\0 & 0 & 0 & 0 & 0\\\\0 & 0 & 0 & 0 & 0\\\\0 & 0 & 0 & - \\frac{1}{h} & \\frac{1}{h}\\end{matrix}\\right]$"
      ],
      "text/plain": [
       "⎡1  -1            ⎤\n",
       "⎢─  ───  0   0   0⎥\n",
       "⎢h   h            ⎥\n",
       "⎢                 ⎥\n",
       "⎢0   0   0   0   0⎥\n",
       "⎢                 ⎥\n",
       "⎢0   0   0   0   0⎥\n",
       "⎢                 ⎥\n",
       "⎢0   0   0   0   0⎥\n",
       "⎢                 ⎥\n",
       "⎢           -1   1⎥\n",
       "⎢0   0   0  ───  ─⎥\n",
       "⎣            h   h⎦"
      ]
     },
     "execution_count": 12,
     "metadata": {},
     "output_type": "execute_result"
    }
   ],
   "source": [
    "sm.Matrix(5, 5, lambda j, i: (phi(i, 4).diff(x)*phi(j, 4)).subs(x,4*h)) - sm.Matrix(5, 5, lambda j, i: (phi(i, 4).diff(x)*phi(j, 4)).subs(x,0))"
   ]
  },
  {
   "cell_type": "code",
   "execution_count": 13,
   "metadata": {},
   "outputs": [
    {
     "data": {
      "text/latex": [
       "$\\displaystyle \\left[\\begin{matrix}0 & 0 & 0 & 0 & 0\\\\- \\frac{1}{h} & \\frac{2}{h} & - \\frac{1}{h} & 0 & 0\\\\0 & - \\frac{1}{h} & \\frac{2}{h} & - \\frac{1}{h} & 0\\\\0 & 0 & - \\frac{1}{h} & \\frac{2}{h} & - \\frac{1}{h}\\\\0 & 0 & 0 & 0 & 0\\end{matrix}\\right]$"
      ],
      "text/plain": [
       "⎡ 0    0    0    0    0 ⎤\n",
       "⎢                       ⎥\n",
       "⎢-1    2   -1           ⎥\n",
       "⎢───   ─   ───   0    0 ⎥\n",
       "⎢ h    h    h           ⎥\n",
       "⎢                       ⎥\n",
       "⎢     -1    2   -1      ⎥\n",
       "⎢ 0   ───   ─   ───   0 ⎥\n",
       "⎢      h    h    h      ⎥\n",
       "⎢                       ⎥\n",
       "⎢          -1    2   -1 ⎥\n",
       "⎢ 0    0   ───   ─   ───⎥\n",
       "⎢           h    h    h ⎥\n",
       "⎢                       ⎥\n",
       "⎣ 0    0    0    0    0 ⎦"
      ]
     },
     "execution_count": 13,
     "metadata": {},
     "output_type": "execute_result"
    }
   ],
   "source": [
    "sm.Matrix(5, 5, lambda j, i: sm.integrate(phi(i, 4).diff(x)*phi(j, 4).diff(x), (x, 0, 4*h)))-(sm.Matrix(5, 5, lambda j, i: (phi(i, 4).diff(x)*phi(j, 4)).subs(x,4*h)) - sm.Matrix(5, 5, lambda j, i: (phi(i, 4).diff(x)*phi(j, 4)).subs(x,0)))"
   ]
  },
  {
   "cell_type": "code",
   "execution_count": null,
   "metadata": {},
   "outputs": [],
   "source": [
    "############end"
   ]
  },
  {
   "cell_type": "code",
   "execution_count": null,
   "metadata": {},
   "outputs": [],
   "source": [
    "def intgA(i, j):\n",
    "    if i == j == 0:\n",
    "         return sm.integrate(phi(i)**2, (x,(i)*h, (i+1)*h)) \n",
    "    elif i == j == N:\n",
    "        return sm.integrate(phi(i)**2, (x,(i-1)*h, i*h))\n",
    "    elif i == j:\n",
    "        return sm.integrate(phi(i)**2, (x,(i-1)*h, i*h)) + sm.integrate(phi(i)**2, (x,(i)*h, (i+1)*h)) \n",
    "    elif i > j:\n",
    "        return sm.integrate(phi(i) * phi(j), (x,(i-1)*h, i*h)) \n",
    "    else:\n",
    "        return sm.integrate(phi(i) * phi(j),(x,(i)*h, (i+1)*h)) \n",
    "        "
   ]
  },
  {
   "cell_type": "code",
   "execution_count": null,
   "metadata": {},
   "outputs": [],
   "source": [
    "def intgB(k, i, j):\n",
    "    if all([abs(i-j)  in [0, 1],  abs(j-k) in [0, 1], abs(k - i) in [0, 1]]):\n",
    "\n",
    "        if i == j == k == 0:\n",
    "             return sm.integrate(phi(k)*phi(i)*phi(j).diff(x), (x,(i)*h, (i+1)*h)) \n",
    "        elif i == j == k == N:\n",
    "            return sm.integrate(phi(k)*phi(i)*phi(j).diff(x), (x,(i-1)*h, i*h))\n",
    "        elif i == j == k:\n",
    "            return sm.integrate(phi(k)*phi(i)*phi(j).diff(x), (x,(i-1)*h, i*h)) + sm.integrate(phi(k)*phi(i)*phi(j).diff(x), (x,(i)*h, (i+1)*h)) \n",
    "        elif i > j or i > k:\n",
    "            return sm.integrate(phi(k)*phi(i)*phi(j).diff(x), (x,(i-1)*h, i*h)) \n",
    "        else:\n",
    "            return sm.integrate(phi(k)*phi(i) * phi(j).diff(x),(x,(i)*h, (i+1)*h)) \n",
    "    else:\n",
    "        return 0"
   ]
  },
  {
   "cell_type": "code",
   "execution_count": null,
   "metadata": {},
   "outputs": [],
   "source": [
    "a = sm.Matrix(N+1, N+1, lambda j, i: intgA(i, j))\n",
    "ainv = a.inv()"
   ]
  },
  {
   "cell_type": "code",
   "execution_count": null,
   "metadata": {},
   "outputs": [],
   "source": [
    "[(phi(0)*phi(i).diff(x)).subs(x,0) for  i in range(6)]"
   ]
  },
  {
   "cell_type": "code",
   "execution_count": null,
   "metadata": {},
   "outputs": [],
   "source": []
  },
  {
   "cell_type": "code",
   "execution_count": null,
   "metadata": {},
   "outputs": [],
   "source": [
    "ainv"
   ]
  },
  {
   "cell_type": "code",
   "execution_count": null,
   "metadata": {},
   "outputs": [],
   "source": [
    "sm.Matrix([phi(i) for i in range(6)]).T"
   ]
  },
  {
   "cell_type": "code",
   "execution_count": null,
   "metadata": {},
   "outputs": [],
   "source": [
    "def intgC(i, j):\n",
    "    if i == j == 0:\n",
    "         return sm.integrate(phi(i)*phi(j).diff(x), (x,(i)*h, (i+1)*h)) \n",
    "    elif i == j == N:\n",
    "        return sm.integrate(phi(i)*phi(j).diff(x), (x,(i-1)*h, i*h))\n",
    "    elif i == j:\n",
    "        return sm.integrate(phi(i)*phi(j).diff(x), (x,(i-1)*h, i*h)) + sm.integrate(phi(i)*phi(j).diff(x), (x,(i)*h, (i+1)*h)) \n",
    "    elif i > j:\n",
    "        return sm.integrate(phi(i)*phi(j).diff(x), (x,(i-1)*h, i*h)) \n",
    "    else:\n",
    "        return sm.integrate(phi(i)*phi(j).diff(x),(x,(i)*h, (i+1)*h)) \n",
    "        "
   ]
  },
  {
   "cell_type": "code",
   "execution_count": null,
   "metadata": {},
   "outputs": [],
   "source": [
    "sm.Matrix(N+1, N+1, lambda i, j:intgC(i, j))"
   ]
  },
  {
   "cell_type": "code",
   "execution_count": null,
   "metadata": {},
   "outputs": [],
   "source": [
    "def intgD(i, j):\n",
    "    if i == j == 0:\n",
    "         return sm.simplify(phi(i)*phi(j).diff(x))\n",
    "    elif i == j == N:\n",
    "        return sm.simplify(phi(i)*phi(j).diff(x))\n",
    "    elif i == j:\n",
    "        return sm.simplify(phi(i)*phi(j).diff(x)) + sm.simplify(phi(i)*phi(j).diff(x))\n",
    "    elif i > j:\n",
    "        return sm.simplify(phi(i)*phi(j).diff(x))\n",
    "    else:\n",
    "        return sm.simplify(phi(i)*phi(j).diff(x))\n",
    "        "
   ]
  },
  {
   "cell_type": "markdown",
   "metadata": {},
   "source": [
    "sm.Matrix(N+1, 1, lambda k, _:sm.Matrix(N+1, N+1, lambda i, j:intgB(k,i, j)))"
   ]
  },
  {
   "cell_type": "markdown",
   "metadata": {},
   "source": [
    "sm.Matrix(N+1, N+1, lambda i, j:intgD(i, j))"
   ]
  },
  {
   "cell_type": "markdown",
   "metadata": {},
   "source": [
    "sm.simplify(phi(0)*phi(0).diff(x))"
   ]
  },
  {
   "cell_type": "code",
   "execution_count": 34,
   "metadata": {},
   "outputs": [],
   "source": [
    "x, t, k, beta, i, j , h= sm.symbols(\"x t k beta i j H\")\n",
    "N = sm.symbols(\"N\")"
   ]
  },
  {
   "cell_type": "code",
   "execution_count": null,
   "metadata": {},
   "outputs": [],
   "source": []
  },
  {
   "cell_type": "code",
   "execution_count": 35,
   "metadata": {},
   "outputs": [],
   "source": [
    "u = sm.exp(t) * sm.sin(sm. pi*x)"
   ]
  },
  {
   "cell_type": "code",
   "execution_count": 36,
   "metadata": {},
   "outputs": [],
   "source": [
    "expr = u.diff(t)  + beta* u.diff(x, 2) "
   ]
  },
  {
   "cell_type": "code",
   "execution_count": 37,
   "metadata": {},
   "outputs": [
    {
     "data": {
      "image/png": "[encoded data removed]",
      "text/latex": [
       "$\\displaystyle - \\left(\\pi^{2} \\beta - 1\\right) e^{t} \\sin{\\left(\\pi x \\right)}$"
      ],
      "text/plain": [
       " ⎛ 2      ⎞  t         \n",
       "-⎝π ⋅β - 1⎠⋅ℯ ⋅sin(π⋅x)"
      ]
     },
     "execution_count": 37,
     "metadata": {},
     "output_type": "execute_result"
    }
   ],
   "source": [
    "sm.factor(expr)"
   ]
  },
  {
   "cell_type": "code",
   "execution_count": 38,
   "metadata": {},
   "outputs": [],
   "source": [
    "\n",
    "k = sm.abc.k\n",
    "\n",
    "pos = sm.expand(sm.integrate(expr*((x-(k-1)*h)/h), (x, h*(k-1),h*k)))\n",
    "neg = sm.expand(sm.integrate(expr*(-(x-(k+1)*h)/h), (x, h*(k),h*(k+1))))\n"
   ]
  },
  {
   "cell_type": "code",
   "execution_count": 42,
   "metadata": {},
   "outputs": [],
   "source": [
    "pos1= pos.coeff(sm.exp(t))\n",
    "pos2= pos.coeff(sm.exp(2*t))\n",
    "\n"
   ]
  },
  {
   "cell_type": "code",
   "execution_count": 43,
   "metadata": {},
   "outputs": [],
   "source": [
    "neg1= neg.coeff(sm.exp(t))\n",
    "neg2= neg.coeff(sm.exp(2*t))"
   ]
  },
  {
   "cell_type": "code",
   "execution_count": 44,
   "metadata": {},
   "outputs": [
    {
     "data": {
      "image/png": "[encoded data removed]",
      "text/latex": [
       "$\\displaystyle - \\frac{\\left(\\pi^{2} \\beta - 1\\right) \\left(\\pi H \\cos{\\left(\\pi H k \\right)} + \\sin{\\left(\\pi H k \\right)} - \\sin{\\left(\\pi H k + \\pi H \\right)}\\right)}{\\pi^{2} H}$"
      ],
      "text/plain": [
       " ⎛ 2      ⎞                                                  \n",
       "-⎝π ⋅β - 1⎠⋅(π⋅H⋅cos(π⋅H⋅k) + sin(π⋅H⋅k) - sin(π⋅H⋅k + π⋅H)) \n",
       "─────────────────────────────────────────────────────────────\n",
       "                              2                              \n",
       "                             π ⋅H                            "
      ]
     },
     "execution_count": 44,
     "metadata": {},
     "output_type": "execute_result"
    }
   ],
   "source": [
    "factor(simplify(neg1))"
   ]
  },
  {
   "cell_type": "code",
   "execution_count": 28,
   "metadata": {},
   "outputs": [
    {
     "data": {
      "text/plain": [
       "('lambda k: ((math.pi**2*beta - 1)*(math.pi*self.H*math.cos(math.pi*self.H*k) - math.sin(math.pi*self.H*k) + math.sin(math.pi*self.H*k - math.pi*self.H))/(math.pi**2*self.H))',\n",
       " 'lambda k: ((math.pi**2*beta - 1)*(math.pi*H*math.cos(math.pi*H*k) - math.sin(math.pi*H*k) + math.sin(math.pi*H*k - math.pi*H))/(math.pi**2*H))')"
      ]
     },
     "execution_count": 28,
     "metadata": {},
     "output_type": "execute_result"
    }
   ],
   "source": [
    "lambdastr(k, factor(simplify(pos1)) + factor(simplify(pos1)))"
   ]
  },
  {
   "cell_type": "code",
   "execution_count": 9,
   "metadata": {},
   "outputs": [
    {
     "data": {
      "text/plain": [
       "('lambda k: (-(math.pi*self.H - math.sin(math.pi*self.H))*(math.pi**2*self.beta - 1)/(math.pi**2*self.H))',\n",
       " 'lambda k: (0)')"
      ]
     },
     "execution_count": 9,
     "metadata": {},
     "output_type": "execute_result"
    }
   ],
   "source": [
    "\n",
    "(lambdastr(k,       factor(simplify(neg1.subs(k, 0)))            ).replace(\"H\",\"self.H\").replace(\"beta\",\"self.beta\"), \n",
    " \n",
    " lambdastr(k, factor(simplify(neg2.subs(k, 0)))     )   .replace(\"H\",\"self.H\").replace(\"beta\",\"self.beta\"))"
   ]
  },
  {
   "cell_type": "code",
   "execution_count": 10,
   "metadata": {},
   "outputs": [
    {
     "data": {
      "text/plain": [
       "('lambda k: (-(math.pi*self.H - math.sin(math.pi*self.H))*(math.pi**2*self.beta - 1)/(math.pi**2*self.H))',\n",
       " 'lambda k: (0)')"
      ]
     },
     "execution_count": 10,
     "metadata": {},
     "output_type": "execute_result"
    }
   ],
   "source": [
    "(lambdastr(k,sm.factor(simplify(pos1.subs(k, N).subs(N*h, 1)))).replace(\"H\",\"self.H\").replace(\"beta\",\"self.beta\"), \n",
    " \n",
    " lambdastr(k,sm.factor(simplify(pos2.subs(k, N).subs(N*h, 1)))).replace(\"H\",\"self.H\").replace(\"beta\",\"self.beta\"))"
   ]
  },
  {
   "cell_type": "code",
   "execution_count": 11,
   "metadata": {},
   "outputs": [
    {
     "data": {
      "text/plain": [
       "('lambda k: (2*(math.pi**2*self.beta - 1)*(math.cos(math.pi*self.H) - 1)*math.sin(math.pi*self.H*k)/(math.pi**2*self.H))',\n",
       " 'lambda k: (0)')"
      ]
     },
     "execution_count": 11,
     "metadata": {},
     "output_type": "execute_result"
    }
   ],
   "source": [
    "\n",
    "(lambdastr(k,       factor(simplify(neg1+pos1) )           ).replace(\"H\",\"self.H\").replace(\"beta\",\"self.beta\"), \n",
    " \n",
    " lambdastr(k, factor(simplify(neg2+pos2)     ))   .replace(\"H\",\"self.H\").replace(\"beta\",\"self.beta\"))"
   ]
  },
  {
   "cell_type": "code",
   "execution_count": null,
   "metadata": {},
   "outputs": [],
   "source": []
  },
  {
   "cell_type": "code",
   "execution_count": null,
   "metadata": {},
   "outputs": [],
   "source": []
  },
  {
   "cell_type": "code",
   "execution_count": null,
   "metadata": {},
   "outputs": [],
   "source": []
  }
 ],
 "metadata": {
  "kernelspec": {
   "display_name": "Python 3",
   "language": "python",
   "name": "python3"
  },
  "language_info": {
   "codemirror_mode": {
    "name": "ipython",
    "version": 3
   },
   "file_extension": ".py",
   "mimetype": "text/x-python",
   "name": "python",
   "nbconvert_exporter": "python",
   "pygments_lexer": "ipython3",
   "version": "3.6.8"
  }
 },
 "nbformat": 4,
 "nbformat_minor": 2
}

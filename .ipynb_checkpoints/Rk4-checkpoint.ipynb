{
 "cells": [
  {
   "cell_type": "code",
   "execution_count": 12,
   "metadata": {},
   "outputs": [],
   "source": [
    "import numpy as np\n",
    "import sympy as sm\n",
    "from scipy.sparse import diags\n",
    "import scipy.sparse as sp\n",
    "\n",
    "#No of basis functions\n",
    "N = 5\n",
    "\n",
    "\n",
    "h = 1/N\n",
    "\n",
    "\n",
    "beta = .5\n",
    "\n",
    "\n",
    "A = sp.csc_matrix(diags([[h/3, *[2*h/3]*(N-1), h/3], [h/6]*(N), [h/6]*(N)], [0, 1, -1] )).transpose()\n",
    "\n",
    "B = sp.csc_matrix(diags([[-.5, *[0]*(N-1), .5], [.5]*(N), [-.5]*(N)], [0, -1, 1])).transpose()\n",
    "B = B.T\n",
    "C = sp.csc_matrix(diags([[1/h, *[2/h]*(N-1), 1/h], [-1/h]*(N), [-1/h]*(N)], [0, -1, 1])).transpose()\n",
    "D = np.zeros(np.shape(C))\n",
    "D[0, 0] =1/h\n",
    "D[1, 0] = -1/h\n",
    "\n",
    "D[N, N] = 1/h\n",
    "D[N - 1, N] = -1/h\n",
    "\n",
    "D = sp.csc_matrix(D).transpose()\n",
    "\n",
    "alpha = np.array([.6]*np.shape(C)[0])\n",
    "alpha = np.vstack(alpha)\n",
    "gamma = np.array([0]*np.shape(C)[0])\n",
    "gamma = np.vstack(gamma)"
   ]
  },
  {
   "cell_type": "code",
   "execution_count": 13,
   "metadata": {},
   "outputs": [
    {
     "data": {
      "text/plain": [
       "array([[0.6],\n",
       "       [0.6],\n",
       "       [0.6],\n",
       "       [0.6],\n",
       "       [0.6],\n",
       "       [0.6]])"
      ]
     },
     "execution_count": 13,
     "metadata": {},
     "output_type": "execute_result"
    }
   ],
   "source": [
    "alpha"
   ]
  },
  {
   "cell_type": "code",
   "execution_count": 14,
   "metadata": {},
   "outputs": [],
   "source": [
    "def renew(alpha=alpha, gamma=gamma):\n",
    "    global I2, I3, I4, I6, I7, I8, I9\n",
    "\n",
    "    I8 = (beta * D).dot(alpha) \n",
    "    I3 =  B .dot(gamma)\n",
    "    I4 = (-beta * C) .dot(alpha) \n",
    "    I7 = (beta * C) .dot(gamma)\n",
    "    I9 = (-beta * D) .dot(gamma) \n",
    "    \n",
    "    \n",
    "    \n",
    "    I2 = [(alpha[0:2].T).dot((np.matrix([[-1/3, 1/3] ,[-1/6, 1/6]]).T).dot(alpha[0:2]))[0,0]]\n",
    "    I2 += [(alpha[j-1:j+2].T).dot((np.matrix([[-1/6, 1/6, 0],\\\n",
    "                                            [-1/3, 0, 1/3],\\\n",
    "                                            [0, -1/6, 1/6]]).T).dot(alpha[j-1:j+2]))[0,0]  for j in range(1, N)]\n",
    "    I2 += [(alpha[-2:].T).dot((np.matrix([[-1/6, 1/6] ,\\\n",
    "                                            [-1/3, 1/3]]).T).dot(alpha[-2:]))[0,0]]\n",
    "    \n",
    "    \n",
    "    \n",
    "\n",
    "    I2 = np.matrix(I2).T\n",
    "    \n",
    "    I10 = [(gamma[0:2].T).dot((np.matrix([[-1/3, 1/3] ,\\\n",
    "                                        [-1/6, 1/6]])).dot(alpha[0:2]))[0,0]]\n",
    "    I10 += [(gamma[j-1:j+2].T).dot((np.matrix([[-1/6, 1/6, 0],\\\n",
    "                                        [-1/3, 0, 1/3],\\\n",
    "                                        [0, -1/6, 1/6]])).dot(alpha[j-1:j+2]))[0,0]  for j in range(1, N)]\n",
    "    I10 += [(gamma[-2:].T).dot((np.matrix([[-1/6, 1/6] ,\\\n",
    "                                        [-1/3, 1/3]])).dot(alpha[-2:]))[0,0]]\n",
    "    I10 = np.matrix(I10).T\n",
    "\n",
    "    \n",
    "    I11 = [(alpha[0:2].T).dot((np.matrix([[-1/3, 1/3] ,\\\n",
    "                                        [-1/6, 1/6]])).dot(gamma[0:2]))[0,0]]\n",
    "    I11 += [(alpha[j-1:j+2].T).dot((np.matrix([[-1/6, 1/6, 0],\\\n",
    "                                        [-1/3, 0, 1/3],\\\n",
    "                                        [0, -1/6, 1/6]])).dot(gamma[j-1:j+2]))[0,0]  for j in range(1, N)]\n",
    "    I11 += [(alpha[-2:].T).dot((np.matrix([[-1/6, 1/6] ,\\\n",
    "                                        [-1/3, 1/3]])).dot(gamma[-2:]))[0,0]]\n",
    "    I11 = np.matrix(I11).T\n",
    "    \n",
    "      \n",
    "    I6 = I11 + I10\n",
    "renew()    "
   ]
  },
  {
   "cell_type": "code",
   "execution_count": 5,
   "metadata": {},
   "outputs": [
    {
     "name": "stderr",
     "output_type": "stream",
     "text": [
      "c:\\users\\dell\\appdata\\local\\programs\\python\\python36\\lib\\site-packages\\scipy\\sparse\\linalg\\dsolve\\linsolve.py:296: SparseEfficiencyWarning: splu requires CSC matrix format\n",
      "  warn('splu requires CSC matrix format', SparseEfficiencyWarning)\n",
      "c:\\users\\dell\\appdata\\local\\programs\\python\\python36\\lib\\site-packages\\scipy\\sparse\\linalg\\dsolve\\linsolve.py:203: SparseEfficiencyWarning: spsolve is more efficient when sparse b is in the CSC matrix format\n",
      "  'is in the CSC matrix format', SparseEfficiencyWarning)\n"
     ]
    }
   ],
   "source": [
    "import scipy.sparse.linalg as la\n",
    "\n",
    "def rk4(n=1, k = h**2):\n",
    "    \n",
    "    global A, I2, I3, I4, I6, I7, I8, I9, alpha, gamma\n",
    "    for i in range(n):\n",
    "        m = la.inv(A)\n",
    "        \n",
    "        k11 = -k* m.dot(I2 + I3 + I8 + I4)\n",
    "        k12 = -k* m.dot(I7 + I6 + I9)\n",
    "        \n",
    "        alpha_new = alpha + k11/2\n",
    "        gamma_new = gamma + k12/2\n",
    "        \n",
    "        \n",
    "        renew(alpha_new, gamma_new)\n",
    "        \n",
    "        k21 = k*(-m.dot(I2 + I3 + I8 + I4))\n",
    "        k22 = k*( - m.dot(I7 + I6 + I9))\n",
    "    \n",
    "        alpha_new = alpha + k21/2\n",
    "        gamma_new = gamma + k22/2\n",
    "        \n",
    "        renew(alpha_new, gamma_new)\n",
    "        \n",
    "        k31 = k*(-m.dot(I2 + I3 + I8 + I4) )\n",
    "        k32 = k*( - m.dot(I7 + I6 + I9))\n",
    "        \n",
    "        alpha_new = alpha + k31\n",
    "        gamma_new = gamma + k32\n",
    "        \n",
    "        renew(alpha_new, gamma_new)\n",
    "        \n",
    "        k41 = k*(-m.dot(I2 + I3 + I8 + I4) )\n",
    "        k42 = k*( - m.dot(I7 + I6 + I9))\n",
    "        \n",
    "        alpha = alpha + (1/6)*(k11 + 2*k21 + 2*k31 + k41)\n",
    "        gamma = gamma + (1/6)*(k12 + 2*k22 + 2*k32 + k42)\n",
    "\n",
    "        renew(alpha, gamma)\n",
    "        \n",
    "        \n",
    "\n",
    "        \n",
    "rk4()"
   ]
  },
  {
   "cell_type": "code",
   "execution_count": 6,
   "metadata": {},
   "outputs": [
    {
     "data": {
      "text/plain": [
       "matrix([[0.6],\n",
       "        [0.6],\n",
       "        [0.6],\n",
       "        [0.6],\n",
       "        [0.6],\n",
       "        [0.6]])"
      ]
     },
     "execution_count": 6,
     "metadata": {},
     "output_type": "execute_result"
    }
   ],
   "source": [
    "alpha"
   ]
  },
  {
   "cell_type": "code",
   "execution_count": 7,
   "metadata": {},
   "outputs": [],
   "source": [
    "u_real = []\n",
    "v_real = []\n",
    "l = .005\n",
    "k = 1.5\n",
    "x0 = 10\n",
    "\n",
    "t = h**2\n",
    "for i in [j*h for j in range(N+1)]:\n",
    "    u_real += [l - k * beta *1/np.tanh(k*(i+x0) - l * t)]\n",
    "    v_real += [-k**2 *1/(np.sinh(k*(i + x0) - l *t))**2 ]"
   ]
  },
  {
   "cell_type": "code",
   "execution_count": 8,
   "metadata": {},
   "outputs": [
    {
     "data": {
      "text/plain": [
       "[-0.7450000000001404,\n",
       " -0.7450000000000772,\n",
       " -0.7450000000000423,\n",
       " -0.7450000000000232,\n",
       " -0.7450000000000128,\n",
       " -0.745000000000007]"
      ]
     },
     "execution_count": 8,
     "metadata": {},
     "output_type": "execute_result"
    }
   ],
   "source": [
    "u_real"
   ]
  },
  {
   "cell_type": "code",
   "execution_count": 9,
   "metadata": {},
   "outputs": [
    {
     "data": {
      "text/plain": [
       "[-8.425230090065205e-13,\n",
       " -4.623864310196928e-13,\n",
       " -2.5376305371558213e-13,\n",
       " -1.3926811668986223e-13,\n",
       " -7.643196297629536e-14,\n",
       " -4.1946750650898623e-14]"
      ]
     },
     "execution_count": 9,
     "metadata": {},
     "output_type": "execute_result"
    }
   ],
   "source": [
    "v_real"
   ]
  },
  {
   "cell_type": "code",
   "execution_count": 10,
   "metadata": {},
   "outputs": [],
   "source": [
    "import matplotlib.pyplot as plt"
   ]
  },
  {
   "cell_type": "code",
   "execution_count": 11,
   "metadata": {},
   "outputs": [
    {
     "data": {
      "text/plain": [
       "[<matplotlib.lines.Line2D at 0x2c2e26cf438>,\n",
       " <matplotlib.lines.Line2D at 0x2c2e26cf5c0>]"
      ]
     },
     "execution_count": 11,
     "metadata": {},
     "output_type": "execute_result"
    },
    {
     "data": {
      "image/png": "[encoded data removed]",
      "text/plain": [
       "<Figure size 432x288 with 1 Axes>"
      ]
     },
     "metadata": {
      "needs_background": "light"
     },
     "output_type": "display_data"
    }
   ],
   "source": [
    "plt.plot(u_real,\"bo\",alpha,\"ro\")"
   ]
  },
  {
   "cell_type": "code",
   "execution_count": null,
   "metadata": {},
   "outputs": [],
   "source": []
  },
  {
   "cell_type": "code",
   "execution_count": null,
   "metadata": {},
   "outputs": [],
   "source": []
  },
  {
   "cell_type": "code",
   "execution_count": null,
   "metadata": {},
   "outputs": [],
   "source": []
  }
 ],
 "metadata": {
  "kernelspec": {
   "display_name": "Python 3",
   "language": "python",
   "name": "python3"
  },
  "language_info": {
   "codemirror_mode": {
    "name": "ipython",
    "version": 3
   },
   "file_extension": ".py",
   "mimetype": "text/x-python",
   "name": "python",
   "nbconvert_exporter": "python",
   "pygments_lexer": "ipython3",
   "version": "3.6.8"
  }
 },
 "nbformat": 4,
 "nbformat_minor": 2
}
